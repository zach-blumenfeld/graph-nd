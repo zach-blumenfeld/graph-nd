{
 "cells": [
  {
   "metadata": {},
   "cell_type": "markdown",
   "source": [
    "# Retail Example\n",
    "Exact Schema and Expert Tools"
   ],
   "id": "64d9917bb1bae013"
  },
  {
   "metadata": {},
   "cell_type": "markdown",
   "source": "## Setup",
   "id": "8ea05f6f20b5cb71"
  },
  {
   "metadata": {
    "ExecuteTime": {
     "end_time": "2025-04-13T22:12:53.153603Z",
     "start_time": "2025-04-13T22:12:52.321169Z"
    }
   },
   "cell_type": "code",
   "source": [
    "import os\n",
    "\n",
    "from snowflake.snowpark.functions import column\n",
    "\n",
    "parent_dir = os.getcwd()\n",
    "data_dir = os.path.join(parent_dir, \"data\")\n",
    "data_model_dir = os.path.join(parent_dir, \"data-models\")\n",
    "\n",
    "print(\"Parent directory:\", parent_dir)\n",
    "print(\"Data directory:\", data_dir)\n",
    "print(\"Data model directory:\", data_model_dir)\n"
   ],
   "id": "b498d3ac2a9f34fe",
   "outputs": [
    {
     "name": "stdout",
     "output_type": "stream",
     "text": [
      "Parent directory: /Users/zachblumenfeld/demo/graphrag-nd/examples/retail\n",
      "Data directory: /Users/zachblumenfeld/demo/graphrag-nd/examples/retail/data\n",
      "Data model directory: /Users/zachblumenfeld/demo/graphrag-nd/examples/retail/data-models\n"
     ]
    }
   ],
   "execution_count": 1
  },
  {
   "metadata": {
    "ExecuteTime": {
     "end_time": "2025-04-13T22:12:53.169682Z",
     "start_time": "2025-04-13T22:12:53.162917Z"
    }
   },
   "cell_type": "code",
   "source": [
    "from dotenv import load_dotenv\n",
    "\n",
    "\n",
    "load_dotenv('.env', override=True)\n",
    "\n",
    "uri = os.getenv('NEO4J_URI_MED')\n",
    "username = os.getenv('NEO4J_USERNAME_MED')\n",
    "password = os.getenv('NEO4J_PASSWORD_MED')"
   ],
   "id": "8fed9b1f4390a3d6",
   "outputs": [],
   "execution_count": 2
  },
  {
   "metadata": {},
   "cell_type": "markdown",
   "source": [
    "## Drafting Graph Schemas\n",
    "Creating graph schemas for production is an iterative process requiring reviews, version controls, and some trial and error.\n",
    "graph-nd is designed to support this process.\n",
    "To get started you can create an initial graph schema from any JSON-like file. For example, you can start with other data modeling tools, such as the Neo4j Data Importer, and export the resulting schema to a file. GraphRAG can then map this to an initial graph schema, which experts can refine further as needed.\n"
   ],
   "id": "a325d29633f916d7"
  },
  {
   "metadata": {
    "ExecuteTime": {
     "end_time": "2025-04-13T22:13:06.578623Z",
     "start_time": "2025-04-13T22:12:54.849403Z"
    }
   },
   "cell_type": "code",
   "source": [
    "from graph_nd import GraphRAG\n",
    "from langchain_openai import ChatOpenAI\n",
    "\n",
    "\n",
    "#file names\n",
    "json_file = os.path.join(data_model_dir, \"neo4j-importer-draft.json\")\n",
    "graph_schema_v1 = os.path.join(data_model_dir, \"graph-schema-v1.json\")\n",
    "\n",
    "# LLM\n",
    "llm=ChatOpenAI(model=\"gpt-4o\", temperature=0.0)\n",
    "\n",
    "# draft v1 graph-schema from neo4j importer model\n",
    "(GraphRAG(llm=llm).schema\n",
    " .from_json_like_file(json_file)\n",
    " .export(graph_schema_v1))"
   ],
   "id": "89e9e77e5054e85",
   "outputs": [
    {
     "name": "stdout",
     "output_type": "stream",
     "text": [
      "[Schema] Successfully Crafted schema\n"
     ]
    }
   ],
   "execution_count": 3
  },
  {
   "metadata": {},
   "cell_type": "markdown",
   "source": [
    "## Tracking & Loading Schemas\n",
    "You can iterate, track, and re-load these graph schema files. Allowing you to have __precise, version controlled, expert crafted schemas__. Below is how you load a graph schema for use"
   ],
   "id": "15507ab7c5b9550e"
  },
  {
   "metadata": {
    "ExecuteTime": {
     "end_time": "2025-04-13T22:13:06.661324Z",
     "start_time": "2025-04-13T22:13:06.585089Z"
    }
   },
   "cell_type": "code",
   "source": [
    "from graph_nd import GraphRAG\n",
    "from neo4j import GraphDatabase\n",
    "from langchain_openai import OpenAIEmbeddings, ChatOpenAI\n",
    "\n",
    "db_client = GraphDatabase.driver(uri, auth=(username, password))\n",
    "embedding_model = OpenAIEmbeddings(model='text-embedding-ada-002')\n",
    "llm = ChatOpenAI(model=\"gpt-4o\", temperature=0.0)\n",
    "schema_file = os.path.join(data_model_dir, \"graph-schema-finalized.json\")\n",
    "\n",
    "# instantiate graphrag\n",
    "graphrag = GraphRAG(db_client, llm, embedding_model)\n",
    "\n",
    "# load schema\n",
    "graphrag.schema.load(schema_file)"
   ],
   "id": "8473be73cb345c5c",
   "outputs": [
    {
     "name": "stdout",
     "output_type": "stream",
     "text": [
      "[Schema] Schema successfully loaded from /Users/zachblumenfeld/demo/graphrag-nd/examples/retail/data-models/graph-schema-finalized.json\n"
     ]
    }
   ],
   "execution_count": 4
  },
  {
   "metadata": {},
   "cell_type": "code",
   "outputs": [],
   "execution_count": null,
   "source": "",
   "id": "3ae42006f2939165"
  },
  {
   "metadata": {},
   "cell_type": "markdown",
   "source": [
    "## Map Tabular Data\n",
    "We can map data with our own custom logic for precision before merging nodes and relationship records"
   ],
   "id": "d0c9979b271decb3"
  },
  {
   "metadata": {
    "ExecuteTime": {
     "end_time": "2025-04-13T22:13:17.391653Z",
     "start_time": "2025-04-13T22:13:06.666442Z"
    }
   },
   "cell_type": "code",
   "source": [
    "import pandas as pd\n",
    "\n",
    "ingest_id = \"my-tabular-data-ingest\"\n",
    "graphrag.data.nuke()"
   ],
   "id": "9683a20778c0f522",
   "outputs": [],
   "execution_count": 5
  },
  {
   "metadata": {
    "ExecuteTime": {
     "end_time": "2025-04-13T22:13:18.412878Z",
     "start_time": "2025-04-13T22:13:17.398333Z"
    }
   },
   "cell_type": "code",
   "source": [
    "customer_df = pd.read_csv(os.path.join(data_dir, \"customers.csv\"))\n",
    "records = customer_df[[ \"customerId\", \"postalCode\", \"age\", \"fashionNewsFrequency\", \"clubMemberStatus\"]].to_dict(orient=\"records\")\n",
    "\n",
    "graphrag.data.merge_nodes(\"Customer\", records, source_metadata={\"ingest_id\": ingest_id})"
   ],
   "id": "e7d79c1d255638af",
   "outputs": [],
   "execution_count": 6
  },
  {
   "metadata": {
    "ExecuteTime": {
     "end_time": "2025-04-13T22:15:20.260893Z",
     "start_time": "2025-04-13T22:14:26.907776Z"
    }
   },
   "cell_type": "code",
   "source": [
    "product_df = pd.read_csv(os.path.join(data_dir, \"products.csv\"))\n",
    "product_df['text'] = (\"##Product \\n\"\n",
    "\"Name: \" + product_df['prodName'].fillna('') + \"\\n\"\n",
    "\"Type: \" + product_df['productTypeName'].fillna('') + \"\\n\"\n",
    "\"Category: \" + product_df['productGroupName'].fillna('') + \"\\n\"\n",
    "\"Description: \" + product_df['detailDesc'].fillna('')\n",
    ")\n",
    "product_df['url']= \"https://xyzbrands/product/\" + product_df['productCode'].astype(str)\n",
    "product_df.rename(columns={\"prodName\": \"name\", \"detailDesc\":\"description\"}, inplace=True)\n",
    "\n",
    "\n",
    "prod_records = product_df[[ \"productCode\", \"name\", \"description\", \"url\", \"text\"]].to_dict(orient=\"records\")\n",
    "\n",
    "print(\"This will take a minute or so because it is embedding the 'text' field....\")\n",
    "graphrag.data.merge_nodes(\"Product\", prod_records, source_metadata={\"ingest_id\": ingest_id})"
   ],
   "id": "da00f7a9403fe547",
   "outputs": [
    {
     "name": "stdout",
     "output_type": "stream",
     "text": [
      "This will take a minute or so because it is embedding the 'text' field....\n"
     ]
    }
   ],
   "execution_count": 8
  },
  {
   "metadata": {
    "ExecuteTime": {
     "end_time": "2025-04-13T22:15:22.260332Z",
     "start_time": "2025-04-13T22:15:20.265037Z"
    }
   },
   "cell_type": "code",
   "source": [
    "prod_cat_records = (product_df[['productCode', 'productGroupName']]\n",
    "                    .rename(columns={'productCode':'start_node_id', 'productGroupName':'end_node_id'})\n",
    "                    .to_dict(orient=\"records\"))\n",
    "\n",
    "graphrag.data.merge_relationships(rel_type='PART_OF',\n",
    "                                  start_node_label='Product',\n",
    "                                  end_node_label='ProductCategory',\n",
    "                                  records=prod_cat_records,\n",
    "                                  source_metadata={\"ingest_id\": ingest_id})"
   ],
   "id": "cef973d6baede6bd",
   "outputs": [],
   "execution_count": 9
  },
  {
   "metadata": {
    "ExecuteTime": {
     "end_time": "2025-04-13T22:15:24.092332Z",
     "start_time": "2025-04-13T22:15:22.273643Z"
    }
   },
   "cell_type": "code",
   "source": [
    "prod_type_records = (product_df[['productCode', 'productTypeName']]\n",
    "                    .rename(columns={'productCode':'start_node_id', 'productTypeName':'end_node_id'})\n",
    "                    .to_dict(orient=\"records\"))\n",
    "\n",
    "graphrag.data.merge_relationships(rel_type='PART_OF',\n",
    "                                  start_node_label='Product',\n",
    "                                  end_node_label='ProductType',\n",
    "                                  records=prod_type_records,\n",
    "                                  source_metadata={\"ingest_id\": ingest_id})"
   ],
   "id": "de5c005a5045a0aa",
   "outputs": [],
   "execution_count": 10
  },
  {
   "metadata": {
    "ExecuteTime": {
     "end_time": "2025-04-13T22:15:26.578394Z",
     "start_time": "2025-04-13T22:15:24.111854Z"
    }
   },
   "cell_type": "code",
   "source": [
    "article_df = pd.read_csv(os.path.join(data_dir, \"articles.csv\"))\n",
    "\n",
    "article_records = article_df[[\"articleId\", \"colourGroupCode\", \"colourGroupName\", \"graphicalAppearanceName\", \"graphicalAppearanceNo\"]].to_dict(orient=\"records\")\n",
    "\n",
    "graphrag.data.merge_nodes(\"Article\", article_records, source_metadata={\"ingest_id\": ingest_id})\n"
   ],
   "id": "1cea10687c1c29dd",
   "outputs": [],
   "execution_count": 11
  },
  {
   "metadata": {
    "ExecuteTime": {
     "end_time": "2025-04-13T22:15:29.155724Z",
     "start_time": "2025-04-13T22:15:26.586773Z"
    }
   },
   "cell_type": "code",
   "source": [
    "variant_records = (article_df[['articleId', 'productCode']]\n",
    "                    .rename(columns={'articleId':'start_node_id', 'productCode':'end_node_id'})\n",
    "                    .to_dict(orient=\"records\"))\n",
    "\n",
    "graphrag.data.merge_relationships(rel_type='VARIANT_OF',\n",
    "                                  start_node_label='Article',\n",
    "                                  end_node_label='Product',\n",
    "                                  records=variant_records,\n",
    "                                  source_metadata={\"ingest_id\": ingest_id})"
   ],
   "id": "d0331e51ecba49a1",
   "outputs": [],
   "execution_count": 12
  },
  {
   "metadata": {
    "ExecuteTime": {
     "end_time": "2025-04-13T22:15:31.481773Z",
     "start_time": "2025-04-13T22:15:29.164788Z"
    }
   },
   "cell_type": "code",
   "source": [
    "supplied_by_records = (article_df[['articleId', 'supplierId']]\n",
    "                    .rename(columns={'articleId':'start_node_id', 'supplierId':'end_node_id'})\n",
    "                    .to_dict(orient=\"records\"))\n",
    "graphrag.data.merge_relationships(rel_type='SUPPLIED_BY',\n",
    "                                  start_node_label='Article',\n",
    "                                  end_node_label='Supplier',\n",
    "                                  records=supplied_by_records,\n",
    "                                  source_metadata={\"ingest_id\": ingest_id})"
   ],
   "id": "feb10adcb076539a",
   "outputs": [],
   "execution_count": 13
  },
  {
   "metadata": {
    "ExecuteTime": {
     "end_time": "2025-04-13T22:15:31.941893Z",
     "start_time": "2025-04-13T22:15:31.500666Z"
    }
   },
   "cell_type": "code",
   "source": [
    "supplier_df = pd.read_csv(os.path.join(data_dir, \"suppliers.csv\"))\n",
    "supplier_records = supplier_df.rename(columns={\"supplierName\": \"name\", \"supplierAddress\": \"address\"}).to_dict(orient=\"records\")\n",
    "graphrag.data.merge_nodes(\"Supplier\", supplier_records, source_metadata={\"ingest_id\": ingest_id})"
   ],
   "id": "dd084974fcb913ed",
   "outputs": [],
   "execution_count": 14
  },
  {
   "metadata": {
    "ExecuteTime": {
     "end_time": "2025-04-13T22:15:33.150886Z",
     "start_time": "2025-04-13T22:15:31.953074Z"
    }
   },
   "cell_type": "code",
   "source": [
    "order_df = pd.read_csv(os.path.join(data_dir, \"order-details.csv\"))\n",
    "order_records = order_df[['orderId', 'tDat']].drop_duplicates().rename(columns={'tDat':'date'}).to_dict(orient=\"records\")\n",
    "graphrag.data.merge_nodes(\"Order\", order_records, source_metadata={\"ingest_id\": ingest_id})"
   ],
   "id": "22e4c9279c14cac2",
   "outputs": [],
   "execution_count": 15
  },
  {
   "metadata": {
    "ExecuteTime": {
     "end_time": "2025-04-13T22:15:34.687544Z",
     "start_time": "2025-04-13T22:15:33.168190Z"
    }
   },
   "cell_type": "code",
   "source": [
    "ordered_records = order_df[['customerId', 'orderId']].drop_duplicates().rename(columns={'customerId':'start_node_id', 'orderId':'end_node_id'}).to_dict(orient=\"records\")\n",
    "graphrag.data.merge_relationships(rel_type='ORDERED',\n",
    "                                  start_node_label='Customer',\n",
    "                                  end_node_label='Order',\n",
    "                                  records=ordered_records,\n",
    "                                  source_metadata={\"ingest_id\": ingest_id})"
   ],
   "id": "831eaabac94f914c",
   "outputs": [],
   "execution_count": 16
  },
  {
   "metadata": {
    "ExecuteTime": {
     "end_time": "2025-04-13T22:15:39.199162Z",
     "start_time": "2025-04-13T22:15:34.696331Z"
    }
   },
   "cell_type": "code",
   "source": [
    "contains_records = (order_df[['orderId', 'articleId', 'txId', 'price']]).rename(columns={'orderId':'start_node_id', 'articleId':'end_node_id'}).to_dict(orient=\"records\")\n",
    "graphrag.data.merge_relationships(rel_type='CONTAINS',\n",
    "                                  start_node_label='Order',\n",
    "                                  end_node_label='Article',\n",
    "                                  records=contains_records,\n",
    "                                  source_metadata={\"ingest_id\": ingest_id})\n",
    "\n",
    "#contains_records"
   ],
   "id": "6515c7467516062f",
   "outputs": [],
   "execution_count": 17
  },
  {
   "metadata": {},
   "cell_type": "markdown",
   "source": [
    "### LLM powered Tabular Mappings Are Still Decent BTW\n",
    "You can experiment by turning this off and comparing they are in fact the same."
   ],
   "id": "1de4029f15cfdcca"
  },
  {
   "metadata": {},
   "cell_type": "code",
   "outputs": [],
   "execution_count": null,
   "source": "",
   "id": "51205546540d2ca8"
  },
  {
   "metadata": {},
   "cell_type": "markdown",
   "source": [
    "## Text Extraction From PDF\n",
    "We can Add Schema Subsets here for precision. This would also let us pass custom directions for target schema"
   ],
   "id": "268531cc274e0d73"
  },
  {
   "metadata": {
    "ExecuteTime": {
     "end_time": "2025-04-13T22:19:04.854034Z",
     "start_time": "2025-04-13T22:17:12.724467Z"
    }
   },
   "cell_type": "code",
   "source": [
    "from graph_nd import SubSchema\n",
    "\n",
    "for i in range(2):\n",
    "    graphrag.data.merge_pdf(os.path.join(data_dir, 'credit-notes.pdf'),\n",
    "                            nodes_only=False,\n",
    "                            sub_schema=SubSchema(\n",
    "                                patterns=[('CreditNote','REFUND_FOR_ORDER', 'Order'), ('CreditNote',\"REFUND_OF_ARTICLE\", 'Article')]\n",
    "                            ))"
   ],
   "id": "b6ff9374080426d9",
   "outputs": [
    {
     "name": "stdout",
     "output_type": "stream",
     "text": [
      "[Data] Merging data from document: /Users/zachblumenfeld/demo/graphrag-nd/examples/retail/data/credit-notes.pdf\n"
     ]
    },
    {
     "name": "stderr",
     "output_type": "stream",
     "text": [
      "Extracting entities from text: 100%|██████████| 31/31 [00:47<00:00,  1.54s/it]\n"
     ]
    },
    {
     "name": "stdout",
     "output_type": "stream",
     "text": [
      "Consolidating results...\n"
     ]
    },
    {
     "name": "stderr",
     "output_type": "stream",
     "text": [
      "Merging Nodes by Label: 100%|██████████| 3/3 [00:04<00:00,  1.62s/node]\n",
      "Merging Relationships by Type & Pattern: 100%|██████████| 2/2 [00:01<00:00,  1.88rel/s]\n"
     ]
    },
    {
     "name": "stdout",
     "output_type": "stream",
     "text": [
      "[Data] Merging data from document: /Users/zachblumenfeld/demo/graphrag-nd/examples/retail/data/credit-notes.pdf\n"
     ]
    },
    {
     "name": "stderr",
     "output_type": "stream",
     "text": [
      "Extracting entities from text: 100%|██████████| 31/31 [00:53<00:00,  1.71s/it]\n"
     ]
    },
    {
     "name": "stdout",
     "output_type": "stream",
     "text": [
      "Consolidating results...\n"
     ]
    },
    {
     "name": "stderr",
     "output_type": "stream",
     "text": [
      "Merging Nodes by Label: 100%|██████████| 3/3 [00:03<00:00,  1.32s/node]\n",
      "Merging Relationships by Type & Pattern: 100%|██████████| 2/2 [00:01<00:00,  1.86rel/s]\n"
     ]
    }
   ],
   "execution_count": 18
  },
  {
   "metadata": {},
   "cell_type": "markdown",
   "source": "## Test an Agent",
   "id": "ba79be6f05b515c1"
  },
  {
   "metadata": {
    "ExecuteTime": {
     "end_time": "2025-04-13T22:20:02.735633Z",
     "start_time": "2025-04-13T22:19:56.842771Z"
    }
   },
   "cell_type": "code",
   "source": "graphrag.agent(\"Which suppliers where responsible for the most refunds\")",
   "id": "54d065512fc81db0",
   "outputs": [
    {
     "name": "stdout",
     "output_type": "stream",
     "text": [
      "================================\u001B[1m Human Message \u001B[0m=================================\n",
      "\n",
      "Which suppliers where responsible for the most refunds\n",
      "==================================\u001B[1m Ai Message \u001B[0m==================================\n",
      "Tool Calls:\n",
      "  aggregate (call_JmZHV39l9jAhyihEaTnMjBRK)\n",
      " Call ID: call_JmZHV39l9jAhyihEaTnMjBRK\n",
      "  Args:\n",
      "    agg_instructions: Aggregate the number of refunds for each supplier by counting the number of CreditNote nodes connected to Article nodes, which are in turn connected to Supplier nodes. Return the suppliers with the highest number of refunds.\n",
      "Running Query:\n",
      "MATCH (cn:CreditNote)-[:REFUND_OF_ARTICLE]->(a:Article)-[:SUPPLIED_BY]->(s:Supplier)\n",
      "RETURN s.name AS supplierName, COUNT(cn) AS numberOfRefunds\n",
      "ORDER BY numberOfRefunds DESC\n",
      "=================================\u001B[1m Tool Message \u001B[0m=================================\n",
      "Name: aggregate\n",
      "\n",
      "[\n",
      "    {\n",
      "        \"supplierName\": \"1616 - Textile & Apparel Manufacturing\",\n",
      "        \"numberOfRefunds\": 45\n",
      "    },\n",
      "    {\n",
      "        \"supplierName\": \"1779 - Denim Textiles\",\n",
      "        \"numberOfRefunds\": 42\n",
      "    },\n",
      "    {\n",
      "        \"supplierName\": \"3708 - Textile & Apparel Manufacturing\",\n",
      "        \"numberOfRefunds\": 40\n",
      "    },\n",
      "    {\n",
      "        \"supplierName\": \"1643 - Textile & Apparel Manufacturing\",\n",
      "        \"numberOfRefunds\": 39\n",
      "    },\n",
      "    {\n",
      "        \"supplierName\": \"5832 - Jersey Mills\",\n",
      "        \"numberOfRefunds\": 26\n",
      "    },\n",
      "    {\n",
      "        \"supplierName\": \"1339 - Intimate Apparel Suppliers\",\n",
      "        \"numberOfRefunds\": 15\n",
      "    },\n",
      "    {\n",
      "        \"supplierName\": \"1422 - Textile & Apparel Manufacturing\",\n",
      "        \"numberOfRefunds\": 14\n",
      "    },\n",
      "    {\n",
      "        \"supplierName\": \"1778 - Textile & Apparel Manufacturing\",\n",
      "        \"numberOfRefunds\": 12\n",
      "    },\n",
      "    {\n",
      "        \"supplierName\": \"1201 - Outerwear Suppliers\",\n",
      "        \"numberOfRefunds\": 11\n",
      "    },\n",
      "    {\n",
      "        \"supplierName\": \"3610 - Sock & Hosiery Production\",\n",
      "        \"numberOfRefunds\": 10\n",
      "    },\n",
      "    {\n",
      "        \"supplierName\": \"3936 - Textile & Apparel Manufacturing\",\n",
      "        \"numberOfRefunds\": 10\n",
      "    },\n",
      "    {\n",
      "        \"supplierName\": \"1666 - Jersey Mills\",\n",
      "        \"numberOfRefunds\": 9\n",
      "    },\n",
      "    {\n",
      "        \"supplierName\": \"1772 - Denim Textiles\",\n",
      "        \"numberOfRefunds\": 9\n",
      "    },\n",
      "    {\n",
      "        \"supplierName\": \"5868 - Textile & Apparel Manufacturing\",\n",
      "        \"numberOfRefunds\": 6\n",
      "    },\n",
      "    {\n",
      "        \"supplierName\": \"3932 - Textile & Apparel Manufacturing\",\n",
      "        \"numberOfRefunds\": 5\n",
      "    },\n",
      "    {\n",
      "        \"supplierName\": \"2032 - Jersey Mills\",\n",
      "        \"numberOfRefunds\": 5\n",
      "    },\n",
      "    {\n",
      "        \"supplierName\": \"1649 - Trousers & Slacks Mills\",\n",
      "        \"numberOfRefunds\": 4\n",
      "    },\n",
      "    {\n",
      "        \"supplierName\": \"1773 - Denim Textiles\",\n",
      "        \"numberOfRefunds\": 4\n",
      "    }\n",
      "]\n",
      "==================================\u001B[1m Ai Message \u001B[0m==================================\n",
      "\n",
      "The suppliers responsible for the most refunds are:\n",
      "\n",
      "1. **1616 - Textile & Apparel Manufacturing** with 45 refunds.\n",
      "2. **1779 - Denim Textiles** with 42 refunds.\n",
      "3. **3708 - Textile & Apparel Manufacturing** with 40 refunds.\n",
      "4. **1643 - Textile & Apparel Manufacturing** with 39 refunds.\n",
      "5. **5832 - Jersey Mills** with 26 refunds.\n",
      "\n",
      "These suppliers have the highest number of refunds associated with them.\n"
     ]
    }
   ],
   "execution_count": 20
  },
  {
   "metadata": {},
   "cell_type": "markdown",
   "source": [
    "## Create Expert Tools For Retrieval\n",
    "For Our use case there may be some specific query templates and retrieval methodologies"
   ],
   "id": "ad15f7255f6452f2"
  },
  {
   "metadata": {
    "ExecuteTime": {
     "end_time": "2025-04-13T23:11:35.857271Z",
     "start_time": "2025-04-13T23:11:35.853345Z"
    }
   },
   "cell_type": "code",
   "source": [
    "from typing import List, Dict\n",
    "\n",
    "\n",
    "def get_product_recommendations(product_codes_or_article_ids: List[int]) -> List[Dict]:\n",
    "    \"\"\"\n",
    "    Retrieve product recommendations given a list of product codes or articles ids.\n",
    "    Please re-order or filter further based on additional context from user.\n",
    "    \"\"\"\n",
    "    res = db_client.execute_query(\"\"\"\n",
    "    //recommend from product codes\n",
    "    MATCH (customer:Customer)-[:ORDERED]->()-[:CONTAINS]->()-[:VARIANT_OF]->\n",
    "    (interestedInProducts:Product)<-[:VARIANT_OF]-(interestedInArticles:Article)<-[:CONTAINS]-()<-[:ORDERED]\n",
    "    -(:Customer)-[:ORDERED]->()-[:CONTAINS]->(recArticle:Article)-[:VARIANT_OF]->(product:Product)\n",
    "    WHERE (interestedInArticles.articleId IN $itemIds)\n",
    "        OR (interestedInProducts.productCode IN $itemIds)\n",
    "    WITH count(recArticle) AS recommendationScore, product\n",
    "    RETURN product.productCode AS productCode,\n",
    "        product.text AS text,\n",
    "        product.url AS url\n",
    "    ORDER BY recommendationScore DESC LIMIT 20\n",
    "    \"\"\", itemIds=product_codes_or_article_ids, result_transformer_ = lambda r: r.data())\n",
    "    return res\n",
    "\n",
    "\n",
    "def get_product_order_supplier_info(product_codes: List[int]) -> List[Dict]:\n",
    "    \"\"\"\n",
    "    Given a list of product codes, gets statistics for total orders and refunds as well as by supplier for each product.\n",
    "    \"\"\"\n",
    "    res = db_client.execute_query(\"\"\"\n",
    "    MATCH(p:Product)<-[:VARIANT_OF]-(a:Article)-[:SUPPLIED_BY]->(s)\n",
    "    WHERE p.productCode IN $productCodes\n",
    "    WITH *,\n",
    "      COUNT {MATCH (:Order)-[:CONTAINS]->(a)} AS numberOfOrders,\n",
    "      COUNT {MATCH (:CreditNote)-[:REFUND_OF_ARTICLE]-(a)} AS numberOfRefunds\n",
    "    RETURN p.productCode AS productCode,\n",
    "      sum(numberOfOrders) AS totalOrders,\n",
    "      sum(numberOfRefunds) AS totalReturns,\n",
    "      collect({supplierId:s.supplierId, name:s.name, numberOfOrders:numberOfOrders, numberOfRefunds:numberOfRefunds}) AS supplierInfos\n",
    "    \"\"\", productCodes=product_codes, result_transformer_ = lambda r: r.data())\n",
    "    return res\n",
    "\n",
    "def get_supplier_order_product_info(supplier_ids: List[int]) -> List[Dict]:\n",
    "    \"\"\"\n",
    "    Given a list of supplier ids, gets statistics for the total orders and refunds as well by product delivered for each supplier.\n",
    "    \"\"\"\n",
    "    res = db_client.execute_query(\"\"\"\n",
    "    MATCH(p:Product)<-[:VARIANT_OF]-(:Article)-[:SUPPLIED_BY]->(s)\n",
    "    WHERE s.supplierId IN $supplierIds\n",
    "    WITH DISTINCT p, s,\n",
    "      COUNT {MATCH (:Order)-[:CONTAINS]->()-[:VARIANT_OF]->(p)} AS numberOfOrders,\n",
    "      COUNT {MATCH (:CreditNote)-[:REFUND_OF_ARTICLE]-()-[:VARIANT_OF]->(p)} AS numberOfRefunds\n",
    "    RETURN s.supplierId AS supplierId,\n",
    "      sum(numberOfOrders) AS totalOrders,\n",
    "      sum(numberOfRefunds) AS totalReturns,\n",
    "      collect({productCode:p.productCode, name:s.name, numberOfOrders:numberOfOrders, numberOfRefunds:numberOfRefunds}) AS supplierInfos\n",
    "    \"\"\", supplierIds=supplier_ids, result_transformer_ = lambda r: r.data())\n",
    "    return res"
   ],
   "id": "2a8edb02ac1f9556",
   "outputs": [],
   "execution_count": 46
  },
  {
   "metadata": {
    "ExecuteTime": {
     "end_time": "2025-04-13T23:11:42.097728Z",
     "start_time": "2025-04-13T23:11:42.075828Z"
    }
   },
   "cell_type": "code",
   "source": [
    "agent = graphrag.create_react_agent(tools=[get_product_recommendations,\n",
    "                                           get_product_order_supplier_info,\n",
    "                                           get_supplier_order_product_info])"
   ],
   "id": "6e8dc5393edcee49",
   "outputs": [],
   "execution_count": 47
  },
  {
   "metadata": {
    "ExecuteTime": {
     "end_time": "2025-04-13T23:11:43.440053Z",
     "start_time": "2025-04-13T23:11:43.437262Z"
    }
   },
   "cell_type": "code",
   "source": [
    "from langchain_core.messages import HumanMessage\n",
    "\n",
    "# use just like any other langgraph agent...we are going to make a wrapper function for convenience\n",
    "config = {\"configurable\": {\"thread_id\": \"thread-1\"}}\n",
    "\n",
    "def agent_stream(question, history=None):\n",
    "    if history is None:\n",
    "        history = list()\n",
    "    for step in agent.stream(\n",
    "        {\"messages\": history + [HumanMessage(content=question)]},\n",
    "        stream_mode=\"values\", config=config\n",
    "    ):\n",
    "        history.append(step[\"messages\"][-1])\n",
    "        step[\"messages\"][-1].pretty_print()\n",
    "    return history\n"
   ],
   "id": "fc825d614ce138b3",
   "outputs": [],
   "execution_count": 48
  },
  {
   "metadata": {
    "ExecuteTime": {
     "end_time": "2025-04-13T23:11:50.738399Z",
     "start_time": "2025-04-13T23:11:45.904494Z"
    }
   },
   "cell_type": "code",
   "source": "history = agent_stream(\"What are some good sweaters for spring? Nothing too warm please!\")",
   "id": "888fb9e7a06e425f",
   "outputs": [
    {
     "name": "stdout",
     "output_type": "stream",
     "text": [
      "================================\u001B[1m Human Message \u001B[0m=================================\n",
      "\n",
      "What are some good sweaters for spring? Nothing too warm please!\n",
      "==================================\u001B[1m Ai Message \u001B[0m==================================\n",
      "Tool Calls:\n",
      "  node_search (call_atrxhaPp151Z30QMAAifvLmv)\n",
      " Call ID: call_atrxhaPp151Z30QMAAifvLmv\n",
      "  Args:\n",
      "    search_config: {'search_type': 'SEMANTIC', 'node_label': 'Product', 'search_prop': 'text'}\n",
      "    search_query: light spring sweater\n",
      "=================================\u001B[1m Tool Message \u001B[0m=================================\n",
      "Name: node_search\n",
      "\n",
      "[\n",
      "    {\n",
      "        \"productCode\": 838787,\n",
      "        \"text\": \"##Product \\nName: Spring\\nType: Dress\\nCategory: Garment Full body\\nDescription: Calf-length dress in an airy viscose weave with a collar, concealed buttons at the top and long raglan sleeves with buttoned cuffs. Relaxed fit with a gathered seam at the hips and hem. Unlined.\",\n",
      "        \"description\": \"Calf-length dress in an airy viscose weave with a collar, concealed buttons at the top and long raglan sleeves with buttoned cuffs. Relaxed fit with a gathered seam at the hips and hem. Unlined.\",\n",
      "        \"name\": \"Spring\",\n",
      "        \"url\": \"https://xyzbrands/product/838787\",\n",
      "        \"search_score\": 0.9259033203125\n",
      "    },\n",
      "    {\n",
      "        \"productCode\": 358483,\n",
      "        \"text\": \"##Product \\nName: Stressan light knit jumper\\nType: Sweater\\nCategory: Garment Upper body\\nDescription: Jumper in a light, fine, soft knit with long sleeves, raw edges and a rounded hem. Slightly longer at the back.\",\n",
      "        \"description\": \"Jumper in a light, fine, soft knit with long sleeves, raw edges and a rounded hem. Slightly longer at the back.\",\n",
      "        \"name\": \"Stressan light knit jumper\",\n",
      "        \"url\": \"https://xyzbrands/product/358483\",\n",
      "        \"search_score\": 0.9245758056640625\n",
      "    },\n",
      "    {\n",
      "        \"productCode\": 674250,\n",
      "        \"text\": \"##Product \\nName: William L/S top\\nType: Sweater\\nCategory: Garment Upper body\\nDescription: Top in airy, nepped jersey with a round neck, long sleeves and a lace-trimmed hem.\",\n",
      "        \"description\": \"Top in airy, nepped jersey with a round neck, long sleeves and a lace-trimmed hem.\",\n",
      "        \"name\": \"William L/S top\",\n",
      "        \"url\": \"https://xyzbrands/product/674250\",\n",
      "        \"search_score\": 0.9214630126953125\n",
      "    },\n",
      "    {\n",
      "        \"productCode\": 531615,\n",
      "        \"text\": \"##Product \\nName: Lassy Linnen LS\\nType: Sweater\\nCategory: Garment Upper body\\nDescription: Long-sleeved top in airy linen jersey.\",\n",
      "        \"description\": \"Long-sleeved top in airy linen jersey.\",\n",
      "        \"name\": \"Lassy Linnen LS\",\n",
      "        \"url\": \"https://xyzbrands/product/531615\",\n",
      "        \"search_score\": 0.9214324951171875\n",
      "    },\n",
      "    {\n",
      "        \"productCode\": 687335,\n",
      "        \"text\": \"##Product \\nName: Nice LS\\nType: Sweater\\nCategory: Garment Upper body\\nDescription: Jumper in a soft rib knit with a small stand-up collar and cut-out section at the front. Long sleeves with wrapover sections on the shoulders.\",\n",
      "        \"description\": \"Jumper in a soft rib knit with a small stand-up collar and cut-out section at the front. Long sleeves with wrapover sections on the shoulders.\",\n",
      "        \"name\": \"Nice LS\",\n",
      "        \"url\": \"https://xyzbrands/product/687335\",\n",
      "        \"search_score\": 0.921295166015625\n",
      "    },\n",
      "    {\n",
      "        \"productCode\": 244267,\n",
      "        \"text\": \"##Product \\nName: Silver lake\\nType: Sweater\\nCategory: Garment Upper body\\nDescription: Purl-knit jumper in a cotton blend with a slightly wider neckline and 3/4-length sleeves.\",\n",
      "        \"description\": \"Purl-knit jumper in a cotton blend with a slightly wider neckline and 3/4-length sleeves.\",\n",
      "        \"name\": \"Silver lake\",\n",
      "        \"url\": \"https://xyzbrands/product/244267\",\n",
      "        \"search_score\": 0.920654296875\n",
      "    },\n",
      "    {\n",
      "        \"productCode\": 696478,\n",
      "        \"text\": \"##Product \\nName: Elly L/S jumper\\nType: Sweater\\nCategory: Garment Upper body\\nDescription: Long sleeved jersey top with elastication and a frill at the cuffs.\",\n",
      "        \"description\": \"Long sleeved jersey top with elastication and a frill at the cuffs.\",\n",
      "        \"name\": \"Elly L/S jumper\",\n",
      "        \"url\": \"https://xyzbrands/product/696478\",\n",
      "        \"search_score\": 0.920379638671875\n",
      "    },\n",
      "    {\n",
      "        \"productCode\": 779863,\n",
      "        \"text\": \"##Product \\nName: FF Sunflower knit\\nType: Sweater\\nCategory: Garment Upper body\\nDescription: Slightly longer jumper in a soft rib knit containing some wool with a high collar, zip at the top, low dropped shoulders, long sleeves and ribbing at the cuffs and hem. The polyester content of the top is recycled.\",\n",
      "        \"description\": \"Slightly longer jumper in a soft rib knit containing some wool with a high collar, zip at the top, low dropped shoulders, long sleeves and ribbing at the cuffs and hem. The polyester content of the top is recycled.\",\n",
      "        \"name\": \"FF Sunflower knit\",\n",
      "        \"url\": \"https://xyzbrands/product/779863\",\n",
      "        \"search_score\": 0.920257568359375\n",
      "    },\n",
      "    {\n",
      "        \"productCode\": 589372,\n",
      "        \"text\": \"##Product \\nName: Lucille lace sweater\\nType: Sweater\\nCategory: Garment Upper body\\nDescription: Short, slightly wider jumper in a soft, cable knit with a lace trim at the hem. Dropped shoulders, long sleeves and ribbing around the neckline, cuffs and hem.\",\n",
      "        \"description\": \"Short, slightly wider jumper in a soft, cable knit with a lace trim at the hem. Dropped shoulders, long sleeves and ribbing around the neckline, cuffs and hem.\",\n",
      "        \"name\": \"Lucille lace sweater\",\n",
      "        \"url\": \"https://xyzbrands/product/589372\",\n",
      "        \"search_score\": 0.9200897216796875\n",
      "    },\n",
      "    {\n",
      "        \"productCode\": 620081,\n",
      "        \"text\": \"##Product \\nName: Tulip jumper\\nType: Sweater\\nCategory: Garment Upper body\\nDescription: \",\n",
      "        \"description\": NaN,\n",
      "        \"name\": \"Tulip jumper\",\n",
      "        \"url\": \"https://xyzbrands/product/620081\",\n",
      "        \"search_score\": 0.9197845458984375\n",
      "    }\n",
      "]\n",
      "==================================\u001B[1m Ai Message \u001B[0m==================================\n",
      "\n",
      "Here are some light sweaters that would be perfect for spring:\n",
      "\n",
      "1. **Stressan light knit jumper**\n",
      "   - Description: Jumper in a light, fine, soft knit with long sleeves, raw edges, and a rounded hem. Slightly longer at the back.\n",
      "   - [View Product](https://xyzbrands/product/358483)\n",
      "\n",
      "2. **William L/S top**\n",
      "   - Description: Top in airy, nepped jersey with a round neck, long sleeves, and a lace-trimmed hem.\n",
      "   - [View Product](https://xyzbrands/product/674250)\n",
      "\n",
      "3. **Lassy Linnen LS**\n",
      "   - Description: Long-sleeved top in airy linen jersey.\n",
      "   - [View Product](https://xyzbrands/product/531615)\n",
      "\n",
      "4. **Nice LS**\n",
      "   - Description: Jumper in a soft rib knit with a small stand-up collar and cut-out section at the front. Long sleeves with wrapover sections on the shoulders.\n",
      "   - [View Product](https://xyzbrands/product/687335)\n",
      "\n",
      "5. **Silver lake**\n",
      "   - Description: Purl-knit jumper in a cotton blend with a slightly wider neckline and 3/4-length sleeves.\n",
      "   - [View Product](https://xyzbrands/product/244267)\n",
      "\n",
      "These options should keep you comfortable without being too warm for the spring season!\n"
     ]
    }
   ],
   "execution_count": 49
  },
  {
   "metadata": {
    "ExecuteTime": {
     "end_time": "2025-04-13T23:12:04.223566Z",
     "start_time": "2025-04-13T23:11:56.752433Z"
    }
   },
   "cell_type": "code",
   "source": "history = agent_stream(\"What else can you recommend to go with that?\", history)",
   "id": "81f76530ee6d959c",
   "outputs": [
    {
     "name": "stdout",
     "output_type": "stream",
     "text": [
      "================================\u001B[1m Human Message \u001B[0m=================================\n",
      "\n",
      "What else can you recommend to go with that?\n",
      "==================================\u001B[1m Ai Message \u001B[0m==================================\n",
      "Tool Calls:\n",
      "  get_product_recommendations (call_6ITxq8CGYgJ40s2xeI7aUBbq)\n",
      " Call ID: call_6ITxq8CGYgJ40s2xeI7aUBbq\n",
      "  Args:\n",
      "    product_codes_or_article_ids: [358483, 674250, 531615, 687335, 244267]\n",
      "=================================\u001B[1m Tool Message \u001B[0m=================================\n",
      "Name: get_product_recommendations\n",
      "\n",
      "[{\"productCode\": 687016, \"text\": \"##Product \\nName: DORIS CREW\\nType: Sweater\\nCategory: Garment Upper body\\nDescription: Top in sweatshirt fabric with a motif on the front and ribbing around the neckline, cuffs and hem. Soft brushed inside.\", \"url\": \"https://xyzbrands/product/687016\"}, {\"productCode\": 108775, \"text\": \"##Product \\nName: Strap top\\nType: Vest top\\nCategory: Garment Upper body\\nDescription: Jersey top with narrow shoulder straps.\", \"url\": \"https://xyzbrands/product/108775\"}, {\"productCode\": 781833, \"text\": \"##Product \\nName: Chicago dress\\nType: Dress\\nCategory: Garment Full body\\nDescription: Short dress in a crêpe weave with a round neckline and an opening with a button at the back of the neck. Concealed zip in one side, long sleeves with narrow elastication and a frill trim at the cuffs, a seam at the waist and a bell-shaped skirt. Unlined.\", \"url\": \"https://xyzbrands/product/781833\"}, {\"productCode\": 724904, \"text\": \"##Product \\nName: Girlfriend R.W Trash\\nType: Trousers\\nCategory: Garment Lower body\\nDescription: 5-pocket, ankle-length jeans in washed denim with hard-worn details in a slightly looser fit. Regular waist, zip fly and button, slightly lower crotch and tapered legs with raw-edge hems.\", \"url\": \"https://xyzbrands/product/724904\"}, {\"productCode\": 598755, \"text\": \"##Product \\nName: TAZ LONG RN T-SHIRT\\nType: T-shirt\\nCategory: Garment Upper body\\nDescription: Long, round-necked T-shirt in soft jersey with a curved hem.\", \"url\": \"https://xyzbrands/product/598755\"}, {\"productCode\": 739144, \"text\": \"##Product \\nName: Kelso HW fancy\\nType: Shorts\\nCategory: Garment Lower body\\nDescription: Shorts in an airy viscose weave. High waist with wide, covered elastication at the back, pleats at the top, diagonal side pockets and wide legs.\", \"url\": \"https://xyzbrands/product/739144\"}, {\"productCode\": 656719, \"text\": \"##Product \\nName: Serpente HW slim trouser\\nType: Trousers\\nCategory: Garment Lower body\\nDescription: Tailored trousers in a stretch weave with two press-studs at the waist and a zip fly. Zipped front pockets, fake welt back pockets and slim, straight legs.\", \"url\": \"https://xyzbrands/product/656719\"}, {\"productCode\": 756320, \"text\": \"##Product \\nName: Lindsay Sl-set (W)\\nType: Pyjama set\\nCategory: Nightwear\\nDescription: Pyjama top and shorts in soft satin. V-neck cami top with adjustable spaghetti shoulder straps and lace at the top. Short shorts with narrow elastication at the waist and lace-trimmed hems.\", \"url\": \"https://xyzbrands/product/756320\"}, {\"productCode\": 809883, \"text\": \"##Product \\nName: Ophelia Padded Soft Bra\\nType: Bra\\nCategory: Underwear\\nDescription: Soft, non-wired bra in lace with removable inserts that shape the bust and provide good support. Adjustable shoulder straps, a hook-and-eye fastening at the back, and a lace trim at the hem.\", \"url\": \"https://xyzbrands/product/809883\"}, {\"productCode\": 713756, \"text\": \"##Product \\nName: Classic quilted dog coat OL\\nType: Other accessories\\nCategory: Accessories\\nDescription: Quilted jacket designed for a small dog. Woven fabric with a soft faux fur collar, hook and loop fastening at the neck and a hook and loop fastening with a reflective detail underneath. Fleece lining.\", \"url\": \"https://xyzbrands/product/713756\"}, {\"productCode\": 811235, \"text\": \"##Product \\nName: Winnie top\\nType: Sweater\\nCategory: Garment Upper body\\nDescription: Jumper in a soft rib knit with a turtle neck and long sleeves with slits at the cuffs.\", \"url\": \"https://xyzbrands/product/811235\"}, {\"productCode\": 746775, \"text\": \"##Product \\nName: Dahlia Push Bralette\\nType: Bra\\nCategory: Underwear\\nDescription: Bralette in lace with adjustable shoulder straps and underwired, padded cups with removable inserts for a larger bust and fuller cleavage. Hook-and-eye fastening at the back.\", \"url\": \"https://xyzbrands/product/746775\"}, {\"productCode\": 732842, \"text\": \"##Product \\nName: Embrace S.Skinny H.W Trash\\nType: Trousers\\nCategory: Garment Lower body\\nDescription: 5-pocket, ankle-length jeans in washed, stretch denim with hard-worn details, a high waist, zip fly and button and super-skinny legs with raw-edge hems. Embrace – denim with a smart stretch function that moulds to the body for a comfortable, flattering silhouette.\", \"url\": \"https://xyzbrands/product/732842\"}, {\"productCode\": 666158, \"text\": \"##Product \\nName: Jesper blouse\\nType: Blouse\\nCategory: Garment Upper body\\nDescription: Blouse in a slub cotton weave with a small stand-up collar in lace and an opening with a button at the back of the neck. Lace details at the front and long, wide sleeves with narrow elastication at the cuffs.\", \"url\": \"https://xyzbrands/product/666158\"}, {\"productCode\": 702790, \"text\": \"##Product \\nName: Pomelo\\nType: Dress\\nCategory: Garment Full body\\nDescription: Calf-length dress in a patterned viscose weave with a V-neck and buttons down the front. Seam with pleats at the waist and short sleeves with narrow elastication and gathers. Unlined.\", \"url\": \"https://xyzbrands/product/702790\"}, {\"productCode\": 696209, \"text\": \"##Product \\nName: Ciara wide cropped HW\\nType: Trousers\\nCategory: Garment Lower body\\nDescription: Ankle-length pull on-trousers in woven fabric. High waist with wide elastication and a small frill trim at the top, side pockets and straight, wide legs.\", \"url\": \"https://xyzbrands/product/696209\"}, {\"productCode\": 708432, \"text\": \"##Product \\nName: Chaka linnen\\nType: Top\\nCategory: Garment Upper body\\nDescription: Top in airy linen jersey with short flounced sleeves and a deep V-neck with buttons at the top.\", \"url\": \"https://xyzbrands/product/708432\"}, {\"productCode\": 717477, \"text\": \"##Product \\nName: Rita Ringer Tee.\\nType: T-shirt\\nCategory: Garment Upper body\\nDescription: T-shirt in soft jersey with a contrasting colour trim around the neckline and sleeves.\", \"url\": \"https://xyzbrands/product/717477\"}, {\"productCode\": 607983, \"text\": \"##Product \\nName: Linus flounce skirt\\nType: Skirt\\nCategory: Garment Lower body\\nDescription: Tiered skirt in a striped cotton weave with smocking at the waist. Unlined.\", \"url\": \"https://xyzbrands/product/607983\"}, {\"productCode\": 716348, \"text\": \"##Product \\nName: Marcie(1)\\nType: Dress\\nCategory: Garment Full body\\nDescription: Short T-shirt dress in soft viscose jersey.\", \"url\": \"https://xyzbrands/product/716348\"}]\n",
      "==================================\u001B[1m Ai Message \u001B[0m==================================\n",
      "\n",
      "Here are some additional recommendations to complement your spring sweater:\n",
      "\n",
      "1. **DORIS CREW**\n",
      "   - Description: Top in sweatshirt fabric with a motif on the front and ribbing around the neckline, cuffs, and hem. Soft brushed inside.\n",
      "   - [View Product](https://xyzbrands/product/687016)\n",
      "\n",
      "2. **Strap top**\n",
      "   - Description: Jersey top with narrow shoulder straps.\n",
      "   - [View Product](https://xyzbrands/product/108775)\n",
      "\n",
      "3. **Chicago dress**\n",
      "   - Description: Short dress in a crêpe weave with a round neckline and an opening with a button at the back of the neck. Concealed zip in one side, long sleeves with narrow elastication and a frill trim at the cuffs, a seam at the waist, and a bell-shaped skirt. Unlined.\n",
      "   - [View Product](https://xyzbrands/product/781833)\n",
      "\n",
      "4. **Girlfriend R.W Trash**\n",
      "   - Description: 5-pocket, ankle-length jeans in washed denim with hard-worn details in a slightly looser fit. Regular waist, zip fly and button, slightly lower crotch, and tapered legs with raw-edge hems.\n",
      "   - [View Product](https://xyzbrands/product/724904)\n",
      "\n",
      "5. **TAZ LONG RN T-SHIRT**\n",
      "   - Description: Long, round-necked T-shirt in soft jersey with a curved hem.\n",
      "   - [View Product](https://xyzbrands/product/598755)\n",
      "\n",
      "6. **Kelso HW fancy**\n",
      "   - Description: Shorts in an airy viscose weave. High waist with wide, covered elastication at the back, pleats at the top, diagonal side pockets, and wide legs.\n",
      "   - [View Product](https://xyzbrands/product/739144)\n",
      "\n",
      "These items should pair nicely with your spring sweater, offering a variety of styles and options for different occasions!\n"
     ]
    }
   ],
   "execution_count": 50
  },
  {
   "metadata": {
    "ExecuteTime": {
     "end_time": "2025-04-13T23:13:05.494762Z",
     "start_time": "2025-04-13T23:13:00.616069Z"
    }
   },
   "cell_type": "code",
   "source": "history2 = agent_stream(\"Which suppliers have the highest number of returns (i.,e, credit notes)?\")",
   "id": "e7dcb2e2fdbc8d36",
   "outputs": [
    {
     "name": "stdout",
     "output_type": "stream",
     "text": [
      "================================\u001B[1m Human Message \u001B[0m=================================\n",
      "\n",
      "Which suppliers have the highest number of returns (i.,e, credit notes)?\n",
      "==================================\u001B[1m Ai Message \u001B[0m==================================\n",
      "Tool Calls:\n",
      "  aggregate (call_Nc3oZ0ihOsoUQgcphxzJ4KAA)\n",
      " Call ID: call_Nc3oZ0ihOsoUQgcphxzJ4KAA\n",
      "  Args:\n",
      "    agg_instructions: Aggregate the number of credit notes (returns) for each supplier and return the suppliers with the highest number of returns.\n",
      "Running Query:\n",
      "MATCH (cn:CreditNote)-[:REFUND_OF_ARTICLE]->(a:Article)-[:SUPPLIED_BY]->(s:Supplier)\n",
      "RETURN s.name AS supplierName, COUNT(cn) AS numberOfReturns\n",
      "ORDER BY numberOfReturns DESC\n",
      "=================================\u001B[1m Tool Message \u001B[0m=================================\n",
      "Name: aggregate\n",
      "\n",
      "[\n",
      "    {\n",
      "        \"supplierName\": \"1616 - Textile & Apparel Manufacturing\",\n",
      "        \"numberOfReturns\": 45\n",
      "    },\n",
      "    {\n",
      "        \"supplierName\": \"1779 - Denim Textiles\",\n",
      "        \"numberOfReturns\": 42\n",
      "    },\n",
      "    {\n",
      "        \"supplierName\": \"3708 - Textile & Apparel Manufacturing\",\n",
      "        \"numberOfReturns\": 40\n",
      "    },\n",
      "    {\n",
      "        \"supplierName\": \"1643 - Textile & Apparel Manufacturing\",\n",
      "        \"numberOfReturns\": 39\n",
      "    },\n",
      "    {\n",
      "        \"supplierName\": \"5832 - Jersey Mills\",\n",
      "        \"numberOfReturns\": 26\n",
      "    },\n",
      "    {\n",
      "        \"supplierName\": \"1339 - Intimate Apparel Suppliers\",\n",
      "        \"numberOfReturns\": 15\n",
      "    },\n",
      "    {\n",
      "        \"supplierName\": \"1422 - Textile & Apparel Manufacturing\",\n",
      "        \"numberOfReturns\": 14\n",
      "    },\n",
      "    {\n",
      "        \"supplierName\": \"1778 - Textile & Apparel Manufacturing\",\n",
      "        \"numberOfReturns\": 12\n",
      "    },\n",
      "    {\n",
      "        \"supplierName\": \"1201 - Outerwear Suppliers\",\n",
      "        \"numberOfReturns\": 11\n",
      "    },\n",
      "    {\n",
      "        \"supplierName\": \"3610 - Sock & Hosiery Production\",\n",
      "        \"numberOfReturns\": 10\n",
      "    },\n",
      "    {\n",
      "        \"supplierName\": \"3936 - Textile & Apparel Manufacturing\",\n",
      "        \"numberOfReturns\": 10\n",
      "    },\n",
      "    {\n",
      "        \"supplierName\": \"1666 - Jersey Mills\",\n",
      "        \"numberOfReturns\": 9\n",
      "    },\n",
      "    {\n",
      "        \"supplierName\": \"1772 - Denim Textiles\",\n",
      "        \"numberOfReturns\": 9\n",
      "    },\n",
      "    {\n",
      "        \"supplierName\": \"5868 - Textile & Apparel Manufacturing\",\n",
      "        \"numberOfReturns\": 6\n",
      "    },\n",
      "    {\n",
      "        \"supplierName\": \"3932 - Textile & Apparel Manufacturing\",\n",
      "        \"numberOfReturns\": 5\n",
      "    },\n",
      "    {\n",
      "        \"supplierName\": \"2032 - Jersey Mills\",\n",
      "        \"numberOfReturns\": 5\n",
      "    },\n",
      "    {\n",
      "        \"supplierName\": \"1649 - Trousers & Slacks Mills\",\n",
      "        \"numberOfReturns\": 4\n",
      "    },\n",
      "    {\n",
      "        \"supplierName\": \"1773 - Denim Textiles\",\n",
      "        \"numberOfReturns\": 4\n",
      "    }\n",
      "]\n",
      "==================================\u001B[1m Ai Message \u001B[0m==================================\n",
      "\n",
      "The suppliers with the highest number of returns (credit notes) are:\n",
      "\n",
      "1. **1616 - Textile & Apparel Manufacturing** with 45 returns.\n",
      "2. **1779 - Denim Textiles** with 42 returns.\n",
      "3. **3708 - Textile & Apparel Manufacturing** with 40 returns.\n",
      "4. **1643 - Textile & Apparel Manufacturing** with 39 returns.\n",
      "5. **5832 - Jersey Mills** with 26 returns.\n"
     ]
    }
   ],
   "execution_count": 51
  },
  {
   "metadata": {
    "ExecuteTime": {
     "end_time": "2025-04-13T23:18:02.222175Z",
     "start_time": "2025-04-13T23:17:55.394057Z"
    }
   },
   "cell_type": "code",
   "source": "history3 = agent_stream(\"What are the top 3 most returned products for supplier 1616? Get those product codes and find other suppliers who have less returns for each product I can use instead.\")",
   "id": "c0f9df7ed1961f6c",
   "outputs": [
    {
     "name": "stdout",
     "output_type": "stream",
     "text": [
      "================================\u001B[1m Human Message \u001B[0m=================================\n",
      "\n",
      "What are the top 3 most returned products for supplier 1616? Get those product codes and find other suppliers who have less returns for each product I can use instead.\n",
      "==================================\u001B[1m Ai Message \u001B[0m==================================\n",
      "Tool Calls:\n",
      "  aggregate (call_bflujBnG7pSAYo5W0NNu1gbh)\n",
      " Call ID: call_bflujBnG7pSAYo5W0NNu1gbh\n",
      "  Args:\n",
      "    agg_instructions: Find the top 3 most returned products for supplier 1616 by aggregating the number of refunds for each product supplied by this supplier. Return the product codes of these top 3 products.\n",
      "Running Query:\n",
      "MATCH (s:Supplier {supplierId: 1616})<-[:SUPPLIED_BY]-(a:Article)<-[:REFUND_OF_ARTICLE]-(c:CreditNote)\n",
      "MATCH (a)-[:VARIANT_OF]->(p:Product)\n",
      "RETURN p.productCode AS productCode, COUNT(c) AS refundCount\n",
      "ORDER BY refundCount DESC\n",
      "LIMIT 3\n",
      "=================================\u001B[1m Tool Message \u001B[0m=================================\n",
      "Name: aggregate\n",
      "\n",
      "[\n",
      "    {\n",
      "        \"productCode\": 673677,\n",
      "        \"refundCount\": 30\n",
      "    },\n",
      "    {\n",
      "        \"productCode\": 748269,\n",
      "        \"refundCount\": 11\n",
      "    },\n",
      "    {\n",
      "        \"productCode\": 802023,\n",
      "        \"refundCount\": 4\n",
      "    }\n",
      "]\n",
      "==================================\u001B[1m Ai Message \u001B[0m==================================\n",
      "Tool Calls:\n",
      "  get_product_order_supplier_info (call_AW9nZNorRugWEmXHw1LA6HMr)\n",
      " Call ID: call_AW9nZNorRugWEmXHw1LA6HMr\n",
      "  Args:\n",
      "    product_codes: [673677, 748269, 802023]\n",
      "=================================\u001B[1m Tool Message \u001B[0m=================================\n",
      "Name: get_product_order_supplier_info\n",
      "\n",
      "[{\"productCode\": 673677, \"totalOrders\": 35, \"totalReturns\": 30, \"supplierInfos\": [{\"supplierId\": 1616, \"name\": \"1616 - Textile & Apparel Manufacturing\", \"numberOfRefunds\": 3, \"numberOfOrders\": 3}, {\"supplierId\": 1616, \"name\": \"1616 - Textile & Apparel Manufacturing\", \"numberOfRefunds\": 15, \"numberOfOrders\": 15}, {\"supplierId\": 1616, \"name\": \"1616 - Textile & Apparel Manufacturing\", \"numberOfRefunds\": 4, \"numberOfOrders\": 4}, {\"supplierId\": 1646, \"name\": \"1646 - Textile & Apparel Manufacturing\", \"numberOfRefunds\": 0, \"numberOfOrders\": 5}, {\"supplierId\": 1616, \"name\": \"1616 - Textile & Apparel Manufacturing\", \"numberOfRefunds\": 3, \"numberOfOrders\": 3}, {\"supplierId\": 1616, \"name\": \"1616 - Textile & Apparel Manufacturing\", \"numberOfRefunds\": 2, \"numberOfOrders\": 2}, {\"supplierId\": 1616, \"name\": \"1616 - Textile & Apparel Manufacturing\", \"numberOfRefunds\": 3, \"numberOfOrders\": 3}]}, {\"productCode\": 748269, \"totalOrders\": 13, \"totalReturns\": 11, \"supplierInfos\": [{\"supplierId\": 3708, \"name\": \"3708 - Textile & Apparel Manufacturing\", \"numberOfRefunds\": 0, \"numberOfOrders\": 2}, {\"supplierId\": 1616, \"name\": \"1616 - Textile & Apparel Manufacturing\", \"numberOfRefunds\": 4, \"numberOfOrders\": 4}, {\"supplierId\": 1616, \"name\": \"1616 - Textile & Apparel Manufacturing\", \"numberOfRefunds\": 5, \"numberOfOrders\": 5}, {\"supplierId\": 1616, \"name\": \"1616 - Textile & Apparel Manufacturing\", \"numberOfRefunds\": 1, \"numberOfOrders\": 1}, {\"supplierId\": 1616, \"name\": \"1616 - Textile & Apparel Manufacturing\", \"numberOfRefunds\": 1, \"numberOfOrders\": 1}]}, {\"productCode\": 802023, \"totalOrders\": 8, \"totalReturns\": 4, \"supplierInfos\": [{\"supplierId\": 1616, \"name\": \"1616 - Textile & Apparel Manufacturing\", \"numberOfRefunds\": 3, \"numberOfOrders\": 3}, {\"supplierId\": 3708, \"name\": \"3708 - Textile & Apparel Manufacturing\", \"numberOfRefunds\": 0, \"numberOfOrders\": 1}, {\"supplierId\": 1616, \"name\": \"1616 - Textile & Apparel Manufacturing\", \"numberOfRefunds\": 1, \"numberOfOrders\": 1}, {\"supplierId\": 3708, \"name\": \"3708 - Textile & Apparel Manufacturing\", \"numberOfRefunds\": 0, \"numberOfOrders\": 1}, {\"supplierId\": 3708, \"name\": \"3708 - Textile & Apparel Manufacturing\", \"numberOfRefunds\": 0, \"numberOfOrders\": 2}]}]\n",
      "==================================\u001B[1m Ai Message \u001B[0m==================================\n",
      "\n",
      "Here are the top 3 most returned products for supplier 1616, along with alternative suppliers who have less returns for each product:\n",
      "\n",
      "1. **Product Code: 673677**\n",
      "   - **Supplier 1616**: 30 returns\n",
      "   - **Alternative Supplier**: \n",
      "     - Supplier 1646: 0 returns\n",
      "\n",
      "2. **Product Code: 748269**\n",
      "   - **Supplier 1616**: 11 returns\n",
      "   - **Alternative Supplier**: \n",
      "     - Supplier 3708: 0 returns\n",
      "\n",
      "3. **Product Code: 802023**\n",
      "   - **Supplier 1616**: 4 returns\n",
      "   - **Alternative Supplier**: \n",
      "     - Supplier 3708: 0 returns\n",
      "\n",
      "You can consider using Supplier 1646 for product 673677 and Supplier 3708 for products 748269 and 802023 to potentially reduce returns.\n"
     ]
    }
   ],
   "execution_count": 53
  },
  {
   "metadata": {},
   "cell_type": "markdown",
   "source": [
    "## MCP Integration\n",
    "Of course, we can also use MCP to connect tools"
   ],
   "id": "e8d315b8bd44076f"
  },
  {
   "metadata": {},
   "cell_type": "code",
   "outputs": [],
   "execution_count": null,
   "source": "",
   "id": "b09aeb38c031c4c7"
  }
 ],
 "metadata": {
  "kernelspec": {
   "display_name": "Python 3",
   "language": "python",
   "name": "python3"
  },
  "language_info": {
   "codemirror_mode": {
    "name": "ipython",
    "version": 2
   },
   "file_extension": ".py",
   "mimetype": "text/x-python",
   "name": "python",
   "nbconvert_exporter": "python",
   "pygments_lexer": "ipython2",
   "version": "2.7.6"
  }
 },
 "nbformat": 4,
 "nbformat_minor": 5
}
