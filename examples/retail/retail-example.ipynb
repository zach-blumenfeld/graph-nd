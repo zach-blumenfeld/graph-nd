{
 "cells": [
  {
   "metadata": {},
   "cell_type": "markdown",
   "source": [
    "# Retail Example\n",
    "\n",
    "\n",
    "This example demonstrates how to use Graph-ND for a more controlled, precision-focused workflow. Unlike the quick-start components example, it avoids reliance on LLMs for data mapping and enables greater user control & flexibility for real-world use cases. Key highlights:\n",
    "1. Provide a pre-defined graph schema instead of inferring via LLM\n",
    "2. Use your own code to map tables to nodes and relationships rather than relying on an LLM-_still no need to write any Cypher!_\n",
    "3. Define filtered target schemas for text extraction to improve data quality.\n",
    "4. Add custom source metadata to comply with your workflows or data governance\n",
    "5. Add custom graph retrieval tools to improve accuracy and tailor to your use case\n",
    "\n",
    "\n",
    "To run this notebook:\n",
    "1. **Set up Neo4j (Aura):**\n",
    "    - Start a free Neo4j instance at [console.neo4j.io](https://console.neo4j.io/) and save the credentials file.\n",
    "\n",
    "2. **Clone and navigate to the repo:**\n",
    "    - `git clone https://github.com/zach-blumenfeld/graph-nd.git`\n",
    "    - `cd graph-nd`\n",
    "\n",
    "3. **Prepare your environment:**\n",
    "    - Create a Python virtual environment and install dependencies:\n",
    "`pip install -r requirements.txt`\n",
    "    - Configure your `.env` file in `graph-nd/examples/retail/` with Neo4j credentials and your `OPENAI_API_KEY` as shown below.\n",
    "\n",
    "4. **Run the notebook:**\n",
    "    - Navigate to the appropriate folder: `graph-nd/examples/retail/`\n",
    "    - Open and run `retail-example.ipynb`.\n",
    "\n"
   ],
   "id": "64d9917bb1bae013"
  },
  {
   "metadata": {
    "ExecuteTime": {
     "end_time": "2025-05-06T13:46:55.077720Z",
     "start_time": "2025-05-06T13:46:55.072048Z"
    }
   },
   "cell_type": "code",
   "source": [
    "import os\n",
    "\n",
    "parent_dir = os.getcwd()\n",
    "data_dir = os.path.join(parent_dir, \"data\")\n",
    "data_model_dir = os.path.join(parent_dir, \"data-models\")\n"
   ],
   "id": "b498d3ac2a9f34fe",
   "outputs": [],
   "execution_count": 1
  },
  {
   "metadata": {},
   "cell_type": "markdown",
   "source": [
    "## Setup\n",
    "\n",
    "make sure to have a `.env` file with the below"
   ],
   "id": "8ea05f6f20b5cb71"
  },
  {
   "metadata": {
    "ExecuteTime": {
     "end_time": "2025-05-06T13:46:55.487431Z",
     "start_time": "2025-05-06T13:46:55.480442Z"
    }
   },
   "cell_type": "code",
   "source": [
    "from dotenv import load_dotenv\n",
    "from getpass import getpass\n",
    "\n",
    "load_dotenv('.env', override=True)\n",
    "\n",
    "uri = os.getenv('NEO4J_URI')\n",
    "username = os.getenv('NEO4J_USERNAME')\n",
    "password = os.getenv('NEO4J_PASSWORD')\n",
    "\n",
    "if not os.getenv('OPENAI_API_KEY'):\n",
    "    api_key = getpass(\"Please enter your OpenAI API key: \")"
   ],
   "id": "8fed9b1f4390a3d6",
   "outputs": [],
   "execution_count": 2
  },
  {
   "metadata": {},
   "cell_type": "markdown",
   "source": [
    "## Drafting Graph Schemas\n",
    "Creating graph schemas for production is an iterative process requiring reviews, version controls, and some trial and error.\n",
    "Graph-ND is designed to support this process.\n",
    "To get started you can create an initial graph schema from any JSON-like file. For example, you can start with other data modeling tools, such as the Neo4j Data Importer, and export the resulting schema to a file. GraphRAG can then map this to an initial graph schema, which experts can refine further as needed.\n"
   ],
   "id": "a325d29633f916d7"
  },
  {
   "metadata": {
    "ExecuteTime": {
     "end_time": "2025-05-06T12:32:53.320128Z",
     "start_time": "2025-05-06T12:32:33.411655Z"
    }
   },
   "cell_type": "code",
   "source": [
    "from graph_nd import GraphRAG\n",
    "from langchain_openai import ChatOpenAI\n",
    "\n",
    "\n",
    "#file names\n",
    "json_file = os.path.join(data_model_dir, \"neo4j-importer-draft.json\")\n",
    "graph_schema_v1 = os.path.join(data_model_dir, \"graph-schema-v1.json\")\n",
    "\n",
    "# LLM\n",
    "llm=ChatOpenAI(model=\"gpt-4o\", temperature=0.0)\n",
    "\n",
    "# draft v1 graph-schema from neo4j importer model\n",
    "(GraphRAG(llm=llm).schema\n",
    " .from_json_like_file(json_file)\n",
    " .export(graph_schema_v1))"
   ],
   "id": "89e9e77e5054e85",
   "outputs": [
    {
     "name": "stdout",
     "output_type": "stream",
     "text": [
      "[Schema] Successfully Crafted schema\n"
     ]
    }
   ],
   "execution_count": 3
  },
  {
   "metadata": {},
   "cell_type": "markdown",
   "source": [
    "## Tracking & Loading Schemas\n",
    "You can iterate, track, and re-load these graph schema files. Allowing you to have __precise, version controlled, expert crafted schemas__. Below is how you load a graph schema for use"
   ],
   "id": "15507ab7c5b9550e"
  },
  {
   "metadata": {
    "ExecuteTime": {
     "end_time": "2025-05-06T13:47:07.798120Z",
     "start_time": "2025-05-06T13:47:03.790076Z"
    }
   },
   "cell_type": "code",
   "source": [
    "from graph_nd import GraphRAG\n",
    "from neo4j import GraphDatabase\n",
    "from langchain_openai import OpenAIEmbeddings, ChatOpenAI\n",
    "\n",
    "db_client = GraphDatabase.driver(uri, auth=(username, password))\n",
    "embedding_model = OpenAIEmbeddings(model='text-embedding-ada-002')\n",
    "llm = ChatOpenAI(model=\"gpt-4o\", temperature=0.0)\n",
    "schema_file = os.path.join(data_model_dir, \"graph-schema-finalized.json\")\n",
    "\n",
    "# instantiate graphrag\n",
    "graphrag = GraphRAG(db_client, llm, embedding_model)\n",
    "\n",
    "# load schema\n",
    "graphrag.schema.load(schema_file)"
   ],
   "id": "8473be73cb345c5c",
   "outputs": [
    {
     "name": "stdout",
     "output_type": "stream",
     "text": [
      "[Schema] Schema successfully loaded from /Users/zachblumenfeld/demo/graphrag-nd/examples/retail/data-models/graph-schema-finalized.json\n"
     ]
    }
   ],
   "execution_count": 3
  },
  {
   "metadata": {},
   "cell_type": "markdown",
   "source": [
    "## Automated Table Mapping - It Isn't Wrong but It Misses Some Things\n",
    "Below is how you would run Graph-ND using inferred table mappings. Feel free to run and experiment.  In this case it doesn't appear wrong, but it will likely miss some relationships and there are some properties in the graph schema which aren't present in the tables (require our own calculations).\n",
    "\n",
    "It is likely that with more descriptions in the graph schema we can get the mappings to do better, but for this example we will show how you can incorporate your own mapping logic"
   ],
   "id": "e7924bb6899266c"
  },
  {
   "metadata": {
    "ExecuteTime": {
     "end_time": "2025-04-14T02:05:27.154808Z",
     "start_time": "2025-04-14T02:04:43.456476Z"
    }
   },
   "cell_type": "code",
   "source": [
    "# for csv in [\"order-details.csv\", \"products.csv\", \"articles.csv\", \"customers.csv\", \"suppliers.csv\"]:\n",
    "#     graphrag.data.merge_csv(os.path.join(data_dir, csv))\n"
   ],
   "id": "caa97986be2ea749",
   "outputs": [
    {
     "name": "stdout",
     "output_type": "stream",
     "text": [
      "[Data] Merging order-details.csv as TableTypeEnum.RELATIONSHIPS.\n",
      "[Data] Merging products.csv as TableTypeEnum.SINGLE_NODE.\n",
      "[Data] Merging articles.csv as TableTypeEnum.SINGLE_NODE.\n",
      "[Data] Merging customers.csv as TableTypeEnum.SINGLE_NODE.\n",
      "[Data] Merging suppliers.csv as TableTypeEnum.SINGLE_NODE.\n"
     ]
    }
   ],
   "execution_count": 23
  },
  {
   "metadata": {},
   "cell_type": "markdown",
   "source": [
    "## User Defined Table Mappings\n",
    "Users can specify their own table mappings for more control"
   ],
   "id": "f30112230d1bc874"
  },
  {
   "metadata": {
    "ExecuteTime": {
     "end_time": "2025-05-06T12:33:24.412295Z",
     "start_time": "2025-05-06T12:33:16.812529Z"
    }
   },
   "cell_type": "code",
   "source": [
    "# Lets clear all data out of the graph for reference\n",
    "graphrag.data.nuke()"
   ],
   "id": "be49f3aabf255649",
   "outputs": [],
   "execution_count": 5
  },
  {
   "metadata": {
    "ExecuteTime": {
     "end_time": "2025-05-06T12:34:20.394085Z",
     "start_time": "2025-05-06T12:33:33.542367Z"
    }
   },
   "cell_type": "code",
   "source": [
    "from graph_nd import NodeMapping, RelMapping\n",
    "\n",
    "mappings = [\n",
    "    #order details\n",
    "    RelMapping(\n",
    "        name=os.path.join(data_dir, \"order-details.csv\"),\n",
    "        relType='ORDERED',\n",
    "        startNode=NodeMapping(label='Customer',nodeId='customerId'),\n",
    "        endNode=NodeMapping(label='Order',nodeId='orderId', properties={'tDat':'date'}),\n",
    "    ),\n",
    "    RelMapping(\n",
    "        name=os.path.join(data_dir, \"order-details.csv\"),\n",
    "        relType='CONTAINS',\n",
    "        relId='txId',\n",
    "        properties={'price': 'price'},\n",
    "        startNode=NodeMapping(label='Order',nodeId='orderId'),\n",
    "        endNode=NodeMapping(label='Article',nodeId='articleId'),\n",
    "    ),\n",
    "\n",
    "    #product\n",
    "    RelMapping(\n",
    "        name=os.path.join(data_dir, \"Products.csv\"),\n",
    "        relType='PART_OF',\n",
    "        startNode=NodeMapping(label='Product',nodeId='productCode', properties = { 'prodName':'name', 'detailDesc': 'description'}),\n",
    "        endNode=NodeMapping(label='ProductType', nodeId='productTypeName'),\n",
    "    ),\n",
    "     RelMapping(\n",
    "        name=os.path.join(data_dir, \"Products.csv\"),\n",
    "        relType='PART_OF',\n",
    "        startNode=NodeMapping(label='Product',nodeId='productCode', properties = { 'prodName':'name', 'detailDesc': 'description'}),\n",
    "        endNode=NodeMapping(label='ProductCategory', nodeId='productGroupName'),\n",
    "    ),\n",
    "\n",
    "    #customer nodes\n",
    "    NodeMapping(\n",
    "        name=os.path.join(data_dir, \"Customers.csv\"),\n",
    "        label='Customer',\n",
    "        nodeId='customerId',\n",
    "        properties = { 'postalCode':'postalCode', 'age':'age', 'fashionNewsFrequency':'fashionNewsFrequency', 'clubMemberStatus':'clubMemberStatus'}\n",
    "    ),\n",
    "\n",
    "    #article\n",
    "    RelMapping(\n",
    "        name=os.path.join(data_dir, \"articles.csv\"),\n",
    "        relType='VARIANT_OF',\n",
    "        startNode=NodeMapping(label='Article',nodeId='articleId', properties = { 'colourGroupCode':'colourGroupCode', 'colourGroupName':'colourGroupName', 'graphicalAppearanceName':'graphicalAppearanceName', 'graphicalAppearanceNo':'graphicalAppearanceNo'}),\n",
    "        endNode=NodeMapping(label='Product',nodeId='productCode'),\n",
    "    ),\n",
    "    RelMapping(\n",
    "        name=os.path.join(data_dir, \"articles.csv\"),\n",
    "        relType='SUPPLIED_BY',\n",
    "        startNode=NodeMapping(label='Article',nodeId='articleId'),\n",
    "        endNode=NodeMapping(label='Supplier',nodeId='supplierId'),\n",
    "    ),\n",
    "\n",
    "    #supplier nodes\n",
    "    NodeMapping(\n",
    "        name=os.path.join(data_dir, \"suppliers.csv\"),\n",
    "        label='Supplier',\n",
    "        nodeId='supplierId',\n",
    "        properties={\"supplierName\": \"name\", \"supplierAddress\": \"address\"}\n",
    "    )\n",
    "]\n",
    "\n",
    "graphrag.data.merge_csvs(table_mappings=mappings)"
   ],
   "id": "ca73ec5cb91ba40c",
   "outputs": [],
   "execution_count": 6
  },
  {
   "metadata": {},
   "cell_type": "markdown",
   "source": [
    "## Custom Logic in Table Mappings\n",
    "We can map data with our own custom logic for further precision before merging nodes and relationship records directly with `data.merge_nodes` and `data.merge_relationships` methods\n",
    "We will provide a custom metadata field \"ingest_id\" which will persist to `__Source__` nodes in the graph."
   ],
   "id": "d0c9979b271decb3"
  },
  {
   "metadata": {
    "ExecuteTime": {
     "end_time": "2025-05-06T12:37:28.024334Z",
     "start_time": "2025-05-06T12:37:28.022337Z"
    }
   },
   "cell_type": "code",
   "source": [
    "#We will provide a custom metadata field \"ingest_id\" which will persist to __Source__ nodes in the graph.\n",
    "ingest_id = \"my-tabular-data-ingest\""
   ],
   "id": "4d28e7803763d1ac",
   "outputs": [],
   "execution_count": 8
  },
  {
   "metadata": {
    "ExecuteTime": {
     "end_time": "2025-05-06T12:44:55.945798Z",
     "start_time": "2025-05-06T12:44:44.343990Z"
    }
   },
   "cell_type": "code",
   "source": [
    "# Lets clear all data out of the graph for reference\n",
    "graphrag.data.nuke()"
   ],
   "id": "9683a20778c0f522",
   "outputs": [],
   "execution_count": 21
  },
  {
   "metadata": {},
   "cell_type": "markdown",
   "source": [
    "### Merge Nodes\n",
    "\n",
    "`graphrag.data.merge_nodes` will take node records and perform an __idempotent__ MERGE into the graph.\n",
    "\n",
    "Technically source metadata ( `__Source__` node and `__source_id` lists properties) aren't idempotent  - more similar to \"append\" pattern so you can track activity, but the node records themselves are merged idempotently.\n",
    "\n",
    "Parameters:\n",
    "- label str: The label of the node type to merge (e.g., \"Person\", \"Movie\").\n",
    "             The label should match a defined node in the graph schema.\n",
    "- records List[Dict]: A list of dictionaries representing the data for each node to be merged.\n",
    "            Each record MUST include the `id` field as defined in the node schema, along with\n",
    "            any other optional properties expected by the schema.\n",
    "- source_metadata Union[bool, Dict[str, Any]], optional : Metadata for the source being merged.\n",
    "    - If set to `True`, default source metadata is prepared and added to a __Source__ node in the graph.\n",
    "    A __source_id property is added and/or appended to each node which maps to the id property of __Source__ node\n",
    "    - If `False`, no source metadata is added to the graph.\n",
    "    - If a custom dictionary is provided, source metadata is added as in the case of `True` and the dictionary properties override the default ones.\n",
    "    Default is True.\n",
    "\n",
    "Example:\n",
    "```\n",
    "    label = \"Person\"\n",
    "    records = [\n",
    "        {\"person_id\": 1, \"name\": \"Alice\", \"age\": 30},\n",
    "        {\"person_id\": 2, \"name\": \"Bob\", \"age\": 25}\n",
    "    ]\n",
    "```\n"
   ],
   "id": "e03b3c1a9bf7fb01"
  },
  {
   "metadata": {
    "ExecuteTime": {
     "end_time": "2025-05-06T12:45:02.549979Z",
     "start_time": "2025-05-06T12:45:00.480195Z"
    }
   },
   "cell_type": "code",
   "source": [
    "import pandas as pd\n",
    "\n",
    "order_df = pd.read_csv(os.path.join(data_dir, \"order-details.csv\"))\n",
    "order_records = order_df[['orderId', 'tDat']].drop_duplicates().rename(columns={'tDat':'date'}).to_dict(orient=\"records\")\n",
    "\n",
    "graphrag.data.merge_nodes(\"Order\", order_records, source_metadata={\"ingest_id\": ingest_id})"
   ],
   "id": "22e4c9279c14cac2",
   "outputs": [],
   "execution_count": 22
  },
  {
   "metadata": {},
   "cell_type": "markdown",
   "source": [
    "### Merge Relationships\n",
    "\n",
    "`graphrag.data.merge_relationships` Just will take relationship records and perform an __idempotent__ MERGE into the graph just like the node merge\n",
    "\n",
    "Source metadata will be added in the same matter as well.\n",
    "\n",
    "Parameters:\n",
    "- rel_type str: The type of the relationship (e.g., \"ACTED_IN\", \"FRIENDS_WITH\").\n",
    "                The type should match a defined relationship in the graph schema.\n",
    "- start_node_label str: The label of the starting node in the relationship (e.g., \"Person\").\n",
    "                        This label should match a defined node schema.\n",
    "- end_node_label str: The label of the ending node in the relationship (e.g., \"Movie\").\n",
    "                      This label should match a defined node schema.\n",
    "- records Dict: A dictionary (or list of dictionaries) representing the data for each relationship to be merged.\n",
    "- source_metadata Union[bool, Dict[str, Any]], optional: same as for nodes\n",
    "\n",
    "Required Fields in `records`:\n",
    "    - `start_node_id`: The unique identifier of the starting node.\n",
    "    - `end_node_id`: The unique identifier of the ending node.\n",
    "\n",
    "Example:\n",
    "\n",
    "    rel_type = \"ACTED_IN\"\n",
    "    start_node_label = \"Person\"\n",
    "    end_node_label = \"Movie\"\n",
    "    records = [\n",
    "        {\"start_node_id\": 1, \"end_node_id\": \"M101\", \"role\": \"Protagonist\"},\n",
    "        {\"start_node_id\": 2, \"end_node_id\": \"M102\", \"role\": \"Hacker\"}\n",
    "    ]"
   ],
   "id": "342aa37fb15719a2"
  },
  {
   "metadata": {
    "ExecuteTime": {
     "end_time": "2025-05-06T12:45:04.537295Z",
     "start_time": "2025-05-06T12:45:02.661419Z"
    }
   },
   "cell_type": "code",
   "source": [
    "ordered_records = order_df[['customerId', 'orderId']].drop_duplicates().rename(columns={'customerId':'start_node_id', 'orderId':'end_node_id'}).to_dict(orient=\"records\")\n",
    "\n",
    "graphrag.data.merge_relationships(rel_type='ORDERED',\n",
    "                                  start_node_label='Customer',\n",
    "                                  end_node_label='Order',\n",
    "                                  records=ordered_records,\n",
    "                                  source_metadata={\"ingest_id\": ingest_id})"
   ],
   "id": "831eaabac94f914c",
   "outputs": [],
   "execution_count": 23
  },
  {
   "metadata": {},
   "cell_type": "markdown",
   "source": [
    "### Merging Parallel Relationships\n",
    "Parallel Relationships are when more than one relationship of the same type can exist between the same two start and end nodes.  The above example doesn't account for them.  For these situations you must add an \"id\" property field to the relationship schema.  We specified `txId` as the relationship id for the CONTAINS relationship - in this example, an Order can CONTAIN multiple instances of the same Article.\n",
    "\n",
    "The txId is then required for the merge.  not providing it will result in an error."
   ],
   "id": "535e8df4cb78d272"
  },
  {
   "metadata": {
    "ExecuteTime": {
     "end_time": "2025-05-06T12:45:09.346119Z",
     "start_time": "2025-05-06T12:45:04.568874Z"
    }
   },
   "cell_type": "code",
   "source": [
    "contains_records = (order_df[['orderId', 'articleId', 'txId', 'price']]).rename(columns={'orderId':'start_node_id', 'articleId':'end_node_id'}).to_dict(orient=\"records\")\n",
    "graphrag.data.merge_relationships(rel_type='CONTAINS',\n",
    "                                  start_node_label='Order',\n",
    "                                  end_node_label='Article',\n",
    "                                  records=contains_records,\n",
    "                                  source_metadata={\"ingest_id\": ingest_id})"
   ],
   "id": "6515c7467516062f",
   "outputs": [],
   "execution_count": 24
  },
  {
   "metadata": {},
   "cell_type": "markdown",
   "source": [
    "### Text Embedding\n",
    "Graph-ND will automatically create text embeddings and vector indexes based of searchField properties in the graph schema.  This also enables the automatic creation of FullText fields though we don't show an example here.\n",
    "\n",
    "In the Below the Product node embeds the \"text\" field per the GraphSchema.  This merge will take a bit longer due to that embedding processed"
   ],
   "id": "278f50abed7f8684"
  },
  {
   "metadata": {
    "ExecuteTime": {
     "end_time": "2025-05-06T12:46:11.042493Z",
     "start_time": "2025-05-06T12:45:09.376694Z"
    }
   },
   "cell_type": "code",
   "source": [
    "product_df = pd.read_csv(os.path.join(data_dir, \"products.csv\"))\n",
    "product_df['text'] = (\"##Product \\n\"\n",
    "\"Name: \" + product_df['prodName'].fillna('') + \"\\n\"\n",
    "\"Type: \" + product_df['productTypeName'].fillna('') + \"\\n\"\n",
    "\"Category: \" + product_df['productGroupName'].fillna('') + \"\\n\"\n",
    "\"Description: \" + product_df['detailDesc'].fillna('')\n",
    ")\n",
    "product_df['url']= \"https://xyzbrands/product/\" + product_df['productCode'].astype(str)\n",
    "product_df.rename(columns={\"prodName\": \"name\", \"detailDesc\":\"description\"}, inplace=True)\n",
    "\n",
    "\n",
    "prod_records = product_df[[ \"productCode\", \"name\", \"description\", \"url\", \"text\"]].to_dict(orient=\"records\")\n",
    "\n",
    "print(\"This will take a minute or so because it is embedding the 'text' field.\")\n",
    "graphrag.data.merge_nodes(\"Product\", prod_records, source_metadata={\"ingest_id\": ingest_id})"
   ],
   "id": "da00f7a9403fe547",
   "outputs": [
    {
     "name": "stdout",
     "output_type": "stream",
     "text": [
      "This will take a minute or so because it is embedding the 'text' field.\n"
     ]
    }
   ],
   "execution_count": 25
  },
  {
   "metadata": {},
   "cell_type": "markdown",
   "source": [
    "### Merging the Other Nodes and Relationships\n",
    "The below demonstrates merging the rest of the structured data.  Note that no Cypher is required and it is order independent.  This allows you to focus on just creating the Node and relationship tables you want.  Graph-ND takes care of constraints, indexing, text embedding, etc."
   ],
   "id": "56f1a450b8ebb929"
  },
  {
   "metadata": {
    "ExecuteTime": {
     "end_time": "2025-05-06T12:46:13.558955Z",
     "start_time": "2025-05-06T12:46:11.063343Z"
    }
   },
   "cell_type": "code",
   "source": [
    "prod_cat_records = (product_df[['productCode', 'productGroupName']]\n",
    "                    .rename(columns={'productCode':'start_node_id', 'productGroupName':'end_node_id'})\n",
    "                    .to_dict(orient=\"records\"))\n",
    "\n",
    "graphrag.data.merge_relationships(rel_type='PART_OF',\n",
    "                                  start_node_label='Product',\n",
    "                                  end_node_label='ProductCategory',\n",
    "                                  records=prod_cat_records,\n",
    "                                  source_metadata={\"ingest_id\": ingest_id})"
   ],
   "id": "cef973d6baede6bd",
   "outputs": [],
   "execution_count": 26
  },
  {
   "metadata": {
    "ExecuteTime": {
     "end_time": "2025-05-06T12:46:15.442396Z",
     "start_time": "2025-05-06T12:46:13.563325Z"
    }
   },
   "cell_type": "code",
   "source": [
    "prod_type_records = (product_df[['productCode', 'productTypeName']]\n",
    "                    .rename(columns={'productCode':'start_node_id', 'productTypeName':'end_node_id'})\n",
    "                    .to_dict(orient=\"records\"))\n",
    "\n",
    "graphrag.data.merge_relationships(rel_type='PART_OF',\n",
    "                                  start_node_label='Product',\n",
    "                                  end_node_label='ProductType',\n",
    "                                  records=prod_type_records,\n",
    "                                  source_metadata={\"ingest_id\": ingest_id})"
   ],
   "id": "de5c005a5045a0aa",
   "outputs": [],
   "execution_count": 27
  },
  {
   "metadata": {
    "ExecuteTime": {
     "end_time": "2025-05-06T12:46:16.013286Z",
     "start_time": "2025-05-06T12:46:15.464705Z"
    }
   },
   "cell_type": "code",
   "source": [
    "customer_df = pd.read_csv(os.path.join(data_dir, \"customers.csv\"))\n",
    "records = customer_df[[ \"customerId\", \"postalCode\", \"age\", \"fashionNewsFrequency\", \"clubMemberStatus\"]].to_dict(orient=\"records\")\n",
    "\n",
    "graphrag.data.merge_nodes(\"Customer\", records, source_metadata={\"ingest_id\": ingest_id})"
   ],
   "id": "e7d79c1d255638af",
   "outputs": [],
   "execution_count": 28
  },
  {
   "metadata": {
    "ExecuteTime": {
     "end_time": "2025-05-06T12:46:18.406285Z",
     "start_time": "2025-05-06T12:46:16.031593Z"
    }
   },
   "cell_type": "code",
   "source": [
    "article_df = pd.read_csv(os.path.join(data_dir, \"articles.csv\"))\n",
    "\n",
    "article_records = article_df[[\"articleId\", \"colourGroupCode\", \"colourGroupName\", \"graphicalAppearanceName\", \"graphicalAppearanceNo\"]].to_dict(orient=\"records\")\n",
    "\n",
    "graphrag.data.merge_nodes(\"Article\", article_records, source_metadata={\"ingest_id\": ingest_id})\n"
   ],
   "id": "1cea10687c1c29dd",
   "outputs": [],
   "execution_count": 29
  },
  {
   "metadata": {
    "ExecuteTime": {
     "end_time": "2025-05-06T12:46:21.322317Z",
     "start_time": "2025-05-06T12:46:18.419530Z"
    }
   },
   "cell_type": "code",
   "source": [
    "variant_records = (article_df[['articleId', 'productCode']]\n",
    "                    .rename(columns={'articleId':'start_node_id', 'productCode':'end_node_id'})\n",
    "                    .to_dict(orient=\"records\"))\n",
    "\n",
    "graphrag.data.merge_relationships(rel_type='VARIANT_OF',\n",
    "                                  start_node_label='Article',\n",
    "                                  end_node_label='Product',\n",
    "                                  records=variant_records,\n",
    "                                  source_metadata={\"ingest_id\": ingest_id})"
   ],
   "id": "d0331e51ecba49a1",
   "outputs": [],
   "execution_count": 30
  },
  {
   "metadata": {
    "ExecuteTime": {
     "end_time": "2025-05-06T12:46:24.130608Z",
     "start_time": "2025-05-06T12:46:21.332437Z"
    }
   },
   "cell_type": "code",
   "source": [
    "supplied_by_records = (article_df[['articleId', 'supplierId']]\n",
    "                    .rename(columns={'articleId':'start_node_id', 'supplierId':'end_node_id'})\n",
    "                    .to_dict(orient=\"records\"))\n",
    "graphrag.data.merge_relationships(rel_type='SUPPLIED_BY',\n",
    "                                  start_node_label='Article',\n",
    "                                  end_node_label='Supplier',\n",
    "                                  records=supplied_by_records,\n",
    "                                  source_metadata={\"ingest_id\": ingest_id})"
   ],
   "id": "feb10adcb076539a",
   "outputs": [],
   "execution_count": 31
  },
  {
   "metadata": {
    "ExecuteTime": {
     "end_time": "2025-05-06T12:46:24.628392Z",
     "start_time": "2025-05-06T12:46:24.150927Z"
    }
   },
   "cell_type": "code",
   "source": [
    "supplier_df = pd.read_csv(os.path.join(data_dir, \"suppliers.csv\"))\n",
    "supplier_records = supplier_df.rename(columns={\"supplierName\": \"name\", \"supplierAddress\": \"address\"}).to_dict(orient=\"records\")\n",
    "graphrag.data.merge_nodes(\"Supplier\", supplier_records, source_metadata={\"ingest_id\": ingest_id})"
   ],
   "id": "dd084974fcb913ed",
   "outputs": [],
   "execution_count": 32
  },
  {
   "metadata": {},
   "cell_type": "markdown",
   "source": [
    "## Text Extraction From PDF\n",
    "We can Add schema subsets here for precision. The SubSchema has the following input options\n",
    "- nodes: Union[str, List[str]], optional\n",
    "    A node or list of node labels to include in the subset. If provided, the node schemas\n",
    "    corresponding to these nodes will be retrieved.\n",
    "- patterns: Union[Tuple[str, str, str], List[Tuple[str, str, str]]], optional\n",
    "    A pattern or list of patterns defining relationships to filter by. Each pattern is a\n",
    "    tuple containing:\n",
    "    - Start node label (str)\n",
    "    - Relationship type (str)\n",
    "    - End node label (str)\n",
    "    The relevant node schemas and relationship schemas will be included in the subset.\n",
    "- relationships: Union[str, List[str]], optional\n",
    "    A relationship type or list of relationship types to include in the subset.\n",
    "    All query patterns for the relationship type (and their start and end nodes) will be included in the subset.\n",
    "- description: str, optional\n",
    "    A custom description for the subsetted graph schema. Can be used to pass customized prompts/context for extraction.\n",
    "    If not provided, a default description may be generated based on the existing schema and provided subset criteria."
   ],
   "id": "268531cc274e0d73"
  },
  {
   "metadata": {
    "ExecuteTime": {
     "end_time": "2025-05-06T12:49:58.002569Z",
     "start_time": "2025-05-06T12:46:24.645801Z"
    }
   },
   "cell_type": "code",
   "source": [
    "from graph_nd import SubSchema\n",
    "\n",
    "# less than 1% of the time the llm will miss nodes/rels. This is random so repeating twice near guarantees we get everything\n",
    "for i in range(2):\n",
    "    graphrag.data.merge_pdf(os.path.join(data_dir, 'credit-notes.pdf'),\n",
    "                            nodes_only=False,\n",
    "                            sub_schema=SubSchema(\n",
    "                                patterns=[('CreditNote','REFUND_FOR_ORDER', 'Order'), ('CreditNote',\"REFUND_OF_ARTICLE\", 'Article')]\n",
    "                            ))"
   ],
   "id": "b6ff9374080426d9",
   "outputs": [
    {
     "name": "stdout",
     "output_type": "stream",
     "text": [
      "[Data] Merging data from document: /Users/zachblumenfeld/demo/graphrag-nd/examples/retail/data/credit-notes.pdf\n"
     ]
    },
    {
     "name": "stderr",
     "output_type": "stream",
     "text": [
      "Extracting entities from text: 100%|██████████| 31/31 [01:54<00:00,  3.69s/it]\n"
     ]
    },
    {
     "name": "stdout",
     "output_type": "stream",
     "text": [
      "Consolidating results...\n"
     ]
    },
    {
     "name": "stderr",
     "output_type": "stream",
     "text": [
      "Merging Nodes by Label: 100%|██████████| 3/3 [00:06<00:00,  2.03s/node]\n",
      "Merging Relationships by Type & Pattern: 100%|██████████| 2/2 [00:01<00:00,  1.91rel/s]\n"
     ]
    },
    {
     "name": "stdout",
     "output_type": "stream",
     "text": [
      "[Data] Merging data from document: /Users/zachblumenfeld/demo/graphrag-nd/examples/retail/data/credit-notes.pdf\n"
     ]
    },
    {
     "name": "stderr",
     "output_type": "stream",
     "text": [
      "Extracting entities from text: 100%|██████████| 31/31 [01:25<00:00,  2.77s/it]\n"
     ]
    },
    {
     "name": "stdout",
     "output_type": "stream",
     "text": [
      "Consolidating results...\n"
     ]
    },
    {
     "name": "stderr",
     "output_type": "stream",
     "text": [
      "Merging Nodes by Label: 100%|██████████| 3/3 [00:04<00:00,  1.51s/node]\n",
      "Merging Relationships by Type & Pattern: 100%|██████████| 2/2 [00:01<00:00,  1.85rel/s]\n"
     ]
    }
   ],
   "execution_count": 33
  },
  {
   "metadata": {},
   "cell_type": "markdown",
   "source": "## Test an Agent",
   "id": "ba79be6f05b515c1"
  },
  {
   "metadata": {
    "ExecuteTime": {
     "end_time": "2025-04-17T14:18:17.721032Z",
     "start_time": "2025-04-17T14:18:11.201080Z"
    }
   },
   "cell_type": "code",
   "source": "graphrag.agent(\"Which suppliers where responsible for the most refunds\")",
   "id": "54d065512fc81db0",
   "outputs": [
    {
     "name": "stdout",
     "output_type": "stream",
     "text": [
      "================================\u001B[1m Human Message \u001B[0m=================================\n",
      "\n",
      "Which suppliers where responsible for the most refunds\n",
      "==================================\u001B[1m Ai Message \u001B[0m==================================\n",
      "Tool Calls:\n",
      "  aggregate (call_Y6hLaR5Xkp2eD7sgONldmT4W)\n",
      " Call ID: call_Y6hLaR5Xkp2eD7sgONldmT4W\n",
      "  Args:\n",
      "    agg_instructions: Aggregate the number of refunds for each supplier by counting the REFUND_OF_ARTICLE relationships for each supplier and return the suppliers with the highest number of refunds.\n",
      "Running Query:\n",
      "MATCH (cn:CreditNote)-[:REFUND_OF_ARTICLE]->(a:Article)-[:SUPPLIED_BY]->(s:Supplier)\n",
      "RETURN s.name AS supplierName, COUNT(cn) AS refundCount\n",
      "ORDER BY refundCount DESC\n",
      "=================================\u001B[1m Tool Message \u001B[0m=================================\n",
      "Name: aggregate\n",
      "\n",
      "[\n",
      "    {\n",
      "        \"supplierName\": \"1616 - Textile & Apparel Manufacturing\",\n",
      "        \"refundCount\": 45\n",
      "    },\n",
      "    {\n",
      "        \"supplierName\": \"1779 - Denim Textiles\",\n",
      "        \"refundCount\": 42\n",
      "    },\n",
      "    {\n",
      "        \"supplierName\": \"3708 - Textile & Apparel Manufacturing\",\n",
      "        \"refundCount\": 40\n",
      "    },\n",
      "    {\n",
      "        \"supplierName\": \"1643 - Textile & Apparel Manufacturing\",\n",
      "        \"refundCount\": 39\n",
      "    },\n",
      "    {\n",
      "        \"supplierName\": \"5832 - Jersey Mills\",\n",
      "        \"refundCount\": 26\n",
      "    },\n",
      "    {\n",
      "        \"supplierName\": \"1339 - Intimate Apparel Suppliers\",\n",
      "        \"refundCount\": 15\n",
      "    },\n",
      "    {\n",
      "        \"supplierName\": \"1422 - Textile & Apparel Manufacturing\",\n",
      "        \"refundCount\": 14\n",
      "    },\n",
      "    {\n",
      "        \"supplierName\": \"1778 - Textile & Apparel Manufacturing\",\n",
      "        \"refundCount\": 12\n",
      "    },\n",
      "    {\n",
      "        \"supplierName\": \"1201 - Outerwear Suppliers\",\n",
      "        \"refundCount\": 11\n",
      "    },\n",
      "    {\n",
      "        \"supplierName\": \"3936 - Textile & Apparel Manufacturing\",\n",
      "        \"refundCount\": 10\n",
      "    },\n",
      "    {\n",
      "        \"supplierName\": \"3610 - Sock & Hosiery Production\",\n",
      "        \"refundCount\": 10\n",
      "    },\n",
      "    {\n",
      "        \"supplierName\": \"1666 - Jersey Mills\",\n",
      "        \"refundCount\": 9\n",
      "    },\n",
      "    {\n",
      "        \"supplierName\": \"1772 - Denim Textiles\",\n",
      "        \"refundCount\": 9\n",
      "    },\n",
      "    {\n",
      "        \"supplierName\": \"5868 - Textile & Apparel Manufacturing\",\n",
      "        \"refundCount\": 6\n",
      "    },\n",
      "    {\n",
      "        \"supplierName\": \"3932 - Textile & Apparel Manufacturing\",\n",
      "        \"refundCount\": 5\n",
      "    },\n",
      "    {\n",
      "        \"supplierName\": \"2032 - Jersey Mills\",\n",
      "        \"refundCount\": 5\n",
      "    },\n",
      "    {\n",
      "        \"supplierName\": \"1649 - Trousers & Slacks Mills\",\n",
      "        \"refundCount\": 4\n",
      "    },\n",
      "    {\n",
      "        \"supplierName\": \"1773 - Denim Textiles\",\n",
      "        \"refundCount\": 4\n",
      "    }\n",
      "]\n",
      "==================================\u001B[1m Ai Message \u001B[0m==================================\n",
      "\n",
      "The suppliers responsible for the most refunds are:\n",
      "\n",
      "1. **1616 - Textile & Apparel Manufacturing** with 45 refunds.\n",
      "2. **1779 - Denim Textiles** with 42 refunds.\n",
      "3. **3708 - Textile & Apparel Manufacturing** with 40 refunds.\n",
      "4. **1643 - Textile & Apparel Manufacturing** with 39 refunds.\n",
      "5. **5832 - Jersey Mills** with 26 refunds.\n"
     ]
    }
   ],
   "execution_count": 7
  },
  {
   "metadata": {},
   "cell_type": "markdown",
   "source": [
    "## Adding Custom Tools For Retrieval\n",
    "For our use case there may be some specific query templates and retrieval methodologies. We casn easily add these to our langgraph agent"
   ],
   "id": "ad15f7255f6452f2"
  },
  {
   "metadata": {
    "ExecuteTime": {
     "end_time": "2025-05-06T13:47:14.986952Z",
     "start_time": "2025-05-06T13:47:14.983531Z"
    }
   },
   "cell_type": "code",
   "source": [
    "from typing import List, Dict\n",
    "\n",
    "\n",
    "def get_product_recommendations(product_codes_or_article_ids: List[int]) -> List[Dict]:\n",
    "    \"\"\"\n",
    "    Retrieve product recommendations given a list of product codes or articles ids.\n",
    "    Please re-order or filter further based on additional context from user.\n",
    "    \"\"\"\n",
    "    res = db_client.execute_query(\"\"\"\n",
    "    //recommend from product codes\n",
    "    MATCH (interestedInProducts:Product)<-[:VARIANT_OF]-(interestedInArticles:Article)<-[:CONTAINS]-()<-[:ORDERED]\n",
    "    -(:Customer)-[:ORDERED]->()-[:CONTAINS]->(recArticle:Article)-[:VARIANT_OF]->(product:Product)\n",
    "    WHERE (interestedInArticles.articleId IN $itemIds)\n",
    "        OR (interestedInProducts.productCode IN $itemIds)\n",
    "    WITH count(recArticle) AS recommendationScore, product\n",
    "    RETURN product.productCode AS productCode,\n",
    "        product.text AS text,\n",
    "        product.url AS url\n",
    "    ORDER BY recommendationScore DESC LIMIT 20\n",
    "    \"\"\", itemIds=product_codes_or_article_ids, result_transformer_ = lambda r: r.data())\n",
    "    return res\n",
    "\n",
    "\n",
    "def get_product_order_supplier_info(product_codes: List[int]) -> List[Dict]:\n",
    "    \"\"\"\n",
    "    Given a list of product codes, gets statistics for total orders and refunds as well as by supplier for each product.\n",
    "    \"\"\"\n",
    "    res = db_client.execute_query(\"\"\"\n",
    "    MATCH(p:Product)<-[:VARIANT_OF]-(a:Article)-[:SUPPLIED_BY]->(s)\n",
    "    WHERE p.productCode IN $productCodes\n",
    "    WITH *,\n",
    "      COUNT {MATCH (:Order)-[:CONTAINS]->(a)} AS numberOfOrders,\n",
    "      COUNT {MATCH (:CreditNote)-[:REFUND_OF_ARTICLE]-(a)} AS numberOfRefunds\n",
    "    RETURN p.productCode AS productCode,\n",
    "      sum(numberOfOrders) AS totalOrders,\n",
    "      sum(numberOfRefunds) AS totalReturns,\n",
    "      collect({supplierId:s.supplierId, name:s.name, numberOfOrders:numberOfOrders, numberOfRefunds:numberOfRefunds}) AS supplierInfos\n",
    "    \"\"\", productCodes=product_codes, result_transformer_ = lambda r: r.data())\n",
    "    return res\n",
    "\n",
    "def get_supplier_order_product_info(supplier_ids: List[int]) -> List[Dict]:\n",
    "    \"\"\"\n",
    "    Given a list of supplier ids, gets statistics for the total orders and refunds as well by product delivered for each supplier.\n",
    "    \"\"\"\n",
    "    res = db_client.execute_query(\"\"\"\n",
    "    MATCH(p:Product)<-[:VARIANT_OF]-(:Article)-[:SUPPLIED_BY]->(s)\n",
    "    WHERE s.supplierId IN $supplierIds\n",
    "    WITH DISTINCT p, s,\n",
    "      COUNT {MATCH (:Order)-[:CONTAINS]->()-[:VARIANT_OF]->(p)} AS numberOfOrders,\n",
    "      COUNT {MATCH (:CreditNote)-[:REFUND_OF_ARTICLE]-()-[:VARIANT_OF]->(p)} AS numberOfRefunds\n",
    "    RETURN s.supplierId AS supplierId,\n",
    "      sum(numberOfOrders) AS totalOrders,\n",
    "      sum(numberOfRefunds) AS totalReturns,\n",
    "      collect({productCode:p.productCode, name:s.name, numberOfOrders:numberOfOrders, numberOfRefunds:numberOfRefunds}) AS supplierInfos\n",
    "    \"\"\", supplierIds=supplier_ids, result_transformer_ = lambda r: r.data())\n",
    "    return res"
   ],
   "id": "2a8edb02ac1f9556",
   "outputs": [],
   "execution_count": 4
  },
  {
   "metadata": {
    "ExecuteTime": {
     "end_time": "2025-05-06T13:47:19.874118Z",
     "start_time": "2025-05-06T13:47:19.851624Z"
    }
   },
   "cell_type": "code",
   "source": [
    "from graph_nd import agent_factory\n",
    "agent = agent_factory.create_langgraph_agent(graphrag, tools=[get_product_recommendations,\n",
    "                                           get_product_order_supplier_info,\n",
    "                                           get_supplier_order_product_info])"
   ],
   "id": "49eb0a35e1d12b0",
   "outputs": [],
   "execution_count": 5
  },
  {
   "metadata": {
    "ExecuteTime": {
     "end_time": "2025-05-06T13:32:09.604034Z",
     "start_time": "2025-05-06T13:32:09.561012Z"
    }
   },
   "cell_type": "code",
   "source": [
    "# agent = graphrag.create_react_agent(tools=[get_product_recommendations,\n",
    "#                                            get_product_order_supplier_info,\n",
    "#                                            get_supplier_order_product_info])"
   ],
   "id": "6e8dc5393edcee49",
   "outputs": [],
   "execution_count": 6
  },
  {
   "metadata": {},
   "cell_type": "markdown",
   "source": "Now let's create a helper function to test out with multi-hop questions",
   "id": "5e81c3c2a8104f6d"
  },
  {
   "metadata": {
    "ExecuteTime": {
     "end_time": "2025-05-06T13:33:50.116901Z",
     "start_time": "2025-05-06T13:33:50.114375Z"
    }
   },
   "cell_type": "code",
   "source": [
    "from langchain_core.messages import HumanMessage\n",
    "\n",
    "# use just like any other langgraph agent...we are going to make a wrapper function for convenience\n",
    "config = {\"configurable\": {\"thread_id\": \"thread-1\"}}\n",
    "\n",
    "def agent_stream(question, history=None):\n",
    "    if history is None:\n",
    "        history = list()\n",
    "    for step in agent.stream(\n",
    "        {\"messages\": history + [HumanMessage(content=question)]},\n",
    "        stream_mode=\"values\", config=config\n",
    "    ):\n",
    "        history.append(step[\"messages\"][-1])\n",
    "        step[\"messages\"][-1].pretty_print()\n",
    "    return history\n"
   ],
   "id": "fc825d614ce138b3",
   "outputs": [],
   "execution_count": 6
  },
  {
   "metadata": {
    "ExecuteTime": {
     "end_time": "2025-05-06T13:34:08.124167Z",
     "start_time": "2025-05-06T13:33:53.252233Z"
    }
   },
   "cell_type": "code",
   "source": "history = agent_stream(\"What are some good sweaters for spring? Nothing too warm please!\")",
   "id": "888fb9e7a06e425f",
   "outputs": [
    {
     "name": "stdout",
     "output_type": "stream",
     "text": [
      "================================\u001B[1m Human Message \u001B[0m=================================\n",
      "\n",
      "What are some good sweaters for spring? Nothing too warm please!\n",
      "==================================\u001B[1m Ai Message \u001B[0m==================================\n",
      "Tool Calls:\n",
      "  node_search (call_A8eGueX0Mx7qWmZpPKLfa1tq)\n",
      " Call ID: call_A8eGueX0Mx7qWmZpPKLfa1tq\n",
      "  Args:\n",
      "    search_config: {'search_type': 'SEMANTIC', 'node_label': 'Product', 'search_prop': 'text'}\n",
      "    search_query: light sweaters for spring\n",
      "=================================\u001B[1m Tool Message \u001B[0m=================================\n",
      "Name: node_search\n",
      "\n",
      "[\n",
      "    {\n",
      "        \"productCode\": 358483,\n",
      "        \"text\": \"##Product \\nName: Stressan light knit jumper\\nType: Sweater\\nCategory: Garment Upper body\\nDescription: Jumper in a light, fine, soft knit with long sleeves, raw edges and a rounded hem. Slightly longer at the back.\",\n",
      "        \"description\": \"Jumper in a light, fine, soft knit with long sleeves, raw edges and a rounded hem. Slightly longer at the back.\",\n",
      "        \"name\": \"Stressan light knit jumper\",\n",
      "        \"url\": \"https://xyzbrands/product/358483\",\n",
      "        \"search_score\": 0.914306640625\n",
      "    },\n",
      "    {\n",
      "        \"productCode\": 687335,\n",
      "        \"text\": \"##Product \\nName: Nice LS\\nType: Sweater\\nCategory: Garment Upper body\\nDescription: Jumper in a soft rib knit with a small stand-up collar and cut-out section at the front. Long sleeves with wrapover sections on the shoulders.\",\n",
      "        \"description\": \"Jumper in a soft rib knit with a small stand-up collar and cut-out section at the front. Long sleeves with wrapover sections on the shoulders.\",\n",
      "        \"name\": \"Nice LS\",\n",
      "        \"url\": \"https://xyzbrands/product/687335\",\n",
      "        \"search_score\": 0.9123382568359375\n",
      "    },\n",
      "    {\n",
      "        \"productCode\": 779863,\n",
      "        \"text\": \"##Product \\nName: FF Sunflower knit\\nType: Sweater\\nCategory: Garment Upper body\\nDescription: Slightly longer jumper in a soft rib knit containing some wool with a high collar, zip at the top, low dropped shoulders, long sleeves and ribbing at the cuffs and hem. The polyester content of the top is recycled.\",\n",
      "        \"description\": \"Slightly longer jumper in a soft rib knit containing some wool with a high collar, zip at the top, low dropped shoulders, long sleeves and ribbing at the cuffs and hem. The polyester content of the top is recycled.\",\n",
      "        \"name\": \"FF Sunflower knit\",\n",
      "        \"url\": \"https://xyzbrands/product/779863\",\n",
      "        \"search_score\": 0.9119873046875\n",
      "    },\n",
      "    {\n",
      "        \"productCode\": 798779,\n",
      "        \"text\": \"##Product \\nName: Irma svettis\\nType: Sweater\\nCategory: Garment Upper body\\nDescription: Short, boxy top in soft sweatshirt fabric with a motif on the front, dropped shoulders, long, slightly wider sleeves and ribbing around the neckline, cuffs and hem. Soft brushed inside.\",\n",
      "        \"description\": \"Short, boxy top in soft sweatshirt fabric with a motif on the front, dropped shoulders, long, slightly wider sleeves and ribbing around the neckline, cuffs and hem. Soft brushed inside.\",\n",
      "        \"name\": \"Irma svettis\",\n",
      "        \"url\": \"https://xyzbrands/product/798779\",\n",
      "        \"search_score\": 0.9119873046875\n",
      "    },\n",
      "    {\n",
      "        \"productCode\": 674250,\n",
      "        \"text\": \"##Product \\nName: William L/S top\\nType: Sweater\\nCategory: Garment Upper body\\nDescription: Top in airy, nepped jersey with a round neck, long sleeves and a lace-trimmed hem.\",\n",
      "        \"description\": \"Top in airy, nepped jersey with a round neck, long sleeves and a lace-trimmed hem.\",\n",
      "        \"name\": \"William L/S top\",\n",
      "        \"url\": \"https://xyzbrands/product/674250\",\n",
      "        \"search_score\": 0.9118194580078125\n",
      "    },\n",
      "    {\n",
      "        \"productCode\": 799627,\n",
      "        \"text\": \"##Product \\nName: Skylar Multicolor Sweater\\nType: Sweater\\nCategory: Garment Upper body\\nDescription: Slightly boxy jumper in a soft, chunky knit with low dropped shoulders and ribbing around the neckline, cuffs and hem.\",\n",
      "        \"description\": \"Slightly boxy jumper in a soft, chunky knit with low dropped shoulders and ribbing around the neckline, cuffs and hem.\",\n",
      "        \"name\": \"Skylar Multicolor Sweater\",\n",
      "        \"url\": \"https://xyzbrands/product/799627\",\n",
      "        \"search_score\": 0.9114837646484375\n",
      "    },\n",
      "    {\n",
      "        \"productCode\": 915529,\n",
      "        \"text\": \"##Product \\nName: Liliana\\nType: Sweater\\nCategory: Garment Upper body\\nDescription: Jumper in a soft, fine knit containing some wool with a square neckline and long puff sleeves. Wide ribbing at the cuffs and hem. The polyester content of the jumper is recycled.\",\n",
      "        \"description\": \"Jumper in a soft, fine knit containing some wool with a square neckline and long puff sleeves. Wide ribbing at the cuffs and hem. The polyester content of the jumper is recycled.\",\n",
      "        \"name\": \"Liliana\",\n",
      "        \"url\": \"https://xyzbrands/product/915529\",\n",
      "        \"search_score\": 0.910797119140625\n",
      "    },\n",
      "    {\n",
      "        \"productCode\": 662868,\n",
      "        \"text\": \"##Product \\nName: Daisy\\nType: Sweater\\nCategory: Garment Upper body\\nDescription: Jumper in a soft knit containing some wool with a wide, ribbed polo neck, low dropped shoulders and ribbing at the cuffs and hem. Slightly longer at the back.\",\n",
      "        \"description\": \"Jumper in a soft knit containing some wool with a wide, ribbed polo neck, low dropped shoulders and ribbing at the cuffs and hem. Slightly longer at the back.\",\n",
      "        \"name\": \"Daisy\",\n",
      "        \"url\": \"https://xyzbrands/product/662868\",\n",
      "        \"search_score\": 0.9106903076171875\n",
      "    },\n",
      "    {\n",
      "        \"productCode\": 620081,\n",
      "        \"text\": \"##Product \\nName: Tulip jumper\\nType: Sweater\\nCategory: Garment Upper body\\nDescription: \",\n",
      "        \"description\": NaN,\n",
      "        \"name\": \"Tulip jumper\",\n",
      "        \"url\": \"https://xyzbrands/product/620081\",\n",
      "        \"search_score\": 0.9104766845703125\n",
      "    },\n",
      "    {\n",
      "        \"productCode\": 559580,\n",
      "        \"text\": \"##Product \\nName: Ramsey washed out\\nType: Sweater\\nCategory: Garment Upper body\\nDescription: Straight-style jumper in washed, rib-knit cotton with long raglan sleeves and ribbing around the neckline, cuffs and hem.\",\n",
      "        \"description\": \"Straight-style jumper in washed, rib-knit cotton with long raglan sleeves and ribbing around the neckline, cuffs and hem.\",\n",
      "        \"name\": \"Ramsey washed out\",\n",
      "        \"url\": \"https://xyzbrands/product/559580\",\n",
      "        \"search_score\": 0.9100341796875\n",
      "    }\n",
      "]\n",
      "==================================\u001B[1m Ai Message \u001B[0m==================================\n",
      "\n",
      "Here are some light sweaters that would be perfect for spring:\n",
      "\n",
      "1. **Stressan Light Knit Jumper**\n",
      "   - Description: Jumper in a light, fine, soft knit with long sleeves, raw edges, and a rounded hem. Slightly longer at the back.\n",
      "   - [View Product](https://xyzbrands/product/358483)\n",
      "\n",
      "2. **Nice LS**\n",
      "   - Description: Jumper in a soft rib knit with a small stand-up collar and cut-out section at the front. Long sleeves with wrapover sections on the shoulders.\n",
      "   - [View Product](https://xyzbrands/product/687335)\n",
      "\n",
      "3. **FF Sunflower Knit**\n",
      "   - Description: Slightly longer jumper in a soft rib knit containing some wool with a high collar, zip at the top, low dropped shoulders, long sleeves, and ribbing at the cuffs and hem. The polyester content of the top is recycled.\n",
      "   - [View Product](https://xyzbrands/product/779863)\n",
      "\n",
      "4. **Irma Svettis**\n",
      "   - Description: Short, boxy top in soft sweatshirt fabric with a motif on the front, dropped shoulders, long, slightly wider sleeves, and ribbing around the neckline, cuffs, and hem. Soft brushed inside.\n",
      "   - [View Product](https://xyzbrands/product/798779)\n",
      "\n",
      "5. **William L/S Top**\n",
      "   - Description: Top in airy, nepped jersey with a round neck, long sleeves, and a lace-trimmed hem.\n",
      "   - [View Product](https://xyzbrands/product/674250)\n",
      "\n",
      "These options should keep you comfortable and stylish during the spring season!\n"
     ]
    }
   ],
   "execution_count": 7
  },
  {
   "metadata": {
    "ExecuteTime": {
     "end_time": "2025-04-17T15:21:21.529591Z",
     "start_time": "2025-04-17T15:21:11.346017Z"
    }
   },
   "cell_type": "code",
   "source": "history = agent_stream(\"What else can you recommend to go with that?\", history)",
   "id": "81f76530ee6d959c",
   "outputs": [
    {
     "name": "stdout",
     "output_type": "stream",
     "text": [
      "================================\u001B[1m Human Message \u001B[0m=================================\n",
      "\n",
      "What else can you recommend to go with that?\n",
      "==================================\u001B[1m Ai Message \u001B[0m==================================\n",
      "Tool Calls:\n",
      "  get_product_recommendations (call_JXeGMLg9cUClLu3PqBiFNz0B)\n",
      " Call ID: call_JXeGMLg9cUClLu3PqBiFNz0B\n",
      "  Args:\n",
      "    product_codes_or_article_ids: [662868, 903790, 794793, 574112, 538283]\n",
      "=================================\u001B[1m Tool Message \u001B[0m=================================\n",
      "Name: get_product_recommendations\n",
      "\n",
      "[{\"productCode\": 436083, \"text\": \"##Product \\nName: Adhesive Bra\\nType: Bra\\nCategory: Underwear\\nDescription: Bra with self-adhesive cups and no shoulder straps or back making it perfect for wearing under strapless or backless garments. Front fastening. Can be washed and reused.\", \"url\": \"https://xyzbrands/product/436083\"}, {\"productCode\": 562245, \"text\": \"##Product \\nName: Luna skinny RW\\nType: Trousers\\nCategory: Garment Lower body\\nDescription: 5-pocket jeans in washed, superstretch denim with a regular waist, zip fly and button, and skinny legs.\", \"url\": \"https://xyzbrands/product/562245\"}, {\"productCode\": 372860, \"text\": \"##Product \\nName: 7p Basic Shaftless\\nType: Socks\\nCategory: Socks & Tights\\nDescription: Fine-knit trainer socks in a soft cotton blend.\", \"url\": \"https://xyzbrands/product/372860\"}, {\"productCode\": 536139, \"text\": \"##Product \\nName: Alex Jogger (J)\\nType: Pyjama bottom\\nCategory: Nightwear\\nDescription: Pyjama bottoms in lightweight fabric with an elasticated drawstring waist and tapered legs with ribbed hems.\", \"url\": \"https://xyzbrands/product/536139\"}, {\"productCode\": 803757, \"text\": \"##Product \\nName: Bradley trousers\\nType: Trousers\\nCategory: Garment Lower body\\nDescription: Joggers in lightweight sweatshirt fabric made from a cotton blend with covered elastication and a drawstring at the waist. Tapered legs with jersey ribbing at the hems.\", \"url\": \"https://xyzbrands/product/803757\"}, {\"productCode\": 672127, \"text\": \"##Product \\nName: Valerie Wide Leg trousers\\nType: Trousers\\nCategory: Garment Lower body\\nDescription: Trousers in viscose jersey with an elasticated waist, side pockets and straight, wide legs.\", \"url\": \"https://xyzbrands/product/672127\"}, {\"productCode\": 794575, \"text\": \"##Product \\nName: Sascha pullover hoodie\\nType: Hoodie\\nCategory: Garment Upper body\\nDescription: Wide top in sweatshirt fabric with a lined, drawstring hood, long raglan sleeves, kangaroo pocket and ribbing at the cuffs and hem. Soft brushed inside.\", \"url\": \"https://xyzbrands/product/794575\"}, {\"productCode\": 573085, \"text\": \"##Product \\nName: Madison skinny HW\\nType: Trousers\\nCategory: Garment Lower body\\nDescription: 5-pocket jeans in washed stretch denim with a high waist, zip fly and slim legs.\", \"url\": \"https://xyzbrands/product/573085\"}, {\"productCode\": 448515, \"text\": \"##Product \\nName: Kendall RW Denim TRS\\nType: Trousers\\nCategory: Garment Lower body\\nDescription: 5-pocket ankle-length jeans in washed stretch denim with hard-worn details, a regular waist, zip fly and button and skinny legs.\", \"url\": \"https://xyzbrands/product/448515\"}, {\"productCode\": 720125, \"text\": \"##Product \\nName: SUPREME RW tights\\nType: Leggings/Tights\\nCategory: Garment Lower body\\nDescription: Sports tights in fast-drying functional fabric with a wide waistband to hold in and shape the waist. Regular waist with a concealed key pocket in the waistband.\", \"url\": \"https://xyzbrands/product/720125\"}, {\"productCode\": 719957, \"text\": \"##Product \\nName: Ginger Ch hipster ctn 3p\\nType: Underwear bottom\\nCategory: Underwear\\nDescription: Hipster briefs in cotton jersey and lace with a low waist, lined gusset and cutaway coverage at the back.\", \"url\": \"https://xyzbrands/product/719957\"}, {\"productCode\": 871581, \"text\": \"##Product \\nName: Basilika Playsuit\\nType: Trousers\\nCategory: Garment Lower body\\nDescription: Jersey playsuit with a smocked bodice, small frill trim at the top, narrow, adjustable shoulder straps and a seam with a detachable tie belt at the waist. Short, slightly wider legs.\", \"url\": \"https://xyzbrands/product/871581\"}, {\"productCode\": 662888, \"text\": \"##Product \\nName: Miranda\\nType: Sweater\\nCategory: Garment Upper body\\nDescription: Off-the-shoulder jumper in a soft, fine knit containing some wool with a double-layered trim at the top, long, wide sleeves and ribbing at the cuffs and hem.\", \"url\": \"https://xyzbrands/product/662888\"}, {\"productCode\": 841260, \"text\": \"##Product \\nName: Jen tee\\nType: T-shirt\\nCategory: Garment Upper body\\nDescription: T-shirt in soft jersey with a round neckline with a narrow, ribbed trim.\", \"url\": \"https://xyzbrands/product/841260\"}, {\"productCode\": 625939, \"text\": \"##Product \\nName: Cat Tee\\nType: T-shirt\\nCategory: Garment Upper body\\nDescription: T-shirt in soft jersey made from a viscose blend.\", \"url\": \"https://xyzbrands/product/625939\"}, {\"productCode\": 636323, \"text\": \"##Product \\nName: Skinny H.W Ankle Queens\\nType: Trousers\\nCategory: Garment Lower body\\nDescription: Ankle-length jeans in washed, stretch denim with a high waist, zip fly and button, back pockets and skinny legs.\", \"url\": \"https://xyzbrands/product/636323\"}, {\"productCode\": 753214, \"text\": \"##Product \\nName: Price tee - TVP- TM\\nType: T-shirt\\nCategory: Garment Upper body\\nDescription: T-shirt in cotton jersey with a motif.\", \"url\": \"https://xyzbrands/product/753214\"}, {\"productCode\": 558986, \"text\": \"##Product \\nName: Mary LS\\nType: Sweater\\nCategory: Garment Upper body\\nDescription: Fitted, off-the-shoulder jersey top in a soft viscose blend with a V-neck front and back and long sleeves.\", \"url\": \"https://xyzbrands/product/558986\"}, {\"productCode\": 696209, \"text\": \"##Product \\nName: Ciara wide cropped HW\\nType: Trousers\\nCategory: Garment Lower body\\nDescription: Ankle-length pull on-trousers in woven fabric. High waist with wide elastication and a small frill trim at the top, side pockets and straight, wide legs.\", \"url\": \"https://xyzbrands/product/696209\"}, {\"productCode\": 470985, \"text\": \"##Product \\nName: Vaughan sneaker\\nType: Sneakers\\nCategory: Shoes\\nDescription: Trainers in cotton canvas with lacing at the front and a loop at the back. Cotton linings and insoles and thermoplastic rubber (TPR) soles.\", \"url\": \"https://xyzbrands/product/470985\"}]\n",
      "==================================\u001B[1m Ai Message \u001B[0m==================================\n",
      "\n",
      "Here are some additional items that would pair well with the spring sweaters:\n",
      "\n",
      "1. **Luna Skinny RW Trousers**\n",
      "   - Description: 5-pocket jeans in washed, superstretch denim with a regular waist, zip fly and button, and skinny legs.\n",
      "   - [View Product](https://xyzbrands/product/562245)\n",
      "\n",
      "2. **Valerie Wide Leg Trousers**\n",
      "   - Description: Trousers in viscose jersey with an elasticated waist, side pockets, and straight, wide legs.\n",
      "   - [View Product](https://xyzbrands/product/672127)\n",
      "\n",
      "3. **Madison Skinny HW Trousers**\n",
      "   - Description: 5-pocket jeans in washed stretch denim with a high waist, zip fly, and slim legs.\n",
      "   - [View Product](https://xyzbrands/product/573085)\n",
      "\n",
      "4. **Vaughan Sneakers**\n",
      "   - Description: Trainers in cotton canvas with lacing at the front and a loop at the back. Cotton linings and insoles and thermoplastic rubber (TPR) soles.\n",
      "   - [View Product](https://xyzbrands/product/470985)\n",
      "\n",
      "5. **Jen Tee**\n",
      "   - Description: T-shirt in soft jersey with a round neckline with a narrow, ribbed trim.\n",
      "   - [View Product](https://xyzbrands/product/841260)\n",
      "\n",
      "These items should complement the sweaters nicely, providing a complete and stylish spring outfit.\n"
     ]
    }
   ],
   "execution_count": 41
  },
  {
   "metadata": {
    "ExecuteTime": {
     "end_time": "2025-04-14T02:26:40.475262Z",
     "start_time": "2025-04-14T02:26:35.912645Z"
    }
   },
   "cell_type": "code",
   "source": "history2 = agent_stream(\"Which suppliers have the highest number of returns (i.,e, credit notes)?\")",
   "id": "e7dcb2e2fdbc8d36",
   "outputs": [
    {
     "name": "stdout",
     "output_type": "stream",
     "text": [
      "================================\u001B[1m Human Message \u001B[0m=================================\n",
      "\n",
      "Which suppliers have the highest number of returns (i.,e, credit notes)?\n",
      "==================================\u001B[1m Ai Message \u001B[0m==================================\n",
      "Tool Calls:\n",
      "  aggregate (call_H494cYQY3z1rEwzqUETKQCBn)\n",
      " Call ID: call_H494cYQY3z1rEwzqUETKQCBn\n",
      "  Args:\n",
      "    agg_instructions: Aggregate the number of credit notes (returns) for each supplier and return the suppliers with the highest number of returns.\n",
      "Running Query:\n",
      "MATCH (cn:CreditNote)-[:REFUND_OF_ARTICLE]->(a:Article)-[:SUPPLIED_BY]->(s:Supplier)\n",
      "WITH s, count(cn) AS numberOfReturns\n",
      "ORDER BY numberOfReturns DESC\n",
      "RETURN s.name, numberOfReturns\n",
      "=================================\u001B[1m Tool Message \u001B[0m=================================\n",
      "Name: aggregate\n",
      "\n",
      "[\n",
      "    {\n",
      "        \"s.name\": \"1616 - Textile & Apparel Manufacturing\",\n",
      "        \"numberOfReturns\": 45\n",
      "    },\n",
      "    {\n",
      "        \"s.name\": \"1779 - Denim Textiles\",\n",
      "        \"numberOfReturns\": 42\n",
      "    },\n",
      "    {\n",
      "        \"s.name\": \"3708 - Textile & Apparel Manufacturing\",\n",
      "        \"numberOfReturns\": 40\n",
      "    },\n",
      "    {\n",
      "        \"s.name\": \"1643 - Textile & Apparel Manufacturing\",\n",
      "        \"numberOfReturns\": 39\n",
      "    },\n",
      "    {\n",
      "        \"s.name\": \"5832 - Jersey Mills\",\n",
      "        \"numberOfReturns\": 26\n",
      "    },\n",
      "    {\n",
      "        \"s.name\": \"1339 - Intimate Apparel Suppliers\",\n",
      "        \"numberOfReturns\": 16\n",
      "    },\n",
      "    {\n",
      "        \"s.name\": \"1422 - Textile & Apparel Manufacturing\",\n",
      "        \"numberOfReturns\": 14\n",
      "    },\n",
      "    {\n",
      "        \"s.name\": \"1778 - Textile & Apparel Manufacturing\",\n",
      "        \"numberOfReturns\": 12\n",
      "    },\n",
      "    {\n",
      "        \"s.name\": \"1201 - Outerwear Suppliers\",\n",
      "        \"numberOfReturns\": 11\n",
      "    },\n",
      "    {\n",
      "        \"s.name\": \"3936 - Textile & Apparel Manufacturing\",\n",
      "        \"numberOfReturns\": 10\n",
      "    },\n",
      "    {\n",
      "        \"s.name\": \"3610 - Sock & Hosiery Production\",\n",
      "        \"numberOfReturns\": 10\n",
      "    },\n",
      "    {\n",
      "        \"s.name\": \"1666 - Jersey Mills\",\n",
      "        \"numberOfReturns\": 9\n",
      "    },\n",
      "    {\n",
      "        \"s.name\": \"1772 - Denim Textiles\",\n",
      "        \"numberOfReturns\": 9\n",
      "    },\n",
      "    {\n",
      "        \"s.name\": \"5868 - Textile & Apparel Manufacturing\",\n",
      "        \"numberOfReturns\": 6\n",
      "    },\n",
      "    {\n",
      "        \"s.name\": \"2032 - Jersey Mills\",\n",
      "        \"numberOfReturns\": 5\n",
      "    },\n",
      "    {\n",
      "        \"s.name\": \"3932 - Textile & Apparel Manufacturing\",\n",
      "        \"numberOfReturns\": 5\n",
      "    },\n",
      "    {\n",
      "        \"s.name\": \"1649 - Trousers & Slacks Mills\",\n",
      "        \"numberOfReturns\": 4\n",
      "    },\n",
      "    {\n",
      "        \"s.name\": \"1773 - Denim Textiles\",\n",
      "        \"numberOfReturns\": 4\n",
      "    }\n",
      "]\n",
      "==================================\u001B[1m Ai Message \u001B[0m==================================\n",
      "\n",
      "The suppliers with the highest number of returns (credit notes) are:\n",
      "\n",
      "1. **1616 - Textile & Apparel Manufacturing**: 45 returns\n",
      "2. **1779 - Denim Textiles**: 42 returns\n",
      "3. **3708 - Textile & Apparel Manufacturing**: 40 returns\n",
      "4. **1643 - Textile & Apparel Manufacturing**: 39 returns\n",
      "5. **5832 - Jersey Mills**: 26 returns\n",
      "\n",
      "These suppliers have the highest number of credit notes issued for returns.\n"
     ]
    }
   ],
   "execution_count": 46
  },
  {
   "metadata": {
    "ExecuteTime": {
     "end_time": "2025-04-14T02:26:59.900545Z",
     "start_time": "2025-04-14T02:26:52.112971Z"
    }
   },
   "cell_type": "code",
   "source": "history3 = agent_stream(\"What are the top 3 most returned products for supplier 1616? Get those product codes and find other suppliers who have less returns for each product I can use instead.\")",
   "id": "c0f9df7ed1961f6c",
   "outputs": [
    {
     "name": "stdout",
     "output_type": "stream",
     "text": [
      "================================\u001B[1m Human Message \u001B[0m=================================\n",
      "\n",
      "What are the top 3 most returned products for supplier 1616? Get those product codes and find other suppliers who have less returns for each product I can use instead.\n",
      "==================================\u001B[1m Ai Message \u001B[0m==================================\n",
      "Tool Calls:\n",
      "  aggregate (call_lrQg0Q7GjUHWWiApLnGgwjml)\n",
      " Call ID: call_lrQg0Q7GjUHWWiApLnGgwjml\n",
      "  Args:\n",
      "    agg_instructions: Find the top 3 most returned products for supplier 1616 by counting the number of refunds associated with each product supplied by this supplier. Return the product codes of these top 3 products.\n",
      "Running Query:\n",
      "MATCH (s:Supplier {supplierId: 1616})<-[:SUPPLIED_BY]-(a:Article)<-[:REFUND_OF_ARTICLE]-(c:CreditNote)\n",
      "MATCH (a)-[:VARIANT_OF]->(p:Product)\n",
      "RETURN p.productCode AS productCode, COUNT(c) AS refundCount\n",
      "ORDER BY refundCount DESC\n",
      "LIMIT 3\n",
      "=================================\u001B[1m Tool Message \u001B[0m=================================\n",
      "Name: aggregate\n",
      "\n",
      "[\n",
      "    {\n",
      "        \"productCode\": 673677,\n",
      "        \"refundCount\": 30\n",
      "    },\n",
      "    {\n",
      "        \"productCode\": 748269,\n",
      "        \"refundCount\": 11\n",
      "    },\n",
      "    {\n",
      "        \"productCode\": 802023,\n",
      "        \"refundCount\": 4\n",
      "    }\n",
      "]\n",
      "==================================\u001B[1m Ai Message \u001B[0m==================================\n",
      "Tool Calls:\n",
      "  get_product_order_supplier_info (call_a0P7ZVjOUTi9fF7f7ImE7qPw)\n",
      " Call ID: call_a0P7ZVjOUTi9fF7f7ImE7qPw\n",
      "  Args:\n",
      "    product_codes: [673677, 748269, 802023]\n",
      "=================================\u001B[1m Tool Message \u001B[0m=================================\n",
      "Name: get_product_order_supplier_info\n",
      "\n",
      "[{\"productCode\": 673677, \"totalOrders\": 35, \"totalReturns\": 30, \"supplierInfos\": [{\"supplierId\": 1616, \"name\": \"1616 - Textile & Apparel Manufacturing\", \"numberOfRefunds\": 15, \"numberOfOrders\": 15}, {\"supplierId\": 1646, \"name\": \"1646 - Textile & Apparel Manufacturing\", \"numberOfRefunds\": 0, \"numberOfOrders\": 5}, {\"supplierId\": 1616, \"name\": \"1616 - Textile & Apparel Manufacturing\", \"numberOfRefunds\": 2, \"numberOfOrders\": 2}, {\"supplierId\": 1616, \"name\": \"1616 - Textile & Apparel Manufacturing\", \"numberOfRefunds\": 4, \"numberOfOrders\": 4}, {\"supplierId\": 1616, \"name\": \"1616 - Textile & Apparel Manufacturing\", \"numberOfRefunds\": 3, \"numberOfOrders\": 3}, {\"supplierId\": 1616, \"name\": \"1616 - Textile & Apparel Manufacturing\", \"numberOfRefunds\": 3, \"numberOfOrders\": 3}, {\"supplierId\": 1616, \"name\": \"1616 - Textile & Apparel Manufacturing\", \"numberOfRefunds\": 3, \"numberOfOrders\": 3}]}, {\"productCode\": 748269, \"totalOrders\": 13, \"totalReturns\": 11, \"supplierInfos\": [{\"supplierId\": 1616, \"name\": \"1616 - Textile & Apparel Manufacturing\", \"numberOfRefunds\": 4, \"numberOfOrders\": 4}, {\"supplierId\": 1616, \"name\": \"1616 - Textile & Apparel Manufacturing\", \"numberOfRefunds\": 5, \"numberOfOrders\": 5}, {\"supplierId\": 3708, \"name\": \"3708 - Textile & Apparel Manufacturing\", \"numberOfRefunds\": 0, \"numberOfOrders\": 2}, {\"supplierId\": 1616, \"name\": \"1616 - Textile & Apparel Manufacturing\", \"numberOfRefunds\": 1, \"numberOfOrders\": 1}, {\"supplierId\": 1616, \"name\": \"1616 - Textile & Apparel Manufacturing\", \"numberOfRefunds\": 1, \"numberOfOrders\": 1}]}, {\"productCode\": 802023, \"totalOrders\": 8, \"totalReturns\": 4, \"supplierInfos\": [{\"supplierId\": 3708, \"name\": \"3708 - Textile & Apparel Manufacturing\", \"numberOfRefunds\": 0, \"numberOfOrders\": 1}, {\"supplierId\": 3708, \"name\": \"3708 - Textile & Apparel Manufacturing\", \"numberOfRefunds\": 0, \"numberOfOrders\": 1}, {\"supplierId\": 1616, \"name\": \"1616 - Textile & Apparel Manufacturing\", \"numberOfRefunds\": 3, \"numberOfOrders\": 3}, {\"supplierId\": 1616, \"name\": \"1616 - Textile & Apparel Manufacturing\", \"numberOfRefunds\": 1, \"numberOfOrders\": 1}, {\"supplierId\": 3708, \"name\": \"3708 - Textile & Apparel Manufacturing\", \"numberOfRefunds\": 0, \"numberOfOrders\": 2}]}]\n",
      "==================================\u001B[1m Ai Message \u001B[0m==================================\n",
      "\n",
      "Here are the top 3 most returned products for supplier 1616, along with alternative suppliers who have less or no returns for each product:\n",
      "\n",
      "1. **Product Code: 673677**\n",
      "   - **Supplier 1616**: 15 refunds\n",
      "   - **Alternative Supplier**: \n",
      "     - Supplier 1646: 0 refunds\n",
      "\n",
      "2. **Product Code: 748269**\n",
      "   - **Supplier 1616**: 4 refunds\n",
      "   - **Alternative Supplier**: \n",
      "     - Supplier 3708: 0 refunds\n",
      "\n",
      "3. **Product Code: 802023**\n",
      "   - **Supplier 1616**: 3 refunds\n",
      "   - **Alternative Supplier**: \n",
      "     - Supplier 3708: 0 refunds\n",
      "\n",
      "You can consider using suppliers 1646 and 3708 for these products to potentially reduce returns.\n"
     ]
    }
   ],
   "execution_count": 47
  },
  {
   "metadata": {},
   "cell_type": "markdown",
   "source": "### ADK Agent",
   "id": "a224c9f24b7e8b14"
  },
  {
   "metadata": {
    "ExecuteTime": {
     "end_time": "2025-05-06T13:34:23.141879Z",
     "start_time": "2025-05-06T13:34:14.780427Z"
    }
   },
   "cell_type": "code",
   "source": "!gcloud auth application-default login > /dev/null 2>&1",
   "id": "3edc22011941dc46",
   "outputs": [],
   "execution_count": 8
  },
  {
   "metadata": {
    "ExecuteTime": {
     "end_time": "2025-05-06T13:34:25.198526Z",
     "start_time": "2025-05-06T13:34:25.192915Z"
    }
   },
   "cell_type": "code",
   "source": "load_dotenv('.env', override=True)",
   "id": "21c0dcdecd555caf",
   "outputs": [
    {
     "data": {
      "text/plain": [
       "True"
      ]
     },
     "execution_count": 9,
     "metadata": {},
     "output_type": "execute_result"
    }
   ],
   "execution_count": 9
  },
  {
   "metadata": {
    "ExecuteTime": {
     "end_time": "2025-05-06T13:47:28.420450Z",
     "start_time": "2025-05-06T13:47:28.417227Z"
    }
   },
   "cell_type": "code",
   "source": [
    "from graph_nd import agent_factory\n",
    "root_agent = agent_factory.create_adk_agent(graphrag, model=\"gemini-2.5-pro-preview-03-25\", name=\"retail_agent\",\n",
    "                             tools=[get_product_recommendations,\n",
    "                                           get_product_order_supplier_info,\n",
    "                                           get_supplier_order_product_info])"
   ],
   "id": "57175d309eac3ab4",
   "outputs": [],
   "execution_count": 6
  },
  {
   "metadata": {
    "ExecuteTime": {
     "end_time": "2025-05-06T13:47:30.062642Z",
     "start_time": "2025-05-06T13:47:30.059277Z"
    }
   },
   "cell_type": "code",
   "source": [
    "APP_NAME = 'Retail Analyst'\n",
    "USER_ID = 'Zach Blumenfeld'\n",
    "\n",
    "from google.adk.runners import InMemoryRunner\n",
    "from google.genai.types import Part, UserContent\n",
    "\n",
    "\n",
    "runner = InMemoryRunner(app_name=APP_NAME, agent=root_agent)\n",
    "\n",
    "session = runner.session_service.create_session( app_name=runner.app_name, user_id=USER_ID)\n",
    "\n",
    "async def run_prompt(new_message: str):\n",
    "  content = UserContent(parts=[Part(text=new_message)])\n",
    "# print (content)\n",
    "  result = None\n",
    "  async for event in runner.run_async(user_id=session.user_id, session_id=session.id, new_message=content):\n",
    "#    print(event.content.model_dump(exclude_none=True))\n",
    "#    print(event.content.parts)\n",
    "    for part in event.content.parts:\n",
    "      print(part.text, part.function_call, part.function_response)\n",
    "      if part.text:\n",
    "#        print(part.text)\n",
    "        result = part.text\n",
    "  return result"
   ],
   "id": "dc77de739ae30e63",
   "outputs": [],
   "execution_count": 7
  },
  {
   "metadata": {
    "ExecuteTime": {
     "end_time": "2025-05-06T13:47:50.107585Z",
     "start_time": "2025-05-06T13:47:32.898230Z"
    }
   },
   "cell_type": "code",
   "source": [
    "from IPython.display import Markdown, display\n",
    "\n",
    "res = await run_prompt('Which suppliers have the highest number of returns (i.,e, credit notes)? provide top 3')\n",
    "print(\"\\n\\n\\n\\nFinal Response:\")\n",
    "display(Markdown(res))"
   ],
   "id": "48a90942897833e8",
   "outputs": [
    {
     "name": "stderr",
     "output_type": "stream",
     "text": [
      "Default value is not supported in function declaration schema for Google AI.\n",
      "Warning: there are non-text parts in the response: ['function_call'],returning concatenated text result from text parts,check out the non text parts for full response from model.\n"
     ]
    },
    {
     "name": "stdout",
     "output_type": "stream",
     "text": [
      "Okay, I can help you with that. I'll find the top 3 suppliers with the highest number of returns.\n",
      " None None\n",
      "None id='adk-1171f022-f287-437f-95e6-347cf933c3ae' args={'agg_instructions': \"Find all suppliers. For each supplier, count the number of credit notes associated with articles they supplied. A credit note is connected to an article through the 'REFUND_OF_ARTICLE' relationship, and an article is connected to a supplier through the 'SUPPLIED_BY' relationship. Return the supplier's name and the total count of credit notes, ordered by the count in descending order, and limit the result to the top 3 suppliers.\"} name='aggregate' None\n",
      "Running Query:\n",
      "MATCH (s:Supplier)<-[:SUPPLIED_BY]-(a:Article)<-[:REFUND_OF_ARTICLE]-(c:CreditNote)\n",
      "RETURN s.name AS supplierName, COUNT(c) AS creditNoteCount\n",
      "ORDER BY creditNoteCount DESC\n",
      "LIMIT 3\n"
     ]
    },
    {
     "name": "stderr",
     "output_type": "stream",
     "text": [
      "Default value is not supported in function declaration schema for Google AI.\n"
     ]
    },
    {
     "name": "stdout",
     "output_type": "stream",
     "text": [
      "None None id='adk-1171f022-f287-437f-95e6-347cf933c3ae' name='aggregate' response={'result': '[\\n    {\\n        \"supplierName\": \"1616 - Textile & Apparel Manufacturing\",\\n        \"creditNoteCount\": 45\\n    },\\n    {\\n        \"supplierName\": \"1779 - Denim Textiles\",\\n        \"creditNoteCount\": 42\\n    },\\n    {\\n        \"supplierName\": \"3708 - Textile & Apparel Manufacturing\",\\n        \"creditNoteCount\": 40\\n    }\\n]'}\n",
      "The top 3 suppliers with the highest number of returns are:\n",
      "1. 1616 - Textile & Apparel Manufacturing (45 returns)\n",
      "2. 1779 - Denim Textiles (42 returns)\n",
      "3. 3708 - Textile & Apparel Manufacturing (40 returns) None None\n",
      "\n",
      "\n",
      "\n",
      "\n",
      "Final Response:\n"
     ]
    },
    {
     "data": {
      "text/plain": [
       "<IPython.core.display.Markdown object>"
      ],
      "text/markdown": "The top 3 suppliers with the highest number of returns are:\n1. 1616 - Textile & Apparel Manufacturing (45 returns)\n2. 1779 - Denim Textiles (42 returns)\n3. 3708 - Textile & Apparel Manufacturing (40 returns)"
     },
     "metadata": {},
     "output_type": "display_data"
    }
   ],
   "execution_count": 8
  },
  {
   "metadata": {},
   "cell_type": "markdown",
   "source": [
    "## MCP Integration\n",
    "Of course, we can also use MCP to connect tools"
   ],
   "id": "e8d315b8bd44076f"
  },
  {
   "metadata": {},
   "cell_type": "code",
   "outputs": [],
   "execution_count": null,
   "source": "#TODO - This is super easy see https://github.com/langchain-ai/langchain-mcp-adapters?tab=readme-ov-file#client-1",
   "id": "b09aeb38c031c4c7"
  }
 ],
 "metadata": {
  "kernelspec": {
   "display_name": "Python 3",
   "language": "python",
   "name": "python3"
  },
  "language_info": {
   "codemirror_mode": {
    "name": "ipython",
    "version": 2
   },
   "file_extension": ".py",
   "mimetype": "text/x-python",
   "name": "python",
   "nbconvert_exporter": "python",
   "pygments_lexer": "ipython2",
   "version": "2.7.6"
  }
 },
 "nbformat": 4,
 "nbformat_minor": 5
}
