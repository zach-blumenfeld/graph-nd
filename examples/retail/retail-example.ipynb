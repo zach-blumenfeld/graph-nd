{
 "cells": [
  {
   "metadata": {},
   "cell_type": "markdown",
   "source": [
    "# Retail Example\n",
    "\n",
    "\n",
    "This example demonstrates how to use Graph-ND for a more controlled, precision-focused workflow. Unlike the quick-start components example, it avoids reliance on LLMs for data mapping and enables greater user control & flexibility for real-world use cases. Key highlights:\n",
    "1. Provide a pre-defined graph schema instead of inferring via LLM\n",
    "2. Use your own code to map tables to nodes and relationships rather than relying on an LLM-_still no need to write any Cypher!_\n",
    "3. Define filtered target schemas for text extraction to improve data quality.\n",
    "4. Add custom source metadata to comply with your workflows or data governance\n",
    "5. Add custom graph retrieval tools to improve accuracy and tailor to your use case\n",
    "\n",
    "\n",
    "To run this notebook:\n",
    "1. **Set up Neo4j (Aura):**\n",
    "    - Start a free Neo4j instance at [console.neo4j.io](https://console.neo4j.io/) and save the credentials file.\n",
    "\n",
    "2. **Clone and navigate to the repo:**\n",
    "    - `git clone https://github.com/zach-blumenfeld/graph-nd.git`\n",
    "    - `cd graph-nd`\n",
    "\n",
    "3. **Prepare your environment:**\n",
    "    - Create a Python virtual environment and install dependencies:\n",
    "`pip install -r requirements.txt`\n",
    "    - Configure your `.env` file in `graph-nd/examples/retail/` with Neo4j credentials and your `OPENAI_API_KEY` as shown below.\n",
    "\n",
    "4. **Run the notebook:**\n",
    "    - Navigate to the appropriate folder: `graph-nd/examples/retail/`\n",
    "    - Open and run `retail-example.ipynb`.\n",
    "\n"
   ],
   "id": "64d9917bb1bae013"
  },
  {
   "metadata": {
    "ExecuteTime": {
     "end_time": "2025-04-14T02:00:08.110885Z",
     "start_time": "2025-04-14T02:00:08.106691Z"
    }
   },
   "cell_type": "code",
   "source": [
    "import os\n",
    "\n",
    "parent_dir = os.getcwd()\n",
    "data_dir = os.path.join(parent_dir, \"data\")\n",
    "data_model_dir = os.path.join(parent_dir, \"data-models\")\n"
   ],
   "id": "b498d3ac2a9f34fe",
   "outputs": [],
   "execution_count": 1
  },
  {
   "metadata": {},
   "cell_type": "markdown",
   "source": [
    "## Setup\n",
    "\n",
    "make sure to have a `.env` file with the below"
   ],
   "id": "8ea05f6f20b5cb71"
  },
  {
   "metadata": {
    "ExecuteTime": {
     "end_time": "2025-04-14T02:04:22.057539Z",
     "start_time": "2025-04-14T02:04:22.054524Z"
    }
   },
   "cell_type": "code",
   "source": [
    "from dotenv import load_dotenv\n",
    "from getpass import getpass\n",
    "\n",
    "load_dotenv('.env', override=True)\n",
    "\n",
    "uri = os.getenv('NEO4J_URI')\n",
    "username = os.getenv('NEO4J_USERNAME')\n",
    "password = os.getenv('NEO4J_PASSWORD')\n",
    "\n",
    "if not os.getenv('OPENAI_API_KEY'):\n",
    "    api_key = getpass(\"Please enter your OpenAI API key: \")"
   ],
   "id": "8fed9b1f4390a3d6",
   "outputs": [],
   "execution_count": 18
  },
  {
   "metadata": {},
   "cell_type": "markdown",
   "source": [
    "## Drafting Graph Schemas\n",
    "Creating graph schemas for production is an iterative process requiring reviews, version controls, and some trial and error.\n",
    "Graph-ND is designed to support this process.\n",
    "To get started you can create an initial graph schema from any JSON-like file. For example, you can start with other data modeling tools, such as the Neo4j Data Importer, and export the resulting schema to a file. GraphRAG can then map this to an initial graph schema, which experts can refine further as needed.\n"
   ],
   "id": "a325d29633f916d7"
  },
  {
   "metadata": {
    "ExecuteTime": {
     "end_time": "2025-04-14T02:04:32.153592Z",
     "start_time": "2025-04-14T02:04:24.417118Z"
    }
   },
   "cell_type": "code",
   "source": [
    "from graph_nd import GraphRAG\n",
    "from langchain_openai import ChatOpenAI\n",
    "\n",
    "\n",
    "#file names\n",
    "json_file = os.path.join(data_model_dir, \"neo4j-importer-draft.json\")\n",
    "graph_schema_v1 = os.path.join(data_model_dir, \"graph-schema-v1.json\")\n",
    "\n",
    "# LLM\n",
    "llm=ChatOpenAI(model=\"gpt-4o\", temperature=0.0)\n",
    "\n",
    "# draft v1 graph-schema from neo4j importer model\n",
    "(GraphRAG(llm=llm).schema\n",
    " .from_json_like_file(json_file)\n",
    " .export(graph_schema_v1))"
   ],
   "id": "89e9e77e5054e85",
   "outputs": [
    {
     "name": "stdout",
     "output_type": "stream",
     "text": [
      "[Schema] Successfully Crafted schema\n"
     ]
    }
   ],
   "execution_count": 19
  },
  {
   "metadata": {},
   "cell_type": "markdown",
   "source": [
    "## Tracking & Loading Schemas\n",
    "You can iterate, track, and re-load these graph schema files. Allowing you to have __precise, version controlled, expert crafted schemas__. Below is how you load a graph schema for use"
   ],
   "id": "15507ab7c5b9550e"
  },
  {
   "metadata": {
    "ExecuteTime": {
     "end_time": "2025-04-14T02:04:32.306748Z",
     "start_time": "2025-04-14T02:04:32.161433Z"
    }
   },
   "cell_type": "code",
   "source": [
    "from graph_nd import GraphRAG\n",
    "from neo4j import GraphDatabase\n",
    "from langchain_openai import OpenAIEmbeddings, ChatOpenAI\n",
    "\n",
    "db_client = GraphDatabase.driver(uri, auth=(username, password))\n",
    "embedding_model = OpenAIEmbeddings(model='text-embedding-ada-002')\n",
    "llm = ChatOpenAI(model=\"gpt-4o\", temperature=0.0)\n",
    "schema_file = os.path.join(data_model_dir, \"graph-schema-finalized.json\")\n",
    "\n",
    "# instantiate graphrag\n",
    "graphrag = GraphRAG(db_client, llm, embedding_model)\n",
    "\n",
    "# load schema\n",
    "graphrag.schema.load(schema_file)"
   ],
   "id": "8473be73cb345c5c",
   "outputs": [
    {
     "name": "stdout",
     "output_type": "stream",
     "text": [
      "[Schema] Schema successfully loaded from /Users/zachblumenfeld/demo/graphrag-nd/examples/retail/data-models/graph-schema-finalized.json\n"
     ]
    }
   ],
   "execution_count": 20
  },
  {
   "metadata": {},
   "cell_type": "markdown",
   "source": [
    "## Automated Table Mapping - It Isn't Wrong but It Misses Some Things\n",
    "Below is how you would run Graph-ND using inferred table mappings. Feel free to run and experiment.  In this case it doesn't appear wrong, but it will likely miss some relationships and there are some properties in the graph schema which aren't present in the tables (require our own calculations).\n",
    "\n",
    "It is likely that with more descriptions in the graph schema we can get the mappings to do better, but for this example we will show how you can incorporate your own mapping logic"
   ],
   "id": "e7924bb6899266c"
  },
  {
   "metadata": {
    "ExecuteTime": {
     "end_time": "2025-04-14T02:05:27.154808Z",
     "start_time": "2025-04-14T02:04:43.456476Z"
    }
   },
   "cell_type": "code",
   "source": [
    "# for csv in [\"order-details.csv\", \"products.csv\", \"articles.csv\", \"customers.csv\", \"suppliers.csv\"]:\n",
    "#     graphrag.data.merge_csv(os.path.join(data_dir, csv))\n"
   ],
   "id": "caa97986be2ea749",
   "outputs": [
    {
     "name": "stdout",
     "output_type": "stream",
     "text": [
      "[Data] Merging order-details.csv as TableTypeEnum.RELATIONSHIPS.\n",
      "[Data] Merging products.csv as TableTypeEnum.SINGLE_NODE.\n",
      "[Data] Merging articles.csv as TableTypeEnum.SINGLE_NODE.\n",
      "[Data] Merging customers.csv as TableTypeEnum.SINGLE_NODE.\n",
      "[Data] Merging suppliers.csv as TableTypeEnum.SINGLE_NODE.\n"
     ]
    }
   ],
   "execution_count": 23
  },
  {
   "metadata": {},
   "cell_type": "markdown",
   "source": [
    "## Map Tabular Data with Our Own Logic\n",
    "We can map data with our own custom logic for precision before merging nodes and relationship records directly with `data.merge_nodes` and `data.merge_relationships` methods\n",
    "We will provide a custom metadata field \"ingest_id\" which will persist to `__Source__` nodes in the graph."
   ],
   "id": "d0c9979b271decb3"
  },
  {
   "metadata": {
    "ExecuteTime": {
     "end_time": "2025-04-14T02:16:33.419523Z",
     "start_time": "2025-04-14T02:16:33.417601Z"
    }
   },
   "cell_type": "code",
   "source": [
    "#We will provide a custom metadata field \"ingest_id\" which will persist to __Source__ nodes in the graph.\n",
    "ingest_id = \"my-tabular-data-ingest\""
   ],
   "id": "4d28e7803763d1ac",
   "outputs": [],
   "execution_count": 24
  },
  {
   "metadata": {
    "ExecuteTime": {
     "end_time": "2025-04-14T02:16:40.717717Z",
     "start_time": "2025-04-14T02:16:34.914650Z"
    }
   },
   "cell_type": "code",
   "source": [
    "# Lets clear all data out of the graph for reference\n",
    "graphrag.data.nuke()"
   ],
   "id": "9683a20778c0f522",
   "outputs": [],
   "execution_count": 25
  },
  {
   "metadata": {},
   "cell_type": "markdown",
   "source": [
    "### Merge Nodes\n",
    "\n",
    "`graphrag.data.merge_nodes` will take node records and perform an __idempotent__ MERGE into the graph.\n",
    "\n",
    "Technically source metadata ( `__Source__` node and `__source_id` lists properties) aren't idempotent  - more similar to \"append\" pattern so you can track activity, but the node records themselves are merged idempotently.\n",
    "\n",
    "Parameters:\n",
    "- label str: The label of the node type to merge (e.g., \"Person\", \"Movie\").\n",
    "             The label should match a defined node in the graph schema.\n",
    "- records List[Dict]: A list of dictionaries representing the data for each node to be merged.\n",
    "            Each record MUST include the `id` field as defined in the node schema, along with\n",
    "            any other optional properties expected by the schema.\n",
    "- source_metadata Union[bool, Dict[str, Any]], optional : Metadata for the source being merged.\n",
    "    - If set to `True`, default source metadata is prepared and added to a __Source__ node in the graph.\n",
    "    A __source_id property is added and/or appended to each node which maps to the id property of __Source__ node\n",
    "    - If `False`, no source metadata is added to the graph.\n",
    "    - If a custom dictionary is provided, source metadata is added as in the case of `True` and the dictionary properties override the default ones.\n",
    "    Default is True.\n",
    "\n",
    "Example:\n",
    "```\n",
    "    label = \"Person\"\n",
    "    records = [\n",
    "        {\"person_id\": 1, \"name\": \"Alice\", \"age\": 30},\n",
    "        {\"person_id\": 2, \"name\": \"Bob\", \"age\": 25}\n",
    "    ]\n",
    "```\n"
   ],
   "id": "e03b3c1a9bf7fb01"
  },
  {
   "metadata": {
    "ExecuteTime": {
     "end_time": "2025-04-14T02:16:55.208802Z",
     "start_time": "2025-04-14T02:16:53.363748Z"
    }
   },
   "cell_type": "code",
   "source": [
    "import pandas as pd\n",
    "\n",
    "order_df = pd.read_csv(os.path.join(data_dir, \"order-details.csv\"))\n",
    "order_records = order_df[['orderId', 'tDat']].drop_duplicates().rename(columns={'tDat':'date'}).to_dict(orient=\"records\")\n",
    "\n",
    "graphrag.data.merge_nodes(\"Order\", order_records, source_metadata={\"ingest_id\": ingest_id})"
   ],
   "id": "22e4c9279c14cac2",
   "outputs": [],
   "execution_count": 26
  },
  {
   "metadata": {},
   "cell_type": "markdown",
   "source": [
    "### Merge Relationships\n",
    "\n",
    "`graphrag.data.merge_relationships` Just will take relationship records and perform an __idempotent__ MERGE into the graph just like the node merge\n",
    "\n",
    "Source metadata will be added in the same matter as well.\n",
    "\n",
    "Parameters:\n",
    "- rel_type str: The type of the relationship (e.g., \"ACTED_IN\", \"FRIENDS_WITH\").\n",
    "                The type should match a defined relationship in the graph schema.\n",
    "- start_node_label str: The label of the starting node in the relationship (e.g., \"Person\").\n",
    "                        This label should match a defined node schema.\n",
    "- end_node_label str: The label of the ending node in the relationship (e.g., \"Movie\").\n",
    "                      This label should match a defined node schema.\n",
    "- records Dict: A dictionary (or list of dictionaries) representing the data for each relationship to be merged.\n",
    "- source_metadata Union[bool, Dict[str, Any]], optional: same as for nodes\n",
    "\n",
    "Required Fields in `records`:\n",
    "    - `start_node_id`: The unique identifier of the starting node.\n",
    "    - `end_node_id`: The unique identifier of the ending node.\n",
    "\n",
    "Example:\n",
    "\n",
    "    rel_type = \"ACTED_IN\"\n",
    "    start_node_label = \"Person\"\n",
    "    end_node_label = \"Movie\"\n",
    "    records = [\n",
    "        {\"start_node_id\": 1, \"end_node_id\": \"M101\", \"role\": \"Protagonist\"},\n",
    "        {\"start_node_id\": 2, \"end_node_id\": \"M102\", \"role\": \"Hacker\"}\n",
    "    ]"
   ],
   "id": "342aa37fb15719a2"
  },
  {
   "metadata": {
    "ExecuteTime": {
     "end_time": "2025-04-14T02:17:03.129618Z",
     "start_time": "2025-04-14T02:17:01.566703Z"
    }
   },
   "cell_type": "code",
   "source": [
    "ordered_records = order_df[['customerId', 'orderId']].drop_duplicates().rename(columns={'customerId':'start_node_id', 'orderId':'end_node_id'}).to_dict(orient=\"records\")\n",
    "\n",
    "graphrag.data.merge_relationships(rel_type='ORDERED',\n",
    "                                  start_node_label='Customer',\n",
    "                                  end_node_label='Order',\n",
    "                                  records=ordered_records,\n",
    "                                  source_metadata={\"ingest_id\": ingest_id})"
   ],
   "id": "831eaabac94f914c",
   "outputs": [],
   "execution_count": 27
  },
  {
   "metadata": {},
   "cell_type": "markdown",
   "source": [
    "### Merging Parallel Relationships\n",
    "Parallel Relationships are when more than one relationship of the same type can exist between the same two start and end nodes.  The above example doesn't account for them.  For these situations you must add an \"id\" property field to the relationship schema.  We specified `txId` as the relationship id for the CONTAINS relationship - in this example, an Order can CONTAIN multiple instances of the same Article.\n",
    "\n",
    "The txId is then required for the merge.  not providing it will result in an error."
   ],
   "id": "535e8df4cb78d272"
  },
  {
   "metadata": {
    "ExecuteTime": {
     "end_time": "2025-04-14T02:17:14.593743Z",
     "start_time": "2025-04-14T02:17:09.982452Z"
    }
   },
   "cell_type": "code",
   "source": [
    "contains_records = (order_df[['orderId', 'articleId', 'txId', 'price']]).rename(columns={'orderId':'start_node_id', 'articleId':'end_node_id'}).to_dict(orient=\"records\")\n",
    "graphrag.data.merge_relationships(rel_type='CONTAINS',\n",
    "                                  start_node_label='Order',\n",
    "                                  end_node_label='Article',\n",
    "                                  records=contains_records,\n",
    "                                  source_metadata={\"ingest_id\": ingest_id})"
   ],
   "id": "6515c7467516062f",
   "outputs": [],
   "execution_count": 28
  },
  {
   "metadata": {},
   "cell_type": "markdown",
   "source": [
    "### Text Embedding\n",
    "Graph-ND will automatically create text embeddings and vector indexes based of searchField properties in the graph schema.  This also enables the automatic creation of FullText fields though we don't show an example here.\n",
    "\n",
    "In the Below the Product node embeds the \"text\" field per the GraphSchema.  This merge will take a bit longer due to that embedding processed"
   ],
   "id": "278f50abed7f8684"
  },
  {
   "metadata": {
    "ExecuteTime": {
     "end_time": "2025-04-14T02:18:23.144182Z",
     "start_time": "2025-04-14T02:17:21.707143Z"
    }
   },
   "cell_type": "code",
   "source": [
    "product_df = pd.read_csv(os.path.join(data_dir, \"products.csv\"))\n",
    "product_df['text'] = (\"##Product \\n\"\n",
    "\"Name: \" + product_df['prodName'].fillna('') + \"\\n\"\n",
    "\"Type: \" + product_df['productTypeName'].fillna('') + \"\\n\"\n",
    "\"Category: \" + product_df['productGroupName'].fillna('') + \"\\n\"\n",
    "\"Description: \" + product_df['detailDesc'].fillna('')\n",
    ")\n",
    "product_df['url']= \"https://xyzbrands/product/\" + product_df['productCode'].astype(str)\n",
    "product_df.rename(columns={\"prodName\": \"name\", \"detailDesc\":\"description\"}, inplace=True)\n",
    "\n",
    "\n",
    "prod_records = product_df[[ \"productCode\", \"name\", \"description\", \"url\", \"text\"]].to_dict(orient=\"records\")\n",
    "\n",
    "print(\"This will take a minute or so because it is embedding the 'text' field.\")\n",
    "graphrag.data.merge_nodes(\"Product\", prod_records, source_metadata={\"ingest_id\": ingest_id})"
   ],
   "id": "da00f7a9403fe547",
   "outputs": [
    {
     "name": "stdout",
     "output_type": "stream",
     "text": [
      "This will take a minute or so because it is embedding the 'text' field.\n"
     ]
    }
   ],
   "execution_count": 29
  },
  {
   "metadata": {},
   "cell_type": "markdown",
   "source": [
    "### Merging the Other Nodes and Relationships\n",
    "The below demonstrates merging the rest of the structured data.  Note that no Cypher is required and it is order independent.  This allows you to focus on just creating the Node and relationship tables you want.  Graph-ND takes care of constraints, indexing, text embedding, etc."
   ],
   "id": "56f1a450b8ebb929"
  },
  {
   "metadata": {
    "ExecuteTime": {
     "end_time": "2025-04-14T02:18:25.221083Z",
     "start_time": "2025-04-14T02:18:23.153968Z"
    }
   },
   "cell_type": "code",
   "source": [
    "prod_cat_records = (product_df[['productCode', 'productGroupName']]\n",
    "                    .rename(columns={'productCode':'start_node_id', 'productGroupName':'end_node_id'})\n",
    "                    .to_dict(orient=\"records\"))\n",
    "\n",
    "graphrag.data.merge_relationships(rel_type='PART_OF',\n",
    "                                  start_node_label='Product',\n",
    "                                  end_node_label='ProductCategory',\n",
    "                                  records=prod_cat_records,\n",
    "                                  source_metadata={\"ingest_id\": ingest_id})"
   ],
   "id": "cef973d6baede6bd",
   "outputs": [],
   "execution_count": 30
  },
  {
   "metadata": {
    "ExecuteTime": {
     "end_time": "2025-04-14T02:18:26.989257Z",
     "start_time": "2025-04-14T02:18:25.225986Z"
    }
   },
   "cell_type": "code",
   "source": [
    "prod_type_records = (product_df[['productCode', 'productTypeName']]\n",
    "                    .rename(columns={'productCode':'start_node_id', 'productTypeName':'end_node_id'})\n",
    "                    .to_dict(orient=\"records\"))\n",
    "\n",
    "graphrag.data.merge_relationships(rel_type='PART_OF',\n",
    "                                  start_node_label='Product',\n",
    "                                  end_node_label='ProductType',\n",
    "                                  records=prod_type_records,\n",
    "                                  source_metadata={\"ingest_id\": ingest_id})"
   ],
   "id": "de5c005a5045a0aa",
   "outputs": [],
   "execution_count": 31
  },
  {
   "metadata": {
    "ExecuteTime": {
     "end_time": "2025-04-14T02:18:27.533351Z",
     "start_time": "2025-04-14T02:18:27.005460Z"
    }
   },
   "cell_type": "code",
   "source": [
    "customer_df = pd.read_csv(os.path.join(data_dir, \"customers.csv\"))\n",
    "records = customer_df[[ \"customerId\", \"postalCode\", \"age\", \"fashionNewsFrequency\", \"clubMemberStatus\"]].to_dict(orient=\"records\")\n",
    "\n",
    "graphrag.data.merge_nodes(\"Customer\", records, source_metadata={\"ingest_id\": ingest_id})"
   ],
   "id": "e7d79c1d255638af",
   "outputs": [],
   "execution_count": 32
  },
  {
   "metadata": {
    "ExecuteTime": {
     "end_time": "2025-04-14T02:18:29.772843Z",
     "start_time": "2025-04-14T02:18:27.541879Z"
    }
   },
   "cell_type": "code",
   "source": [
    "article_df = pd.read_csv(os.path.join(data_dir, \"articles.csv\"))\n",
    "\n",
    "article_records = article_df[[\"articleId\", \"colourGroupCode\", \"colourGroupName\", \"graphicalAppearanceName\", \"graphicalAppearanceNo\"]].to_dict(orient=\"records\")\n",
    "\n",
    "graphrag.data.merge_nodes(\"Article\", article_records, source_metadata={\"ingest_id\": ingest_id})\n"
   ],
   "id": "1cea10687c1c29dd",
   "outputs": [],
   "execution_count": 33
  },
  {
   "metadata": {
    "ExecuteTime": {
     "end_time": "2025-04-14T02:18:32.165019Z",
     "start_time": "2025-04-14T02:18:29.791863Z"
    }
   },
   "cell_type": "code",
   "source": [
    "variant_records = (article_df[['articleId', 'productCode']]\n",
    "                    .rename(columns={'articleId':'start_node_id', 'productCode':'end_node_id'})\n",
    "                    .to_dict(orient=\"records\"))\n",
    "\n",
    "graphrag.data.merge_relationships(rel_type='VARIANT_OF',\n",
    "                                  start_node_label='Article',\n",
    "                                  end_node_label='Product',\n",
    "                                  records=variant_records,\n",
    "                                  source_metadata={\"ingest_id\": ingest_id})"
   ],
   "id": "d0331e51ecba49a1",
   "outputs": [],
   "execution_count": 34
  },
  {
   "metadata": {
    "ExecuteTime": {
     "end_time": "2025-04-14T02:18:34.832900Z",
     "start_time": "2025-04-14T02:18:32.184853Z"
    }
   },
   "cell_type": "code",
   "source": [
    "supplied_by_records = (article_df[['articleId', 'supplierId']]\n",
    "                    .rename(columns={'articleId':'start_node_id', 'supplierId':'end_node_id'})\n",
    "                    .to_dict(orient=\"records\"))\n",
    "graphrag.data.merge_relationships(rel_type='SUPPLIED_BY',\n",
    "                                  start_node_label='Article',\n",
    "                                  end_node_label='Supplier',\n",
    "                                  records=supplied_by_records,\n",
    "                                  source_metadata={\"ingest_id\": ingest_id})"
   ],
   "id": "feb10adcb076539a",
   "outputs": [],
   "execution_count": 35
  },
  {
   "metadata": {
    "ExecuteTime": {
     "end_time": "2025-04-14T02:18:35.306605Z",
     "start_time": "2025-04-14T02:18:34.848699Z"
    }
   },
   "cell_type": "code",
   "source": [
    "supplier_df = pd.read_csv(os.path.join(data_dir, \"suppliers.csv\"))\n",
    "supplier_records = supplier_df.rename(columns={\"supplierName\": \"name\", \"supplierAddress\": \"address\"}).to_dict(orient=\"records\")\n",
    "graphrag.data.merge_nodes(\"Supplier\", supplier_records, source_metadata={\"ingest_id\": ingest_id})"
   ],
   "id": "dd084974fcb913ed",
   "outputs": [],
   "execution_count": 36
  },
  {
   "metadata": {},
   "cell_type": "markdown",
   "source": [
    "## Text Extraction From PDF\n",
    "We can Add schema subsets here for precision. The SubSchema has the following input options\n",
    "- nodes: Union[str, List[str]], optional\n",
    "    A node or list of node labels to include in the subset. If provided, the node schemas\n",
    "    corresponding to these nodes will be retrieved.\n",
    "- patterns: Union[Tuple[str, str, str], List[Tuple[str, str, str]]], optional\n",
    "    A pattern or list of patterns defining relationships to filter by. Each pattern is a\n",
    "    tuple containing:\n",
    "    - Start node label (str)\n",
    "    - Relationship type (str)\n",
    "    - End node label (str)\n",
    "    The relevant node schemas and relationship schemas will be included in the subset.\n",
    "- relationships: Union[str, List[str]], optional\n",
    "    A relationship type or list of relationship types to include in the subset.\n",
    "    All query patterns for the relationship type (and their start and end nodes) will be included in the subset.\n",
    "- description: str, optional\n",
    "    A custom description for the subsetted graph schema. Can be used to pass customized prompts/context for extraction.\n",
    "    If not provided, a default description may be generated based on the existing schema and provided subset criteria."
   ],
   "id": "268531cc274e0d73"
  },
  {
   "metadata": {
    "ExecuteTime": {
     "end_time": "2025-04-14T02:23:33.992471Z",
     "start_time": "2025-04-14T02:21:45.014666Z"
    }
   },
   "cell_type": "code",
   "source": [
    "from graph_nd import SubSchema\n",
    "\n",
    "# less than 1% of the time the llm will miss nodes/rels. This is random so repeating twice near guarantees we get everything\n",
    "for i in range(2):\n",
    "    graphrag.data.merge_pdf(os.path.join(data_dir, 'credit-notes.pdf'),\n",
    "                            nodes_only=False,\n",
    "                            sub_schema=SubSchema(\n",
    "                                patterns=[('CreditNote','REFUND_FOR_ORDER', 'Order'), ('CreditNote',\"REFUND_OF_ARTICLE\", 'Article')]\n",
    "                            ))"
   ],
   "id": "b6ff9374080426d9",
   "outputs": [
    {
     "name": "stdout",
     "output_type": "stream",
     "text": [
      "[Data] Merging data from document: /Users/zachblumenfeld/demo/graphrag-nd/examples/retail/data/credit-notes.pdf\n"
     ]
    },
    {
     "name": "stderr",
     "output_type": "stream",
     "text": [
      "Extracting entities from text: 100%|██████████| 31/31 [00:46<00:00,  1.49s/it]\n"
     ]
    },
    {
     "name": "stdout",
     "output_type": "stream",
     "text": [
      "Consolidating results...\n"
     ]
    },
    {
     "name": "stderr",
     "output_type": "stream",
     "text": [
      "Merging Nodes by Label: 100%|██████████| 3/3 [00:07<00:00,  2.40s/node]\n",
      "Merging Relationships by Type & Pattern: 100%|██████████| 2/2 [00:01<00:00,  1.89rel/s]\n"
     ]
    },
    {
     "name": "stdout",
     "output_type": "stream",
     "text": [
      "[Data] Merging data from document: /Users/zachblumenfeld/demo/graphrag-nd/examples/retail/data/credit-notes.pdf\n"
     ]
    },
    {
     "name": "stderr",
     "output_type": "stream",
     "text": [
      "Extracting entities from text: 100%|██████████| 31/31 [00:47<00:00,  1.54s/it]\n"
     ]
    },
    {
     "name": "stdout",
     "output_type": "stream",
     "text": [
      "Consolidating results...\n"
     ]
    },
    {
     "name": "stderr",
     "output_type": "stream",
     "text": [
      "Merging Nodes by Label: 100%|██████████| 3/3 [00:05<00:00,  1.71s/node]\n",
      "Merging Relationships by Type & Pattern: 100%|██████████| 2/2 [00:01<00:00,  1.85rel/s]\n"
     ]
    }
   ],
   "execution_count": 37
  },
  {
   "metadata": {},
   "cell_type": "markdown",
   "source": "## Test an Agent",
   "id": "ba79be6f05b515c1"
  },
  {
   "metadata": {
    "ExecuteTime": {
     "end_time": "2025-04-14T02:23:45.180678Z",
     "start_time": "2025-04-14T02:23:41.093408Z"
    }
   },
   "cell_type": "code",
   "source": "graphrag.agent(\"Which suppliers where responsible for the most refunds\")",
   "id": "54d065512fc81db0",
   "outputs": [
    {
     "name": "stdout",
     "output_type": "stream",
     "text": [
      "================================\u001B[1m Human Message \u001B[0m=================================\n",
      "\n",
      "Which suppliers where responsible for the most refunds\n",
      "==================================\u001B[1m Ai Message \u001B[0m==================================\n",
      "Tool Calls:\n",
      "  aggregate (call_It76SpJFvtaasfLCeuZbKWlc)\n",
      " Call ID: call_It76SpJFvtaasfLCeuZbKWlc\n",
      "  Args:\n",
      "    agg_instructions: Aggregate the number of refunds for each supplier by counting the REFUND_OF_ARTICLE relationships for each supplier and return the suppliers with the highest counts.\n",
      "Running Query:\n",
      "MATCH (cn:CreditNote)-[:REFUND_OF_ARTICLE]->(a:Article)-[:SUPPLIED_BY]->(s:Supplier)\n",
      "RETURN s.name AS supplierName, COUNT(cn) AS refundCount\n",
      "ORDER BY refundCount DESC\n",
      "=================================\u001B[1m Tool Message \u001B[0m=================================\n",
      "Name: aggregate\n",
      "\n",
      "[\n",
      "    {\n",
      "        \"supplierName\": \"1616 - Textile & Apparel Manufacturing\",\n",
      "        \"refundCount\": 45\n",
      "    },\n",
      "    {\n",
      "        \"supplierName\": \"1779 - Denim Textiles\",\n",
      "        \"refundCount\": 42\n",
      "    },\n",
      "    {\n",
      "        \"supplierName\": \"3708 - Textile & Apparel Manufacturing\",\n",
      "        \"refundCount\": 40\n",
      "    },\n",
      "    {\n",
      "        \"supplierName\": \"1643 - Textile & Apparel Manufacturing\",\n",
      "        \"refundCount\": 39\n",
      "    },\n",
      "    {\n",
      "        \"supplierName\": \"5832 - Jersey Mills\",\n",
      "        \"refundCount\": 26\n",
      "    },\n",
      "    {\n",
      "        \"supplierName\": \"1339 - Intimate Apparel Suppliers\",\n",
      "        \"refundCount\": 16\n",
      "    },\n",
      "    {\n",
      "        \"supplierName\": \"1422 - Textile & Apparel Manufacturing\",\n",
      "        \"refundCount\": 14\n",
      "    },\n",
      "    {\n",
      "        \"supplierName\": \"1778 - Textile & Apparel Manufacturing\",\n",
      "        \"refundCount\": 12\n",
      "    },\n",
      "    {\n",
      "        \"supplierName\": \"1201 - Outerwear Suppliers\",\n",
      "        \"refundCount\": 11\n",
      "    },\n",
      "    {\n",
      "        \"supplierName\": \"3936 - Textile & Apparel Manufacturing\",\n",
      "        \"refundCount\": 10\n",
      "    },\n",
      "    {\n",
      "        \"supplierName\": \"3610 - Sock & Hosiery Production\",\n",
      "        \"refundCount\": 10\n",
      "    },\n",
      "    {\n",
      "        \"supplierName\": \"1666 - Jersey Mills\",\n",
      "        \"refundCount\": 9\n",
      "    },\n",
      "    {\n",
      "        \"supplierName\": \"1772 - Denim Textiles\",\n",
      "        \"refundCount\": 9\n",
      "    },\n",
      "    {\n",
      "        \"supplierName\": \"5868 - Textile & Apparel Manufacturing\",\n",
      "        \"refundCount\": 6\n",
      "    },\n",
      "    {\n",
      "        \"supplierName\": \"2032 - Jersey Mills\",\n",
      "        \"refundCount\": 5\n",
      "    },\n",
      "    {\n",
      "        \"supplierName\": \"3932 - Textile & Apparel Manufacturing\",\n",
      "        \"refundCount\": 5\n",
      "    },\n",
      "    {\n",
      "        \"supplierName\": \"1649 - Trousers & Slacks Mills\",\n",
      "        \"refundCount\": 4\n",
      "    },\n",
      "    {\n",
      "        \"supplierName\": \"1773 - Denim Textiles\",\n",
      "        \"refundCount\": 4\n",
      "    }\n",
      "]\n",
      "==================================\u001B[1m Ai Message \u001B[0m==================================\n",
      "\n",
      "The suppliers responsible for the most refunds are:\n",
      "\n",
      "1. **1616 - Textile & Apparel Manufacturing** with 45 refunds.\n",
      "2. **1779 - Denim Textiles** with 42 refunds.\n",
      "3. **3708 - Textile & Apparel Manufacturing** with 40 refunds.\n",
      "4. **1643 - Textile & Apparel Manufacturing** with 39 refunds.\n",
      "5. **5832 - Jersey Mills** with 26 refunds.\n"
     ]
    }
   ],
   "execution_count": 38
  },
  {
   "metadata": {},
   "cell_type": "markdown",
   "source": [
    "## Adding Custom Tools For Retrieval\n",
    "For our use case there may be some specific query templates and retrieval methodologies. We casn easily add these to our langgraph agent"
   ],
   "id": "ad15f7255f6452f2"
  },
  {
   "metadata": {
    "ExecuteTime": {
     "end_time": "2025-04-14T02:24:17.832389Z",
     "start_time": "2025-04-14T02:24:17.827755Z"
    }
   },
   "cell_type": "code",
   "source": [
    "from typing import List, Dict\n",
    "\n",
    "\n",
    "def get_product_recommendations(product_codes_or_article_ids: List[int]) -> List[Dict]:\n",
    "    \"\"\"\n",
    "    Retrieve product recommendations given a list of product codes or articles ids.\n",
    "    Please re-order or filter further based on additional context from user.\n",
    "    \"\"\"\n",
    "    res = db_client.execute_query(\"\"\"\n",
    "    //recommend from product codes\n",
    "    MATCH (customer:Customer)-[:ORDERED]->()-[:CONTAINS]->()-[:VARIANT_OF]->\n",
    "    (interestedInProducts:Product)<-[:VARIANT_OF]-(interestedInArticles:Article)<-[:CONTAINS]-()<-[:ORDERED]\n",
    "    -(:Customer)-[:ORDERED]->()-[:CONTAINS]->(recArticle:Article)-[:VARIANT_OF]->(product:Product)\n",
    "    WHERE (interestedInArticles.articleId IN $itemIds)\n",
    "        OR (interestedInProducts.productCode IN $itemIds)\n",
    "    WITH count(recArticle) AS recommendationScore, product\n",
    "    RETURN product.productCode AS productCode,\n",
    "        product.text AS text,\n",
    "        product.url AS url\n",
    "    ORDER BY recommendationScore DESC LIMIT 20\n",
    "    \"\"\", itemIds=product_codes_or_article_ids, result_transformer_ = lambda r: r.data())\n",
    "    return res\n",
    "\n",
    "\n",
    "def get_product_order_supplier_info(product_codes: List[int]) -> List[Dict]:\n",
    "    \"\"\"\n",
    "    Given a list of product codes, gets statistics for total orders and refunds as well as by supplier for each product.\n",
    "    \"\"\"\n",
    "    res = db_client.execute_query(\"\"\"\n",
    "    MATCH(p:Product)<-[:VARIANT_OF]-(a:Article)-[:SUPPLIED_BY]->(s)\n",
    "    WHERE p.productCode IN $productCodes\n",
    "    WITH *,\n",
    "      COUNT {MATCH (:Order)-[:CONTAINS]->(a)} AS numberOfOrders,\n",
    "      COUNT {MATCH (:CreditNote)-[:REFUND_OF_ARTICLE]-(a)} AS numberOfRefunds\n",
    "    RETURN p.productCode AS productCode,\n",
    "      sum(numberOfOrders) AS totalOrders,\n",
    "      sum(numberOfRefunds) AS totalReturns,\n",
    "      collect({supplierId:s.supplierId, name:s.name, numberOfOrders:numberOfOrders, numberOfRefunds:numberOfRefunds}) AS supplierInfos\n",
    "    \"\"\", productCodes=product_codes, result_transformer_ = lambda r: r.data())\n",
    "    return res\n",
    "\n",
    "def get_supplier_order_product_info(supplier_ids: List[int]) -> List[Dict]:\n",
    "    \"\"\"\n",
    "    Given a list of supplier ids, gets statistics for the total orders and refunds as well by product delivered for each supplier.\n",
    "    \"\"\"\n",
    "    res = db_client.execute_query(\"\"\"\n",
    "    MATCH(p:Product)<-[:VARIANT_OF]-(:Article)-[:SUPPLIED_BY]->(s)\n",
    "    WHERE s.supplierId IN $supplierIds\n",
    "    WITH DISTINCT p, s,\n",
    "      COUNT {MATCH (:Order)-[:CONTAINS]->()-[:VARIANT_OF]->(p)} AS numberOfOrders,\n",
    "      COUNT {MATCH (:CreditNote)-[:REFUND_OF_ARTICLE]-()-[:VARIANT_OF]->(p)} AS numberOfRefunds\n",
    "    RETURN s.supplierId AS supplierId,\n",
    "      sum(numberOfOrders) AS totalOrders,\n",
    "      sum(numberOfRefunds) AS totalReturns,\n",
    "      collect({productCode:p.productCode, name:s.name, numberOfOrders:numberOfOrders, numberOfRefunds:numberOfRefunds}) AS supplierInfos\n",
    "    \"\"\", supplierIds=supplier_ids, result_transformer_ = lambda r: r.data())\n",
    "    return res"
   ],
   "id": "2a8edb02ac1f9556",
   "outputs": [],
   "execution_count": 39
  },
  {
   "metadata": {
    "ExecuteTime": {
     "end_time": "2025-04-14T02:25:15.230088Z",
     "start_time": "2025-04-14T02:25:15.206572Z"
    }
   },
   "cell_type": "code",
   "source": [
    "agent = graphrag.create_react_agent(tools=[get_product_recommendations,\n",
    "                                           get_product_order_supplier_info,\n",
    "                                           get_supplier_order_product_info])"
   ],
   "id": "6e8dc5393edcee49",
   "outputs": [],
   "execution_count": 42
  },
  {
   "metadata": {},
   "cell_type": "markdown",
   "source": "Now let's create a helper function to test out with multi-hop questions",
   "id": "5e81c3c2a8104f6d"
  },
  {
   "metadata": {
    "ExecuteTime": {
     "end_time": "2025-04-14T02:25:19.559442Z",
     "start_time": "2025-04-14T02:25:19.556581Z"
    }
   },
   "cell_type": "code",
   "source": [
    "from langchain_core.messages import HumanMessage\n",
    "\n",
    "# use just like any other langgraph agent...we are going to make a wrapper function for convenience\n",
    "config = {\"configurable\": {\"thread_id\": \"thread-1\"}}\n",
    "\n",
    "def agent_stream(question, history=None):\n",
    "    if history is None:\n",
    "        history = list()\n",
    "    for step in agent.stream(\n",
    "        {\"messages\": history + [HumanMessage(content=question)]},\n",
    "        stream_mode=\"values\", config=config\n",
    "    ):\n",
    "        history.append(step[\"messages\"][-1])\n",
    "        step[\"messages\"][-1].pretty_print()\n",
    "    return history\n"
   ],
   "id": "fc825d614ce138b3",
   "outputs": [],
   "execution_count": 43
  },
  {
   "metadata": {
    "ExecuteTime": {
     "end_time": "2025-04-14T02:25:32.179282Z",
     "start_time": "2025-04-14T02:25:22.269259Z"
    }
   },
   "cell_type": "code",
   "source": "history = agent_stream(\"What are some good sweaters for spring? Nothing too warm please!\")",
   "id": "888fb9e7a06e425f",
   "outputs": [
    {
     "name": "stdout",
     "output_type": "stream",
     "text": [
      "================================\u001B[1m Human Message \u001B[0m=================================\n",
      "\n",
      "What are some good sweaters for spring? Nothing too warm please!\n",
      "==================================\u001B[1m Ai Message \u001B[0m==================================\n",
      "Tool Calls:\n",
      "  node_search (call_CXueAweTUBTSwD70zSqJmDjo)\n",
      " Call ID: call_CXueAweTUBTSwD70zSqJmDjo\n",
      "  Args:\n",
      "    search_config: {'search_type': 'SEMANTIC', 'node_label': 'Product', 'search_prop': 'text'}\n",
      "    search_query: spring sweaters\n",
      "=================================\u001B[1m Tool Message \u001B[0m=================================\n",
      "Name: node_search\n",
      "\n",
      "[\n",
      "    {\n",
      "        \"productCode\": 921906,\n",
      "        \"text\": \"##Product \\nName: Spring\\nType: Dress\\nCategory: Garment Full body\\nDescription: Calf-length dress in an airy viscose weave with a collar, concealed buttons at the top and long raglan sleeves with buttoned cuffs. Relaxed fit with a gathered seam at the hips and above the hem. Unlined.\",\n",
      "        \"description\": \"Calf-length dress in an airy viscose weave with a collar, concealed buttons at the top and long raglan sleeves with buttoned cuffs. Relaxed fit with a gathered seam at the hips and above the hem. Unlined.\",\n",
      "        \"name\": \"Spring\",\n",
      "        \"url\": \"https://xyzbrands/product/921906\",\n",
      "        \"search_score\": 0.920867919921875\n",
      "    },\n",
      "    {\n",
      "        \"productCode\": 793385,\n",
      "        \"text\": \"##Product \\nName: XMAS Cherry sweater\\nType: Sweater\\nCategory: Garment Upper body\\nDescription: Jumper in a soft, fine knit with an intarsia-knit front and ribbing around the neckline, cuffs and hem.\",\n",
      "        \"description\": \"Jumper in a soft, fine knit with an intarsia-knit front and ribbing around the neckline, cuffs and hem.\",\n",
      "        \"name\": \"XMAS Cherry sweater\",\n",
      "        \"url\": \"https://xyzbrands/product/793385\",\n",
      "        \"search_score\": 0.91754150390625\n",
      "    },\n",
      "    {\n",
      "        \"productCode\": 574112,\n",
      "        \"text\": \"##Product \\nName: Esther Sweater\\nType: Sweater\\nCategory: Garment Upper body\\nDescription: Short, wide turtleneck jumper in a soft rib knit with dropped shoulders and long, wide sleeves.\",\n",
      "        \"description\": \"Short, wide turtleneck jumper in a soft rib knit with dropped shoulders and long, wide sleeves.\",\n",
      "        \"name\": \"Esther Sweater\",\n",
      "        \"url\": \"https://xyzbrands/product/574112\",\n",
      "        \"search_score\": 0.9171142578125\n",
      "    },\n",
      "    {\n",
      "        \"productCode\": 796033,\n",
      "        \"text\": \"##Product \\nName: Grace Sweater\\nType: Sweater\\nCategory: Garment Upper body\\nDescription: Jumper in a soft knit with low dropped shoulders, long sleeves and ribbing around the neckline, cuffs and hem.\",\n",
      "        \"description\": \"Jumper in a soft knit with low dropped shoulders, long sleeves and ribbing around the neckline, cuffs and hem.\",\n",
      "        \"name\": \"Grace Sweater\",\n",
      "        \"url\": \"https://xyzbrands/product/796033\",\n",
      "        \"search_score\": 0.9164581298828125\n",
      "    },\n",
      "    {\n",
      "        \"productCode\": 620081,\n",
      "        \"text\": \"##Product \\nName: Tulip jumper\\nType: Sweater\\nCategory: Garment Upper body\\nDescription: \",\n",
      "        \"description\": NaN,\n",
      "        \"name\": \"Tulip jumper\",\n",
      "        \"url\": \"https://xyzbrands/product/620081\",\n",
      "        \"search_score\": 0.916351318359375\n",
      "    },\n",
      "    {\n",
      "        \"productCode\": 671949,\n",
      "        \"text\": \"##Product \\nName: PE PRINGLES\\nType: Sweater\\nCategory: Garment Upper body\\nDescription: Fitted jumper in soft, fine-knit merino wool with a stand-up collar, long sleeves and roll edges around the neckline, cuffs and hem.\",\n",
      "        \"description\": \"Fitted jumper in soft, fine-knit merino wool with a stand-up collar, long sleeves and roll edges around the neckline, cuffs and hem.\",\n",
      "        \"name\": \"PE PRINGLES\",\n",
      "        \"url\": \"https://xyzbrands/product/671949\",\n",
      "        \"search_score\": 0.9163055419921875\n",
      "    },\n",
      "    {\n",
      "        \"productCode\": 532921,\n",
      "        \"text\": \"##Product \\nName: Cosy top\\nType: Sweater\\nCategory: Garment Upper body\\nDescription: Long-sleeved jumper in a soft, fine knit with a turtle neck.\",\n",
      "        \"description\": \"Long-sleeved jumper in a soft, fine knit with a turtle neck.\",\n",
      "        \"name\": \"Cosy top\",\n",
      "        \"url\": \"https://xyzbrands/product/532921\",\n",
      "        \"search_score\": 0.916015625\n",
      "    },\n",
      "    {\n",
      "        \"productCode\": 639901,\n",
      "        \"text\": \"##Product \\nName: Don sweater\\nType: Sweater\\nCategory: Garment Upper body\\nDescription: Jumper in a cable-knit cotton blend with long raglan sleeves, buttons on one shoulder and ribbing around the neckline, cuffs and hem.\",\n",
      "        \"description\": \"Jumper in a cable-knit cotton blend with long raglan sleeves, buttons on one shoulder and ribbing around the neckline, cuffs and hem.\",\n",
      "        \"name\": \"Don sweater\",\n",
      "        \"url\": \"https://xyzbrands/product/639901\",\n",
      "        \"search_score\": 0.9156494140625\n",
      "    },\n",
      "    {\n",
      "        \"productCode\": 735840,\n",
      "        \"text\": \"##Product \\nName: BRIDGET Sweater\\nType: Sweater\\nCategory: Garment Upper body\\nDescription: Jumper in a soft rib knit containing some wool with dropped shoulders, long sleeves and ribbing around the neckline, cuffs and hem.\",\n",
      "        \"description\": \"Jumper in a soft rib knit containing some wool with dropped shoulders, long sleeves and ribbing around the neckline, cuffs and hem.\",\n",
      "        \"name\": \"BRIDGET Sweater\",\n",
      "        \"url\": \"https://xyzbrands/product/735840\",\n",
      "        \"search_score\": 0.91534423828125\n",
      "    },\n",
      "    {\n",
      "        \"productCode\": 732411,\n",
      "        \"text\": \"##Product \\nName: CSP Snake Sweater\\nType: Sweater\\nCategory: Garment Upper body\\nDescription: Jumper in a soft jacquard knit with a round neck and long sleeves.\",\n",
      "        \"description\": \"Jumper in a soft jacquard knit with a round neck and long sleeves.\",\n",
      "        \"name\": \"CSP Snake Sweater\",\n",
      "        \"url\": \"https://xyzbrands/product/732411\",\n",
      "        \"search_score\": 0.91534423828125\n",
      "    }\n",
      "]\n",
      "==================================\u001B[1m Ai Message \u001B[0m==================================\n",
      "\n",
      "Here are some sweaters that would be suitable for spring, as they are not too warm:\n",
      "\n",
      "1. **XMAS Cherry Sweater**\n",
      "   - Description: Jumper in a soft, fine knit with an intarsia-knit front and ribbing around the neckline, cuffs, and hem.\n",
      "   - [View Product](https://xyzbrands/product/793385)\n",
      "\n",
      "2. **Esther Sweater**\n",
      "   - Description: Short, wide turtleneck jumper in a soft rib knit with dropped shoulders and long, wide sleeves.\n",
      "   - [View Product](https://xyzbrands/product/574112)\n",
      "\n",
      "3. **Grace Sweater**\n",
      "   - Description: Jumper in a soft knit with low dropped shoulders, long sleeves, and ribbing around the neckline, cuffs, and hem.\n",
      "   - [View Product](https://xyzbrands/product/796033)\n",
      "\n",
      "4. **Tulip Jumper**\n",
      "   - Description: A simple and elegant sweater for spring.\n",
      "   - [View Product](https://xyzbrands/product/620081)\n",
      "\n",
      "5. **PE PRINGLES**\n",
      "   - Description: Fitted jumper in soft, fine-knit merino wool with a stand-up collar, long sleeves, and roll edges around the neckline, cuffs, and hem.\n",
      "   - [View Product](https://xyzbrands/product/671949)\n",
      "\n",
      "These options should keep you comfortable during the spring season without being too warm.\n"
     ]
    }
   ],
   "execution_count": 44
  },
  {
   "metadata": {
    "ExecuteTime": {
     "end_time": "2025-04-14T02:26:00.573752Z",
     "start_time": "2025-04-14T02:25:53.021314Z"
    }
   },
   "cell_type": "code",
   "source": "history = agent_stream(\"What else can you recommend to go with that?\", history)",
   "id": "81f76530ee6d959c",
   "outputs": [
    {
     "name": "stdout",
     "output_type": "stream",
     "text": [
      "================================\u001B[1m Human Message \u001B[0m=================================\n",
      "\n",
      "What else can you recommend to go with that?\n",
      "==================================\u001B[1m Ai Message \u001B[0m==================================\n",
      "Tool Calls:\n",
      "  get_product_recommendations (call_LxVWTkiy6IOTCeKwHR3jLMpc)\n",
      " Call ID: call_LxVWTkiy6IOTCeKwHR3jLMpc\n",
      "  Args:\n",
      "    product_codes_or_article_ids: [793385, 574112, 796033, 620081, 671949]\n",
      "=================================\u001B[1m Tool Message \u001B[0m=================================\n",
      "Name: get_product_recommendations\n",
      "\n",
      "[{\"productCode\": 744180, \"text\": \"##Product \\nName: Martini\\nType: Dress\\nCategory: Garment Full body\\nDescription: Short wrap dress in woven fabric with short, wide sleeves and a V-neck with a concealed hook-and-eye fastener at the neckline. Seam and detachable tie belt at the waist and a gently flared skirt with a flounced trim. Unlined.\", \"url\": \"https://xyzbrands/product/744180\"}, {\"productCode\": 817472, \"text\": \"##Product \\nName: Kelso\\nType: Shorts\\nCategory: Garment Lower body\\nDescription: Shorts in a softly draping viscose weave. High waist with pleats at the front and wide, covered elastication at the back, and diagonal side pockets.\", \"url\": \"https://xyzbrands/product/817472\"}, {\"productCode\": 720756, \"text\": \"##Product \\nName: Katalin body\\nType: Bodysuit\\nCategory: Garment Upper body\\nDescription: Short-sleeved body in stretch jersey. V-neck with gathers at the front and press-studs at the crotch.\", \"url\": \"https://xyzbrands/product/720756\"}, {\"productCode\": 773955, \"text\": \"##Product \\nName: Monica\\nType: Blouse\\nCategory: Garment Upper body\\nDescription: Blouse in a viscose weave with a V-neck, buttons down the front, long sleeves with narrow, buttoned cuffs and a peplum.\", \"url\": \"https://xyzbrands/product/773955\"}, {\"productCode\": 574109, \"text\": \"##Product \\nName: Rachel LS TVP\\nType: Sweater\\nCategory: Garment Upper body\\nDescription: Fitted top in a fine rib knit with long sleeves and a ribbed neckline.\", \"url\": \"https://xyzbrands/product/574109\"}, {\"productCode\": 539723, \"text\": \"##Product \\nName: Jade Denim TRS\\nType: Trousers\\nCategory: Garment Lower body\\nDescription: High-waisted jeans in washed superstretch denim with a zip fly and button, fake front pockets, real back pockets and super-skinny legs.\", \"url\": \"https://xyzbrands/product/539723\"}, {\"productCode\": 554450, \"text\": \"##Product \\nName: Julia RW Skinny Denim TRS\\nType: Trousers\\nCategory: Garment Lower body\\nDescription: 5-pocket jeans in superstretch washed denim with a regular waist and super-skinny legs.\", \"url\": \"https://xyzbrands/product/554450\"}, {\"productCode\": 753737, \"text\": \"##Product \\nName: Twenty HW tapered\\nType: Trousers\\nCategory: Garment Lower body\\nDescription: Trousers in woven fabric. High waist with pleats and a detachable tie belt, a concealed hook-and-eye fastener and a zip fly. Side pockets and tapered legs with creases.\", \"url\": \"https://xyzbrands/product/753737\"}, {\"productCode\": 573085, \"text\": \"##Product \\nName: Madison skinny HW\\nType: Trousers\\nCategory: Garment Lower body\\nDescription: 5-pocket jeans in washed stretch denim with a high waist, zip fly and slim legs.\", \"url\": \"https://xyzbrands/product/573085\"}, {\"productCode\": 689365, \"text\": \"##Product \\nName: BROADWAY S.9\\nType: Shirt\\nCategory: Garment Upper body\\nDescription: Shirt in a cotton weave with a collar, buttons down the front, a yoke with a pleat at the back and long sleeves with buttoned cuffs.\", \"url\": \"https://xyzbrands/product/689365\"}, {\"productCode\": 698273, \"text\": \"##Product \\nName: BOULEVARD TEE TVP\\nType: T-shirt\\nCategory: Garment Upper body\\nDescription: T-shirt in soft viscose jersey with a slight sheen. Print motif on the front and ribbing around the neckline.\", \"url\": \"https://xyzbrands/product/698273\"}, {\"productCode\": 697054, \"text\": \"##Product \\nName: Despacito\\nType: Blouse\\nCategory: Garment Upper body\\nDescription: Blouse in woven fabric with a collar, buttons down the front, gathers at the shoulders, long sleeves with buttoned cuffs, and a rounded hem. Slightly longer at the back.\", \"url\": \"https://xyzbrands/product/697054\"}, {\"productCode\": 728156, \"text\": \"##Product \\nName: Robin blazer\\nType: Blazer\\nCategory: Garment Upper body\\nDescription: Straight-cut jacket in woven fabric with a shawl collar, thin shoulder pads, welt front pockets and 3/4-length sleeves with a short slit at the cuffs. No fasteners. Lined.\", \"url\": \"https://xyzbrands/product/728156\"}, {\"productCode\": 762212, \"text\": \"##Product \\nName: Phoebe\\nType: Blouse\\nCategory: Garment Upper body\\nDescription: Blouse in a patterned viscose weave with a V-neck, buttons down the front and ties at the hem. Long, slightly wider sleeves with gathered cuffs.\", \"url\": \"https://xyzbrands/product/762212\"}, {\"productCode\": 700935, \"text\": \"##Product \\nName: Booty Jean RW Denim\\nType: Trousers\\nCategory: Garment Lower body\\nDescription: High-waisted jeans in washed, stretch denim with a zip fly and button, curved seams at the back, front and back pockets and skinny legs.\", \"url\": \"https://xyzbrands/product/700935\"}, {\"productCode\": 719353, \"text\": \"##Product \\nName: Glam body\\nType: Bodysuit\\nCategory: Garment Upper body\\nDescription: Fitted body in soft, patterned cotton jersey with a V-neck, long sleeves and press-studs at the crotch.\", \"url\": \"https://xyzbrands/product/719353\"}, {\"productCode\": 719209, \"text\": \"##Product \\nName: Kahl denim skirt\\nType: Skirt\\nCategory: Garment Lower body\\nDescription: Short, 5-pocket skirt in washed denim with a high waist, button fly and frayed, raw-edge hem.\", \"url\": \"https://xyzbrands/product/719209\"}, {\"productCode\": 832482, \"text\": \"##Product \\nName: Ginger body\\nType: Bodysuit\\nCategory: Garment Upper body\\nDescription: Sleeveless body in ribbed jersey with a slight sheen. Low-cut neckline front and back, wide shoulder straps, decorative buttons at the front and concealed press-studs at the crotch.\", \"url\": \"https://xyzbrands/product/832482\"}, {\"productCode\": 620081, \"text\": \"##Product \\nName: Tulip jumper\\nType: Sweater\\nCategory: Garment Upper body\\nDescription: \", \"url\": \"https://xyzbrands/product/620081\"}, {\"productCode\": 399087, \"text\": \"##Product \\nName: Super Skinny L.W Epic\\nType: Trousers\\nCategory: Garment Lower body\\nDescription: 5-pocket, low-rise jeans in washed, superstretch denim with a zip fly and button, and super-skinny legs.\", \"url\": \"https://xyzbrands/product/399087\"}]\n",
      "==================================\u001B[1m Ai Message \u001B[0m==================================\n",
      "\n",
      "Here are some additional items that would pair well with the spring sweaters:\n",
      "\n",
      "1. **Martini Dress**\n",
      "   - Description: Short wrap dress in woven fabric with short, wide sleeves and a V-neck with a concealed hook-and-eye fastener at the neckline. Seam and detachable tie belt at the waist and a gently flared skirt with a flounced trim. Unlined.\n",
      "   - [View Product](https://xyzbrands/product/744180)\n",
      "\n",
      "2. **Kelso Shorts**\n",
      "   - Description: Shorts in a softly draping viscose weave. High waist with pleats at the front and wide, covered elastication at the back, and diagonal side pockets.\n",
      "   - [View Product](https://xyzbrands/product/817472)\n",
      "\n",
      "3. **Katalin Bodysuit**\n",
      "   - Description: Short-sleeved body in stretch jersey. V-neck with gathers at the front and press-studs at the crotch.\n",
      "   - [View Product](https://xyzbrands/product/720756)\n",
      "\n",
      "4. **Monica Blouse**\n",
      "   - Description: Blouse in a viscose weave with a V-neck, buttons down the front, long sleeves with narrow, buttoned cuffs and a peplum.\n",
      "   - [View Product](https://xyzbrands/product/773955)\n",
      "\n",
      "5. **Jade Denim Trousers**\n",
      "   - Description: High-waisted jeans in washed superstretch denim with a zip fly and button, fake front pockets, real back pockets and super-skinny legs.\n",
      "   - [View Product](https://xyzbrands/product/539723)\n",
      "\n",
      "These items can complement the sweaters and create a stylish spring outfit.\n"
     ]
    }
   ],
   "execution_count": 45
  },
  {
   "metadata": {
    "ExecuteTime": {
     "end_time": "2025-04-14T02:26:40.475262Z",
     "start_time": "2025-04-14T02:26:35.912645Z"
    }
   },
   "cell_type": "code",
   "source": "history2 = agent_stream(\"Which suppliers have the highest number of returns (i.,e, credit notes)?\")",
   "id": "e7dcb2e2fdbc8d36",
   "outputs": [
    {
     "name": "stdout",
     "output_type": "stream",
     "text": [
      "================================\u001B[1m Human Message \u001B[0m=================================\n",
      "\n",
      "Which suppliers have the highest number of returns (i.,e, credit notes)?\n",
      "==================================\u001B[1m Ai Message \u001B[0m==================================\n",
      "Tool Calls:\n",
      "  aggregate (call_H494cYQY3z1rEwzqUETKQCBn)\n",
      " Call ID: call_H494cYQY3z1rEwzqUETKQCBn\n",
      "  Args:\n",
      "    agg_instructions: Aggregate the number of credit notes (returns) for each supplier and return the suppliers with the highest number of returns.\n",
      "Running Query:\n",
      "MATCH (cn:CreditNote)-[:REFUND_OF_ARTICLE]->(a:Article)-[:SUPPLIED_BY]->(s:Supplier)\n",
      "WITH s, count(cn) AS numberOfReturns\n",
      "ORDER BY numberOfReturns DESC\n",
      "RETURN s.name, numberOfReturns\n",
      "=================================\u001B[1m Tool Message \u001B[0m=================================\n",
      "Name: aggregate\n",
      "\n",
      "[\n",
      "    {\n",
      "        \"s.name\": \"1616 - Textile & Apparel Manufacturing\",\n",
      "        \"numberOfReturns\": 45\n",
      "    },\n",
      "    {\n",
      "        \"s.name\": \"1779 - Denim Textiles\",\n",
      "        \"numberOfReturns\": 42\n",
      "    },\n",
      "    {\n",
      "        \"s.name\": \"3708 - Textile & Apparel Manufacturing\",\n",
      "        \"numberOfReturns\": 40\n",
      "    },\n",
      "    {\n",
      "        \"s.name\": \"1643 - Textile & Apparel Manufacturing\",\n",
      "        \"numberOfReturns\": 39\n",
      "    },\n",
      "    {\n",
      "        \"s.name\": \"5832 - Jersey Mills\",\n",
      "        \"numberOfReturns\": 26\n",
      "    },\n",
      "    {\n",
      "        \"s.name\": \"1339 - Intimate Apparel Suppliers\",\n",
      "        \"numberOfReturns\": 16\n",
      "    },\n",
      "    {\n",
      "        \"s.name\": \"1422 - Textile & Apparel Manufacturing\",\n",
      "        \"numberOfReturns\": 14\n",
      "    },\n",
      "    {\n",
      "        \"s.name\": \"1778 - Textile & Apparel Manufacturing\",\n",
      "        \"numberOfReturns\": 12\n",
      "    },\n",
      "    {\n",
      "        \"s.name\": \"1201 - Outerwear Suppliers\",\n",
      "        \"numberOfReturns\": 11\n",
      "    },\n",
      "    {\n",
      "        \"s.name\": \"3936 - Textile & Apparel Manufacturing\",\n",
      "        \"numberOfReturns\": 10\n",
      "    },\n",
      "    {\n",
      "        \"s.name\": \"3610 - Sock & Hosiery Production\",\n",
      "        \"numberOfReturns\": 10\n",
      "    },\n",
      "    {\n",
      "        \"s.name\": \"1666 - Jersey Mills\",\n",
      "        \"numberOfReturns\": 9\n",
      "    },\n",
      "    {\n",
      "        \"s.name\": \"1772 - Denim Textiles\",\n",
      "        \"numberOfReturns\": 9\n",
      "    },\n",
      "    {\n",
      "        \"s.name\": \"5868 - Textile & Apparel Manufacturing\",\n",
      "        \"numberOfReturns\": 6\n",
      "    },\n",
      "    {\n",
      "        \"s.name\": \"2032 - Jersey Mills\",\n",
      "        \"numberOfReturns\": 5\n",
      "    },\n",
      "    {\n",
      "        \"s.name\": \"3932 - Textile & Apparel Manufacturing\",\n",
      "        \"numberOfReturns\": 5\n",
      "    },\n",
      "    {\n",
      "        \"s.name\": \"1649 - Trousers & Slacks Mills\",\n",
      "        \"numberOfReturns\": 4\n",
      "    },\n",
      "    {\n",
      "        \"s.name\": \"1773 - Denim Textiles\",\n",
      "        \"numberOfReturns\": 4\n",
      "    }\n",
      "]\n",
      "==================================\u001B[1m Ai Message \u001B[0m==================================\n",
      "\n",
      "The suppliers with the highest number of returns (credit notes) are:\n",
      "\n",
      "1. **1616 - Textile & Apparel Manufacturing**: 45 returns\n",
      "2. **1779 - Denim Textiles**: 42 returns\n",
      "3. **3708 - Textile & Apparel Manufacturing**: 40 returns\n",
      "4. **1643 - Textile & Apparel Manufacturing**: 39 returns\n",
      "5. **5832 - Jersey Mills**: 26 returns\n",
      "\n",
      "These suppliers have the highest number of credit notes issued for returns.\n"
     ]
    }
   ],
   "execution_count": 46
  },
  {
   "metadata": {
    "ExecuteTime": {
     "end_time": "2025-04-14T02:26:59.900545Z",
     "start_time": "2025-04-14T02:26:52.112971Z"
    }
   },
   "cell_type": "code",
   "source": "history3 = agent_stream(\"What are the top 3 most returned products for supplier 1616? Get those product codes and find other suppliers who have less returns for each product I can use instead.\")",
   "id": "c0f9df7ed1961f6c",
   "outputs": [
    {
     "name": "stdout",
     "output_type": "stream",
     "text": [
      "================================\u001B[1m Human Message \u001B[0m=================================\n",
      "\n",
      "What are the top 3 most returned products for supplier 1616? Get those product codes and find other suppliers who have less returns for each product I can use instead.\n",
      "==================================\u001B[1m Ai Message \u001B[0m==================================\n",
      "Tool Calls:\n",
      "  aggregate (call_lrQg0Q7GjUHWWiApLnGgwjml)\n",
      " Call ID: call_lrQg0Q7GjUHWWiApLnGgwjml\n",
      "  Args:\n",
      "    agg_instructions: Find the top 3 most returned products for supplier 1616 by counting the number of refunds associated with each product supplied by this supplier. Return the product codes of these top 3 products.\n",
      "Running Query:\n",
      "MATCH (s:Supplier {supplierId: 1616})<-[:SUPPLIED_BY]-(a:Article)<-[:REFUND_OF_ARTICLE]-(c:CreditNote)\n",
      "MATCH (a)-[:VARIANT_OF]->(p:Product)\n",
      "RETURN p.productCode AS productCode, COUNT(c) AS refundCount\n",
      "ORDER BY refundCount DESC\n",
      "LIMIT 3\n",
      "=================================\u001B[1m Tool Message \u001B[0m=================================\n",
      "Name: aggregate\n",
      "\n",
      "[\n",
      "    {\n",
      "        \"productCode\": 673677,\n",
      "        \"refundCount\": 30\n",
      "    },\n",
      "    {\n",
      "        \"productCode\": 748269,\n",
      "        \"refundCount\": 11\n",
      "    },\n",
      "    {\n",
      "        \"productCode\": 802023,\n",
      "        \"refundCount\": 4\n",
      "    }\n",
      "]\n",
      "==================================\u001B[1m Ai Message \u001B[0m==================================\n",
      "Tool Calls:\n",
      "  get_product_order_supplier_info (call_a0P7ZVjOUTi9fF7f7ImE7qPw)\n",
      " Call ID: call_a0P7ZVjOUTi9fF7f7ImE7qPw\n",
      "  Args:\n",
      "    product_codes: [673677, 748269, 802023]\n",
      "=================================\u001B[1m Tool Message \u001B[0m=================================\n",
      "Name: get_product_order_supplier_info\n",
      "\n",
      "[{\"productCode\": 673677, \"totalOrders\": 35, \"totalReturns\": 30, \"supplierInfos\": [{\"supplierId\": 1616, \"name\": \"1616 - Textile & Apparel Manufacturing\", \"numberOfRefunds\": 15, \"numberOfOrders\": 15}, {\"supplierId\": 1646, \"name\": \"1646 - Textile & Apparel Manufacturing\", \"numberOfRefunds\": 0, \"numberOfOrders\": 5}, {\"supplierId\": 1616, \"name\": \"1616 - Textile & Apparel Manufacturing\", \"numberOfRefunds\": 2, \"numberOfOrders\": 2}, {\"supplierId\": 1616, \"name\": \"1616 - Textile & Apparel Manufacturing\", \"numberOfRefunds\": 4, \"numberOfOrders\": 4}, {\"supplierId\": 1616, \"name\": \"1616 - Textile & Apparel Manufacturing\", \"numberOfRefunds\": 3, \"numberOfOrders\": 3}, {\"supplierId\": 1616, \"name\": \"1616 - Textile & Apparel Manufacturing\", \"numberOfRefunds\": 3, \"numberOfOrders\": 3}, {\"supplierId\": 1616, \"name\": \"1616 - Textile & Apparel Manufacturing\", \"numberOfRefunds\": 3, \"numberOfOrders\": 3}]}, {\"productCode\": 748269, \"totalOrders\": 13, \"totalReturns\": 11, \"supplierInfos\": [{\"supplierId\": 1616, \"name\": \"1616 - Textile & Apparel Manufacturing\", \"numberOfRefunds\": 4, \"numberOfOrders\": 4}, {\"supplierId\": 1616, \"name\": \"1616 - Textile & Apparel Manufacturing\", \"numberOfRefunds\": 5, \"numberOfOrders\": 5}, {\"supplierId\": 3708, \"name\": \"3708 - Textile & Apparel Manufacturing\", \"numberOfRefunds\": 0, \"numberOfOrders\": 2}, {\"supplierId\": 1616, \"name\": \"1616 - Textile & Apparel Manufacturing\", \"numberOfRefunds\": 1, \"numberOfOrders\": 1}, {\"supplierId\": 1616, \"name\": \"1616 - Textile & Apparel Manufacturing\", \"numberOfRefunds\": 1, \"numberOfOrders\": 1}]}, {\"productCode\": 802023, \"totalOrders\": 8, \"totalReturns\": 4, \"supplierInfos\": [{\"supplierId\": 3708, \"name\": \"3708 - Textile & Apparel Manufacturing\", \"numberOfRefunds\": 0, \"numberOfOrders\": 1}, {\"supplierId\": 3708, \"name\": \"3708 - Textile & Apparel Manufacturing\", \"numberOfRefunds\": 0, \"numberOfOrders\": 1}, {\"supplierId\": 1616, \"name\": \"1616 - Textile & Apparel Manufacturing\", \"numberOfRefunds\": 3, \"numberOfOrders\": 3}, {\"supplierId\": 1616, \"name\": \"1616 - Textile & Apparel Manufacturing\", \"numberOfRefunds\": 1, \"numberOfOrders\": 1}, {\"supplierId\": 3708, \"name\": \"3708 - Textile & Apparel Manufacturing\", \"numberOfRefunds\": 0, \"numberOfOrders\": 2}]}]\n",
      "==================================\u001B[1m Ai Message \u001B[0m==================================\n",
      "\n",
      "Here are the top 3 most returned products for supplier 1616, along with alternative suppliers who have less or no returns for each product:\n",
      "\n",
      "1. **Product Code: 673677**\n",
      "   - **Supplier 1616**: 15 refunds\n",
      "   - **Alternative Supplier**: \n",
      "     - Supplier 1646: 0 refunds\n",
      "\n",
      "2. **Product Code: 748269**\n",
      "   - **Supplier 1616**: 4 refunds\n",
      "   - **Alternative Supplier**: \n",
      "     - Supplier 3708: 0 refunds\n",
      "\n",
      "3. **Product Code: 802023**\n",
      "   - **Supplier 1616**: 3 refunds\n",
      "   - **Alternative Supplier**: \n",
      "     - Supplier 3708: 0 refunds\n",
      "\n",
      "You can consider using suppliers 1646 and 3708 for these products to potentially reduce returns.\n"
     ]
    }
   ],
   "execution_count": 47
  },
  {
   "metadata": {},
   "cell_type": "markdown",
   "source": [
    "## MCP Integration\n",
    "Of course, we can also use MCP to connect tools"
   ],
   "id": "e8d315b8bd44076f"
  },
  {
   "metadata": {},
   "cell_type": "code",
   "outputs": [],
   "execution_count": null,
   "source": "#TODO - This is super easy see https://github.com/langchain-ai/langchain-mcp-adapters?tab=readme-ov-file#client-1",
   "id": "b09aeb38c031c4c7"
  }
 ],
 "metadata": {
  "kernelspec": {
   "display_name": "Python 3",
   "language": "python",
   "name": "python3"
  },
  "language_info": {
   "codemirror_mode": {
    "name": "ipython",
    "version": 2
   },
   "file_extension": ".py",
   "mimetype": "text/x-python",
   "name": "python",
   "nbconvert_exporter": "python",
   "pygments_lexer": "ipython2",
   "version": "2.7.6"
  }
 },
 "nbformat": 4,
 "nbformat_minor": 5
}
