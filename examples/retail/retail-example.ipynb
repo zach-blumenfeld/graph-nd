{
 "cells": [
  {
   "metadata": {},
   "cell_type": "markdown",
   "source": [
    "# Retail Example\n",
    "\n",
    "\n",
    "This example demonstrates how to use Graph-ND for a more controlled, precision-focused workflow. Unlike the quick-start components example, it avoids reliance on LLMs for data mapping and enables greater user control & flexibility for real-world use cases. Key highlights:\n",
    "1. Provide a pre-defined graph schema instead of inferring via LLM\n",
    "2. Use your own code to map tables to nodes and relationships rather than relying on an LLM-_still no need to write any Cypher!_\n",
    "3. Define filtered target schemas for text extraction to improve data quality.\n",
    "4. Add custom source metadata to comply with your workflows or data governance\n",
    "5. Add custom graph retrieval tools to improve accuracy and tailor to your use case\n",
    "\n",
    "\n",
    "To run this notebook:\n",
    "1. **Set up Neo4j (Aura):**\n",
    "    - Start a free Neo4j instance at [console.neo4j.io](https://console.neo4j.io/) and save the credentials file.\n",
    "\n",
    "2. **Clone and navigate to the repo:**\n",
    "    - `git clone https://github.com/zach-blumenfeld/graph-nd.git`\n",
    "    - `cd graph-nd`\n",
    "\n",
    "3. **Prepare your environment:**\n",
    "    - Create a Python virtual environment and install dependencies:\n",
    "`pip install -r requirements.txt`\n",
    "    - Configure your `.env` file in `graph-nd/examples/retail/` with Neo4j credentials and your `OPENAI_API_KEY` as shown below.\n",
    "\n",
    "4. **Run the notebook:**\n",
    "    - Navigate to the appropriate folder: `graph-nd/examples/retail/`\n",
    "    - Open and run `retail-example.ipynb`.\n",
    "\n"
   ],
   "id": "64d9917bb1bae013"
  },
  {
   "metadata": {
    "ExecuteTime": {
     "end_time": "2025-05-16T19:20:56.573767Z",
     "start_time": "2025-05-16T19:20:56.568638Z"
    }
   },
   "cell_type": "code",
   "source": [
    "import os\n",
    "\n",
    "parent_dir = os.getcwd()\n",
    "data_dir = os.path.join(parent_dir, \"data\")\n",
    "data_model_dir = os.path.join(parent_dir, \"data-models\")\n"
   ],
   "id": "b498d3ac2a9f34fe",
   "outputs": [],
   "execution_count": 1
  },
  {
   "metadata": {},
   "cell_type": "markdown",
   "source": [
    "## Setup\n",
    "\n",
    "make sure to have a `.env` file with the below"
   ],
   "id": "8ea05f6f20b5cb71"
  },
  {
   "metadata": {
    "ExecuteTime": {
     "end_time": "2025-05-16T19:23:14.226539Z",
     "start_time": "2025-05-16T19:23:14.216187Z"
    }
   },
   "cell_type": "code",
   "source": [
    "from dotenv import load_dotenv\n",
    "from getpass import getpass\n",
    "\n",
    "load_dotenv('.env', override=True)\n",
    "\n",
    "uri = os.getenv('NEO4J_URI')\n",
    "username = os.getenv('NEO4J_USERNAME')\n",
    "password = os.getenv('NEO4J_PASSWORD')\n",
    "\n",
    "if not os.getenv('OPENAI_API_KEY'):\n",
    "    api_key = getpass(\"Please enter your OpenAI API key: \")"
   ],
   "id": "8fed9b1f4390a3d6",
   "outputs": [],
   "execution_count": 4
  },
  {
   "metadata": {},
   "cell_type": "markdown",
   "source": [
    "## Drafting Graph Schemas\n",
    "Creating graph schemas for production is an iterative process requiring reviews, version controls, and some trial and error.\n",
    "Graph-ND is designed to support this process.\n",
    "To get started you can create an initial graph schema from any JSON-like file. For example, you can start with other data modeling tools, such as the Neo4j Data Importer, and export the resulting schema to a file. GraphRAG can then map this to an initial graph schema, which experts can refine further as needed.\n"
   ],
   "id": "a325d29633f916d7"
  },
  {
   "metadata": {
    "ExecuteTime": {
     "end_time": "2025-05-16T19:21:19.726816Z",
     "start_time": "2025-05-16T19:21:02.654934Z"
    }
   },
   "cell_type": "code",
   "source": [
    "from graph_nd import GraphRAG\n",
    "from langchain_openai import ChatOpenAI\n",
    "\n",
    "\n",
    "#file names\n",
    "json_file = os.path.join(data_model_dir, \"neo4j-importer-draft.json\")\n",
    "graph_schema_v1 = os.path.join(data_model_dir, \"graph-schema-v1.json\")\n",
    "\n",
    "# LLM\n",
    "llm=ChatOpenAI(model=\"gpt-4o\", temperature=0.0)\n",
    "\n",
    "# draft v1 graph-schema from neo4j importer model\n",
    "(GraphRAG(llm=llm).schema\n",
    " .from_json_like_file(json_file)\n",
    " .export(graph_schema_v1))"
   ],
   "id": "89e9e77e5054e85",
   "outputs": [
    {
     "name": "stdout",
     "output_type": "stream",
     "text": [
      "[Schema] Successfully Crafted schema\n"
     ]
    }
   ],
   "execution_count": 3
  },
  {
   "metadata": {},
   "cell_type": "markdown",
   "source": [
    "## Tracking & Loading Schemas\n",
    "You can iterate, track, and re-load these graph schema files. Allowing you to have __precise, version controlled, expert crafted schemas__. Below is how you load a graph schema for use"
   ],
   "id": "15507ab7c5b9550e"
  },
  {
   "metadata": {
    "ExecuteTime": {
     "end_time": "2025-05-16T19:27:46.769604Z",
     "start_time": "2025-05-16T19:27:46.683574Z"
    }
   },
   "cell_type": "code",
   "source": [
    "from graph_nd import GraphRAG\n",
    "from neo4j import GraphDatabase\n",
    "from langchain_openai import OpenAIEmbeddings, ChatOpenAI\n",
    "\n",
    "db_client = GraphDatabase.driver(uri, auth=(username, password))\n",
    "embedding_model = OpenAIEmbeddings(model='text-embedding-ada-002')\n",
    "llm = ChatOpenAI(model=\"gpt-4o\", temperature=0.0)\n",
    "schema_file = os.path.join(data_model_dir, \"graph-schema-finalized.json\")\n",
    "\n",
    "# instantiate graphrag\n",
    "graphrag = GraphRAG(db_client, llm, embedding_model)\n",
    "\n",
    "# load schema\n",
    "graphrag.schema.load(schema_file)"
   ],
   "id": "8473be73cb345c5c",
   "outputs": [
    {
     "name": "stdout",
     "output_type": "stream",
     "text": [
      "[Schema] Schema successfully loaded from /Users/zachblumenfeld/demo/graphrag-nd/examples/retail/data-models/graph-schema-finalized.json\n"
     ]
    }
   ],
   "execution_count": 6
  },
  {
   "metadata": {},
   "cell_type": "markdown",
   "source": [
    "## Automated Table Mapping - It Isn't Wrong but It Misses Some Things\n",
    "Below is how you would run Graph-ND using inferred table mappings. Feel free to run and experiment.  In this case it doesn't appear wrong, but it will likely miss some relationships and there are some properties in the graph schema which aren't present in the tables (require our own calculations).\n",
    "\n",
    "It is likely that with more descriptions in the graph schema we can get the mappings to do better, but for this example we will show how you can incorporate your own mapping logic"
   ],
   "id": "e7924bb6899266c"
  },
  {
   "metadata": {
    "ExecuteTime": {
     "end_time": "2025-05-16T19:28:39.623820Z",
     "start_time": "2025-05-16T19:27:50.543290Z"
    }
   },
   "cell_type": "code",
   "source": [
    "for csv in [\"order-details.csv\", \"products.csv\", \"articles.csv\", \"customers.csv\", \"suppliers.csv\"]:\n",
    "    graphrag.data.merge_csv(os.path.join(data_dir, csv))\n"
   ],
   "id": "caa97986be2ea749",
   "outputs": [
    {
     "name": "stdout",
     "output_type": "stream",
     "text": [
      "[Data] Merging order-details.csv as TableTypeEnum.RELATIONSHIPS.\n",
      "[Data] Merging products.csv as TableTypeEnum.SINGLE_NODE.\n",
      "[Data] Merging articles.csv as TableTypeEnum.SINGLE_NODE.\n",
      "[Data] Merging customers.csv as TableTypeEnum.SINGLE_NODE.\n",
      "[Data] Merging suppliers.csv as TableTypeEnum.SINGLE_NODE.\n"
     ]
    }
   ],
   "execution_count": 7
  },
  {
   "metadata": {},
   "cell_type": "markdown",
   "source": [
    "## Map Tabular Data with Our Own Logic\n",
    "We can map data with our own custom logic for precision before merging nodes and relationship records directly with `data.merge_nodes` and `data.merge_relationships` methods\n",
    "We will provide a custom metadata field \"ingest_id\" which will persist to `__Source__` nodes in the graph."
   ],
   "id": "d0c9979b271decb3"
  },
  {
   "metadata": {
    "ExecuteTime": {
     "end_time": "2025-05-16T19:31:10.195277Z",
     "start_time": "2025-05-16T19:31:10.189757Z"
    }
   },
   "cell_type": "code",
   "source": [
    "#We will provide a custom metadata field \"ingest_id\" which will persist to __Source__ nodes in the graph.\n",
    "ingest_id = \"my-tabular-data-ingest\""
   ],
   "id": "4d28e7803763d1ac",
   "outputs": [],
   "execution_count": 8
  },
  {
   "metadata": {
    "ExecuteTime": {
     "end_time": "2025-05-16T19:32:09.892029Z",
     "start_time": "2025-05-16T19:32:04.689979Z"
    }
   },
   "cell_type": "code",
   "source": [
    "# Lets clear all data out of the graph for reference\n",
    "graphrag.data.nuke()"
   ],
   "id": "9683a20778c0f522",
   "outputs": [],
   "execution_count": 10
  },
  {
   "metadata": {},
   "cell_type": "markdown",
   "source": [
    "### Merge Nodes\n",
    "\n",
    "`graphrag.data.merge_nodes` will take node records and perform an __idempotent__ MERGE into the graph.\n",
    "\n",
    "Technically source metadata ( `__Source__` node and `__source_id` lists properties) aren't idempotent  - more similar to \"append\" pattern so you can track activity, but the node records themselves are merged idempotently.\n",
    "\n",
    "Parameters:\n",
    "- label str: The label of the node type to merge (e.g., \"Person\", \"Movie\").\n",
    "             The label should match a defined node in the graph schema.\n",
    "- records List[Dict]: A list of dictionaries representing the data for each node to be merged.\n",
    "            Each record MUST include the `id` field as defined in the node schema, along with\n",
    "            any other optional properties expected by the schema.\n",
    "- source_metadata Union[bool, Dict[str, Any]], optional : Metadata for the source being merged.\n",
    "    - If set to `True`, default source metadata is prepared and added to a __Source__ node in the graph.\n",
    "    A __source_id property is added and/or appended to each node which maps to the id property of __Source__ node\n",
    "    - If `False`, no source metadata is added to the graph.\n",
    "    - If a custom dictionary is provided, source metadata is added as in the case of `True` and the dictionary properties override the default ones.\n",
    "    Default is True.\n",
    "\n",
    "Example:\n",
    "```\n",
    "    label = \"Person\"\n",
    "    records = [\n",
    "        {\"person_id\": 1, \"name\": \"Alice\", \"age\": 30},\n",
    "        {\"person_id\": 2, \"name\": \"Bob\", \"age\": 25}\n",
    "    ]\n",
    "```\n"
   ],
   "id": "e03b3c1a9bf7fb01"
  },
  {
   "metadata": {
    "ExecuteTime": {
     "end_time": "2025-05-16T19:32:19.057533Z",
     "start_time": "2025-05-16T19:32:17.455667Z"
    }
   },
   "cell_type": "code",
   "source": [
    "import pandas as pd\n",
    "\n",
    "order_df = pd.read_csv(os.path.join(data_dir, \"order-details.csv\"))\n",
    "order_records = order_df[['orderId', 'tDat']].drop_duplicates().rename(columns={'tDat':'date'}).to_dict(orient=\"records\")\n",
    "\n",
    "graphrag.data.merge_nodes(\"Order\", order_records, source_metadata={\"ingest_id\": ingest_id})"
   ],
   "id": "22e4c9279c14cac2",
   "outputs": [],
   "execution_count": 11
  },
  {
   "metadata": {},
   "cell_type": "markdown",
   "source": [
    "### Merge Relationships\n",
    "\n",
    "`graphrag.data.merge_relationships` Just will take relationship records and perform an __idempotent__ MERGE into the graph just like the node merge\n",
    "\n",
    "Source metadata will be added in the same matter as well.\n",
    "\n",
    "Parameters:\n",
    "- rel_type str: The type of the relationship (e.g., \"ACTED_IN\", \"FRIENDS_WITH\").\n",
    "                The type should match a defined relationship in the graph schema.\n",
    "- start_node_label str: The label of the starting node in the relationship (e.g., \"Person\").\n",
    "                        This label should match a defined node schema.\n",
    "- end_node_label str: The label of the ending node in the relationship (e.g., \"Movie\").\n",
    "                      This label should match a defined node schema.\n",
    "- records Dict: A dictionary (or list of dictionaries) representing the data for each relationship to be merged.\n",
    "- source_metadata Union[bool, Dict[str, Any]], optional: same as for nodes\n",
    "\n",
    "Required Fields in `records`:\n",
    "    - `start_node_id`: The unique identifier of the starting node.\n",
    "    - `end_node_id`: The unique identifier of the ending node.\n",
    "\n",
    "Example:\n",
    "\n",
    "    rel_type = \"ACTED_IN\"\n",
    "    start_node_label = \"Person\"\n",
    "    end_node_label = \"Movie\"\n",
    "    records = [\n",
    "        {\"start_node_id\": 1, \"end_node_id\": \"M101\", \"role\": \"Protagonist\"},\n",
    "        {\"start_node_id\": 2, \"end_node_id\": \"M102\", \"role\": \"Hacker\"}\n",
    "    ]"
   ],
   "id": "342aa37fb15719a2"
  },
  {
   "metadata": {
    "ExecuteTime": {
     "end_time": "2025-05-16T19:32:22.926942Z",
     "start_time": "2025-05-16T19:32:20.939569Z"
    }
   },
   "cell_type": "code",
   "source": [
    "ordered_records = order_df[['customerId', 'orderId']].drop_duplicates().rename(columns={'customerId':'start_node_id', 'orderId':'end_node_id'}).to_dict(orient=\"records\")\n",
    "\n",
    "graphrag.data.merge_relationships(rel_type='ORDERED',\n",
    "                                  start_node_label='Customer',\n",
    "                                  end_node_label='Order',\n",
    "                                  records=ordered_records,\n",
    "                                  source_metadata={\"ingest_id\": ingest_id})"
   ],
   "id": "831eaabac94f914c",
   "outputs": [],
   "execution_count": 12
  },
  {
   "metadata": {},
   "cell_type": "markdown",
   "source": [
    "### Merging Parallel Relationships\n",
    "Parallel Relationships are when more than one relationship of the same type can exist between the same two start and end nodes.  The above example doesn't account for them.  For these situations you must add an \"id\" property field to the relationship schema.  We specified `txId` as the relationship id for the CONTAINS relationship - in this example, an Order can CONTAIN multiple instances of the same Article.\n",
    "\n",
    "The txId is then required for the merge.  not providing it will result in an error."
   ],
   "id": "535e8df4cb78d272"
  },
  {
   "metadata": {
    "ExecuteTime": {
     "end_time": "2025-05-16T19:32:28.135013Z",
     "start_time": "2025-05-16T19:32:23.907020Z"
    }
   },
   "cell_type": "code",
   "source": [
    "contains_records = (order_df[['orderId', 'articleId', 'txId', 'price']]).rename(columns={'orderId':'start_node_id', 'articleId':'end_node_id'}).to_dict(orient=\"records\")\n",
    "graphrag.data.merge_relationships(rel_type='CONTAINS',\n",
    "                                  start_node_label='Order',\n",
    "                                  end_node_label='Article',\n",
    "                                  records=contains_records,\n",
    "                                  source_metadata={\"ingest_id\": ingest_id})"
   ],
   "id": "6515c7467516062f",
   "outputs": [],
   "execution_count": 13
  },
  {
   "metadata": {},
   "cell_type": "markdown",
   "source": [
    "### Text Embedding\n",
    "Graph-ND will automatically create text embeddings and vector indexes based of searchField properties in the graph schema.  This also enables the automatic creation of FullText fields though we don't show an example here.\n",
    "\n",
    "In the Below the Product node embeds the \"text\" field per the GraphSchema.  This merge will take a bit longer due to that embedding processed"
   ],
   "id": "278f50abed7f8684"
  },
  {
   "metadata": {
    "ExecuteTime": {
     "end_time": "2025-05-16T19:33:31.325235Z",
     "start_time": "2025-05-16T19:32:28.190079Z"
    }
   },
   "cell_type": "code",
   "source": [
    "product_df = pd.read_csv(os.path.join(data_dir, \"products.csv\"))\n",
    "product_df['text'] = (\"##Product \\n\"\n",
    "\"Name: \" + product_df['prodName'].fillna('') + \"\\n\"\n",
    "\"Type: \" + product_df['productTypeName'].fillna('') + \"\\n\"\n",
    "\"Category: \" + product_df['productGroupName'].fillna('') + \"\\n\"\n",
    "\"Description: \" + product_df['detailDesc'].fillna('')\n",
    ")\n",
    "product_df['url']= \"https://xyzbrands/product/\" + product_df['productCode'].astype(str)\n",
    "product_df.rename(columns={\"prodName\": \"name\", \"detailDesc\":\"description\"}, inplace=True)\n",
    "\n",
    "\n",
    "prod_records = product_df[[ \"productCode\", \"name\", \"description\", \"url\", \"text\"]].to_dict(orient=\"records\")\n",
    "\n",
    "print(\"This will take a minute or so because it is embedding the 'text' field.\")\n",
    "graphrag.data.merge_nodes(\"Product\", prod_records, source_metadata={\"ingest_id\": ingest_id})"
   ],
   "id": "da00f7a9403fe547",
   "outputs": [
    {
     "name": "stdout",
     "output_type": "stream",
     "text": [
      "This will take a minute or so because it is embedding the 'text' field.\n"
     ]
    }
   ],
   "execution_count": 14
  },
  {
   "metadata": {},
   "cell_type": "markdown",
   "source": [
    "### Merging the Other Nodes and Relationships\n",
    "The below demonstrates merging the rest of the structured data.  Note that no Cypher is required and it is order independent.  This allows you to focus on just creating the Node and relationship tables you want.  Graph-ND takes care of constraints, indexing, text embedding, etc."
   ],
   "id": "56f1a450b8ebb929"
  },
  {
   "metadata": {
    "ExecuteTime": {
     "end_time": "2025-05-16T19:33:33.455455Z",
     "start_time": "2025-05-16T19:33:31.359522Z"
    }
   },
   "cell_type": "code",
   "source": [
    "prod_cat_records = (product_df[['productCode', 'productGroupName']]\n",
    "                    .rename(columns={'productCode':'start_node_id', 'productGroupName':'end_node_id'})\n",
    "                    .to_dict(orient=\"records\"))\n",
    "\n",
    "graphrag.data.merge_relationships(rel_type='PART_OF',\n",
    "                                  start_node_label='Product',\n",
    "                                  end_node_label='ProductCategory',\n",
    "                                  records=prod_cat_records,\n",
    "                                  source_metadata={\"ingest_id\": ingest_id})"
   ],
   "id": "cef973d6baede6bd",
   "outputs": [],
   "execution_count": 15
  },
  {
   "metadata": {
    "ExecuteTime": {
     "end_time": "2025-05-16T19:33:35.506579Z",
     "start_time": "2025-05-16T19:33:33.492227Z"
    }
   },
   "cell_type": "code",
   "source": [
    "prod_type_records = (product_df[['productCode', 'productTypeName']]\n",
    "                    .rename(columns={'productCode':'start_node_id', 'productTypeName':'end_node_id'})\n",
    "                    .to_dict(orient=\"records\"))\n",
    "\n",
    "graphrag.data.merge_relationships(rel_type='PART_OF',\n",
    "                                  start_node_label='Product',\n",
    "                                  end_node_label='ProductType',\n",
    "                                  records=prod_type_records,\n",
    "                                  source_metadata={\"ingest_id\": ingest_id})"
   ],
   "id": "de5c005a5045a0aa",
   "outputs": [],
   "execution_count": 16
  },
  {
   "metadata": {
    "ExecuteTime": {
     "end_time": "2025-05-16T19:33:36.037804Z",
     "start_time": "2025-05-16T19:33:35.519268Z"
    }
   },
   "cell_type": "code",
   "source": [
    "customer_df = pd.read_csv(os.path.join(data_dir, \"customers.csv\"))\n",
    "records = customer_df[[ \"customerId\", \"postalCode\", \"age\", \"fashionNewsFrequency\", \"clubMemberStatus\"]].to_dict(orient=\"records\")\n",
    "\n",
    "graphrag.data.merge_nodes(\"Customer\", records, source_metadata={\"ingest_id\": ingest_id})"
   ],
   "id": "e7d79c1d255638af",
   "outputs": [],
   "execution_count": 17
  },
  {
   "metadata": {
    "ExecuteTime": {
     "end_time": "2025-05-16T19:33:38.557860Z",
     "start_time": "2025-05-16T19:33:36.041643Z"
    }
   },
   "cell_type": "code",
   "source": [
    "article_df = pd.read_csv(os.path.join(data_dir, \"articles.csv\"))\n",
    "\n",
    "article_records = article_df[[\"articleId\", \"colourGroupCode\", \"colourGroupName\", \"graphicalAppearanceName\", \"graphicalAppearanceNo\"]].to_dict(orient=\"records\")\n",
    "\n",
    "graphrag.data.merge_nodes(\"Article\", article_records, source_metadata={\"ingest_id\": ingest_id})\n"
   ],
   "id": "1cea10687c1c29dd",
   "outputs": [],
   "execution_count": 18
  },
  {
   "metadata": {
    "ExecuteTime": {
     "end_time": "2025-05-16T19:33:40.929369Z",
     "start_time": "2025-05-16T19:33:38.567524Z"
    }
   },
   "cell_type": "code",
   "source": [
    "variant_records = (article_df[['articleId', 'productCode']]\n",
    "                    .rename(columns={'articleId':'start_node_id', 'productCode':'end_node_id'})\n",
    "                    .to_dict(orient=\"records\"))\n",
    "\n",
    "graphrag.data.merge_relationships(rel_type='VARIANT_OF',\n",
    "                                  start_node_label='Article',\n",
    "                                  end_node_label='Product',\n",
    "                                  records=variant_records,\n",
    "                                  source_metadata={\"ingest_id\": ingest_id})"
   ],
   "id": "d0331e51ecba49a1",
   "outputs": [],
   "execution_count": 19
  },
  {
   "metadata": {
    "ExecuteTime": {
     "end_time": "2025-05-16T19:33:43.523939Z",
     "start_time": "2025-05-16T19:33:40.947821Z"
    }
   },
   "cell_type": "code",
   "source": [
    "supplied_by_records = (article_df[['articleId', 'supplierId']]\n",
    "                    .rename(columns={'articleId':'start_node_id', 'supplierId':'end_node_id'})\n",
    "                    .to_dict(orient=\"records\"))\n",
    "graphrag.data.merge_relationships(rel_type='SUPPLIED_BY',\n",
    "                                  start_node_label='Article',\n",
    "                                  end_node_label='Supplier',\n",
    "                                  records=supplied_by_records,\n",
    "                                  source_metadata={\"ingest_id\": ingest_id})"
   ],
   "id": "feb10adcb076539a",
   "outputs": [],
   "execution_count": 20
  },
  {
   "metadata": {
    "ExecuteTime": {
     "end_time": "2025-05-16T19:33:43.996876Z",
     "start_time": "2025-05-16T19:33:43.545656Z"
    }
   },
   "cell_type": "code",
   "source": [
    "supplier_df = pd.read_csv(os.path.join(data_dir, \"suppliers.csv\"))\n",
    "supplier_records = supplier_df.rename(columns={\"supplierName\": \"name\", \"supplierAddress\": \"address\"}).to_dict(orient=\"records\")\n",
    "graphrag.data.merge_nodes(\"Supplier\", supplier_records, source_metadata={\"ingest_id\": ingest_id})"
   ],
   "id": "dd084974fcb913ed",
   "outputs": [],
   "execution_count": 21
  },
  {
   "metadata": {},
   "cell_type": "markdown",
   "source": [
    "## Text Extraction From PDF\n",
    "We can Add schema subsets here for precision. The SubSchema has the following input options\n",
    "- nodes: Union[str, List[str]], optional\n",
    "    A node or list of node labels to include in the subset. If provided, the node schemas\n",
    "    corresponding to these nodes will be retrieved.\n",
    "- patterns: Union[Tuple[str, str, str], List[Tuple[str, str, str]]], optional\n",
    "    A pattern or list of patterns defining relationships to filter by. Each pattern is a\n",
    "    tuple containing:\n",
    "    - Start node label (str)\n",
    "    - Relationship type (str)\n",
    "    - End node label (str)\n",
    "    The relevant node schemas and relationship schemas will be included in the subset.\n",
    "- relationships: Union[str, List[str]], optional\n",
    "    A relationship type or list of relationship types to include in the subset.\n",
    "    All query patterns for the relationship type (and their start and end nodes) will be included in the subset.\n",
    "- description: str, optional\n",
    "    A custom description for the subsetted graph schema. Can be used to pass customized prompts/context for extraction.\n",
    "    If not provided, a default description may be generated based on the existing schema and provided subset criteria."
   ],
   "id": "268531cc274e0d73"
  },
  {
   "metadata": {
    "ExecuteTime": {
     "end_time": "2025-05-16T19:35:23.711257Z",
     "start_time": "2025-05-16T19:33:56.201357Z"
    }
   },
   "cell_type": "code",
   "source": [
    "from graph_nd import SubSchema\n",
    "\n",
    "graphrag.data.merge_pdf(os.path.join(data_dir, 'credit-notes.pdf'),\n",
    "                        nodes_only=False,\n",
    "                        sub_schema=SubSchema(\n",
    "                            patterns=[('CreditNote','REFUND_FOR_ORDER', 'Order'), ('CreditNote',\"REFUND_OF_ARTICLE\", 'Article')]\n",
    "                        ), chunk_size=4)"
   ],
   "id": "b6ff9374080426d9",
   "outputs": [
    {
     "name": "stdout",
     "output_type": "stream",
     "text": [
      "[Data] Merging data from document: /Users/zachblumenfeld/demo/graphrag-nd/examples/retail/data/credit-notes.pdf\n"
     ]
    },
    {
     "name": "stderr",
     "output_type": "stream",
     "text": [
      "Extracting entities from text: 100%|██████████| 77/77 [01:21<00:00,  1.06s/it]\n"
     ]
    },
    {
     "name": "stdout",
     "output_type": "stream",
     "text": [
      "Consolidating results...\n"
     ]
    },
    {
     "name": "stderr",
     "output_type": "stream",
     "text": [
      "Merging Nodes by Label: 100%|██████████| 3/3 [00:04<00:00,  1.53s/node]\n",
      "Merging Relationships by Type & Pattern: 100%|██████████| 2/2 [00:01<00:00,  1.90rel/s]\n"
     ]
    }
   ],
   "execution_count": 22
  },
  {
   "metadata": {},
   "cell_type": "markdown",
   "source": "## Test an Agent",
   "id": "ba79be6f05b515c1"
  },
  {
   "metadata": {
    "ExecuteTime": {
     "end_time": "2025-05-16T19:36:56.234569Z",
     "start_time": "2025-05-16T19:36:49.269630Z"
    }
   },
   "cell_type": "code",
   "source": "graphrag.agent(\"Which suppliers where responsible for the most refunds\")",
   "id": "54d065512fc81db0",
   "outputs": [
    {
     "name": "stdout",
     "output_type": "stream",
     "text": [
      "================================\u001B[1m Human Message \u001B[0m=================================\n",
      "\n",
      "Which suppliers where responsible for the most refunds\n",
      "==================================\u001B[1m Ai Message \u001B[0m==================================\n",
      "Tool Calls:\n",
      "  aggregate (call_SSsPnP5XkvaUhwzTX91lnclw)\n",
      " Call ID: call_SSsPnP5XkvaUhwzTX91lnclw\n",
      "  Args:\n",
      "    agg_instructions: Aggregate the number of refunds for each supplier by counting the number of CreditNote nodes connected to Article nodes, which are in turn connected to Supplier nodes. Return the suppliers with the highest number of refunds.\n",
      "Running Query:\n",
      "MATCH (cn:CreditNote)-[:REFUND_OF_ARTICLE]->(a:Article)-[:SUPPLIED_BY]->(s:Supplier)\n",
      "WITH s, count(cn) AS refundCount\n",
      "RETURN s.name AS supplierName, refundCount\n",
      "ORDER BY refundCount DESC\n",
      "=================================\u001B[1m Tool Message \u001B[0m=================================\n",
      "Name: aggregate\n",
      "\n",
      "[\n",
      "    {\n",
      "        \"supplierName\": \"1616 - Textile & Apparel Manufacturing\",\n",
      "        \"refundCount\": 45\n",
      "    },\n",
      "    {\n",
      "        \"supplierName\": \"1779 - Denim Textiles\",\n",
      "        \"refundCount\": 42\n",
      "    },\n",
      "    {\n",
      "        \"supplierName\": \"3708 - Textile & Apparel Manufacturing\",\n",
      "        \"refundCount\": 40\n",
      "    },\n",
      "    {\n",
      "        \"supplierName\": \"1643 - Textile & Apparel Manufacturing\",\n",
      "        \"refundCount\": 39\n",
      "    },\n",
      "    {\n",
      "        \"supplierName\": \"5832 - Jersey Mills\",\n",
      "        \"refundCount\": 26\n",
      "    },\n",
      "    {\n",
      "        \"supplierName\": \"1339 - Intimate Apparel Suppliers\",\n",
      "        \"refundCount\": 16\n",
      "    },\n",
      "    {\n",
      "        \"supplierName\": \"1422 - Textile & Apparel Manufacturing\",\n",
      "        \"refundCount\": 14\n",
      "    },\n",
      "    {\n",
      "        \"supplierName\": \"1778 - Textile & Apparel Manufacturing\",\n",
      "        \"refundCount\": 12\n",
      "    },\n",
      "    {\n",
      "        \"supplierName\": \"1201 - Outerwear Suppliers\",\n",
      "        \"refundCount\": 11\n",
      "    },\n",
      "    {\n",
      "        \"supplierName\": \"3936 - Textile & Apparel Manufacturing\",\n",
      "        \"refundCount\": 10\n",
      "    },\n",
      "    {\n",
      "        \"supplierName\": \"3610 - Sock & Hosiery Production\",\n",
      "        \"refundCount\": 10\n",
      "    },\n",
      "    {\n",
      "        \"supplierName\": \"1666 - Jersey Mills\",\n",
      "        \"refundCount\": 9\n",
      "    },\n",
      "    {\n",
      "        \"supplierName\": \"1772 - Denim Textiles\",\n",
      "        \"refundCount\": 9\n",
      "    },\n",
      "    {\n",
      "        \"supplierName\": \"5868 - Textile & Apparel Manufacturing\",\n",
      "        \"refundCount\": 6\n",
      "    },\n",
      "    {\n",
      "        \"supplierName\": \"2032 - Jersey Mills\",\n",
      "        \"refundCount\": 5\n",
      "    },\n",
      "    {\n",
      "        \"supplierName\": \"3932 - Textile & Apparel Manufacturing\",\n",
      "        \"refundCount\": 5\n",
      "    },\n",
      "    {\n",
      "        \"supplierName\": \"1773 - Denim Textiles\",\n",
      "        \"refundCount\": 4\n",
      "    },\n",
      "    {\n",
      "        \"supplierName\": \"1649 - Trousers & Slacks Mills\",\n",
      "        \"refundCount\": 4\n",
      "    }\n",
      "]\n",
      "==================================\u001B[1m Ai Message \u001B[0m==================================\n",
      "\n",
      "The suppliers responsible for the most refunds are:\n",
      "\n",
      "1. **1616 - Textile & Apparel Manufacturing** with 45 refunds.\n",
      "2. **1779 - Denim Textiles** with 42 refunds.\n",
      "3. **3708 - Textile & Apparel Manufacturing** with 40 refunds.\n",
      "4. **1643 - Textile & Apparel Manufacturing** with 39 refunds.\n",
      "5. **5832 - Jersey Mills** with 26 refunds. \n",
      "\n",
      "These suppliers have the highest number of refunds associated with them.\n"
     ]
    }
   ],
   "execution_count": 23
  },
  {
   "metadata": {},
   "cell_type": "markdown",
   "source": [
    "## Adding Custom Tools For Retrieval\n",
    "For our use case there may be some specific query templates and retrieval methodologies. We casn easily add these to our langgraph agent"
   ],
   "id": "ad15f7255f6452f2"
  },
  {
   "metadata": {
    "ExecuteTime": {
     "end_time": "2025-05-16T19:37:03.594115Z",
     "start_time": "2025-05-16T19:37:03.589113Z"
    }
   },
   "cell_type": "code",
   "source": [
    "from typing import List, Dict\n",
    "\n",
    "\n",
    "def get_product_recommendations(product_codes_or_article_ids: List[int]) -> List[Dict]:\n",
    "    \"\"\"\n",
    "    Retrieve product recommendations given a list of product codes or articles ids.\n",
    "    Please re-order or filter further based on additional context from user.\n",
    "    \"\"\"\n",
    "    res = db_client.execute_query(\"\"\"\n",
    "    //recommend from product codes\n",
    "    MATCH (interestedInProducts:Product)<-[:VARIANT_OF]-(interestedInArticles:Article)<-[:CONTAINS]-()<-[:ORDERED]\n",
    "    -(:Customer)-[:ORDERED]->()-[:CONTAINS]->(recArticle:Article)-[:VARIANT_OF]->(product:Product)\n",
    "    WHERE (interestedInArticles.articleId IN $itemIds)\n",
    "        OR (interestedInProducts.productCode IN $itemIds)\n",
    "    WITH count(recArticle) AS recommendationScore, product\n",
    "    RETURN product.productCode AS productCode,\n",
    "        product.text AS text,\n",
    "        product.url AS url\n",
    "    ORDER BY recommendationScore DESC LIMIT 20\n",
    "    \"\"\", itemIds=product_codes_or_article_ids, result_transformer_ = lambda r: r.data())\n",
    "    return res\n",
    "\n",
    "\n",
    "def get_product_order_supplier_info(product_codes: List[int]) -> List[Dict]:\n",
    "    \"\"\"\n",
    "    Given a list of product codes, gets statistics for total orders and refunds as well as by supplier for each product.\n",
    "    \"\"\"\n",
    "    res = db_client.execute_query(\"\"\"\n",
    "    MATCH(p:Product)<-[:VARIANT_OF]-(a:Article)-[:SUPPLIED_BY]->(s)\n",
    "    WHERE p.productCode IN $productCodes\n",
    "    WITH *,\n",
    "      COUNT {MATCH (:Order)-[:CONTAINS]->(a)} AS numberOfOrders,\n",
    "      COUNT {MATCH (:CreditNote)-[:REFUND_OF_ARTICLE]-(a)} AS numberOfRefunds\n",
    "    RETURN p.productCode AS productCode,\n",
    "      sum(numberOfOrders) AS totalOrders,\n",
    "      sum(numberOfRefunds) AS totalReturns,\n",
    "      collect({supplierId:s.supplierId, name:s.name, numberOfOrders:numberOfOrders, numberOfRefunds:numberOfRefunds}) AS supplierInfos\n",
    "    \"\"\", productCodes=product_codes, result_transformer_ = lambda r: r.data())\n",
    "    return res\n",
    "\n",
    "def get_supplier_order_product_info(supplier_ids: List[int]) -> List[Dict]:\n",
    "    \"\"\"\n",
    "    Given a list of supplier ids, gets statistics for the total orders and refunds as well by product delivered for each supplier.\n",
    "    \"\"\"\n",
    "    res = db_client.execute_query(\"\"\"\n",
    "    MATCH(p:Product)<-[:VARIANT_OF]-(:Article)-[:SUPPLIED_BY]->(s)\n",
    "    WHERE s.supplierId IN $supplierIds\n",
    "    WITH DISTINCT p, s,\n",
    "      COUNT {MATCH (:Order)-[:CONTAINS]->()-[:VARIANT_OF]->(p)} AS numberOfOrders,\n",
    "      COUNT {MATCH (:CreditNote)-[:REFUND_OF_ARTICLE]-()-[:VARIANT_OF]->(p)} AS numberOfRefunds\n",
    "    RETURN s.supplierId AS supplierId,\n",
    "      sum(numberOfOrders) AS totalOrders,\n",
    "      sum(numberOfRefunds) AS totalReturns,\n",
    "      collect({productCode:p.productCode, name:s.name, numberOfOrders:numberOfOrders, numberOfRefunds:numberOfRefunds}) AS supplierInfos\n",
    "    \"\"\", supplierIds=supplier_ids, result_transformer_ = lambda r: r.data())\n",
    "    return res"
   ],
   "id": "2a8edb02ac1f9556",
   "outputs": [],
   "execution_count": 24
  },
  {
   "metadata": {
    "ExecuteTime": {
     "end_time": "2025-05-16T19:37:07.625386Z",
     "start_time": "2025-05-16T19:37:07.594796Z"
    }
   },
   "cell_type": "code",
   "source": [
    "agent = graphrag.create_react_agent(tools=[get_product_recommendations,\n",
    "                                           get_product_order_supplier_info,\n",
    "                                           get_supplier_order_product_info])"
   ],
   "id": "6e8dc5393edcee49",
   "outputs": [],
   "execution_count": 25
  },
  {
   "metadata": {},
   "cell_type": "markdown",
   "source": "Now let's create a helper function to test out with multi-hop questions",
   "id": "5e81c3c2a8104f6d"
  },
  {
   "metadata": {
    "ExecuteTime": {
     "end_time": "2025-05-16T19:37:10.271338Z",
     "start_time": "2025-05-16T19:37:10.268203Z"
    }
   },
   "cell_type": "code",
   "source": [
    "from langchain_core.messages import HumanMessage\n",
    "\n",
    "# use just like any other langgraph agent...we are going to make a wrapper function for convenience\n",
    "config = {\"configurable\": {\"thread_id\": \"thread-1\"}}\n",
    "\n",
    "def agent_stream(question, history=None):\n",
    "    if history is None:\n",
    "        history = list()\n",
    "    for step in agent.stream(\n",
    "        {\"messages\": history + [HumanMessage(content=question)]},\n",
    "        stream_mode=\"values\", config=config\n",
    "    ):\n",
    "        history.append(step[\"messages\"][-1])\n",
    "        step[\"messages\"][-1].pretty_print()\n",
    "    return history\n"
   ],
   "id": "fc825d614ce138b3",
   "outputs": [],
   "execution_count": 26
  },
  {
   "metadata": {
    "ExecuteTime": {
     "end_time": "2025-05-16T19:37:21.485238Z",
     "start_time": "2025-05-16T19:37:14.730728Z"
    }
   },
   "cell_type": "code",
   "source": "history = agent_stream(\"What are some good sweaters for spring? Nothing too warm please!\")",
   "id": "888fb9e7a06e425f",
   "outputs": [
    {
     "name": "stdout",
     "output_type": "stream",
     "text": [
      "================================\u001B[1m Human Message \u001B[0m=================================\n",
      "\n",
      "What are some good sweaters for spring? Nothing too warm please!\n",
      "==================================\u001B[1m Ai Message \u001B[0m==================================\n",
      "Tool Calls:\n",
      "  node_search (call_ecWokChSqLhDPRvL900lvJQ7)\n",
      " Call ID: call_ecWokChSqLhDPRvL900lvJQ7\n",
      "  Args:\n",
      "    search_config: {'search_type': 'SEMANTIC', 'node_label': 'Product', 'search_prop': 'text'}\n",
      "    search_query: light spring sweater\n",
      "=================================\u001B[1m Tool Message \u001B[0m=================================\n",
      "Name: node_search\n",
      "\n",
      "[\n",
      "    {\n",
      "        \"productCode\": 921906,\n",
      "        \"text\": \"##Product \\nName: Spring\\nType: Dress\\nCategory: Garment Full body\\nDescription: Calf-length dress in an airy viscose weave with a collar, concealed buttons at the top and long raglan sleeves with buttoned cuffs. Relaxed fit with a gathered seam at the hips and above the hem. Unlined.\",\n",
      "        \"description\": \"Calf-length dress in an airy viscose weave with a collar, concealed buttons at the top and long raglan sleeves with buttoned cuffs. Relaxed fit with a gathered seam at the hips and above the hem. Unlined.\",\n",
      "        \"name\": \"Spring\",\n",
      "        \"url\": \"https://xyzbrands/product/921906\",\n",
      "        \"search_score\": 0.929107666015625\n",
      "    },\n",
      "    {\n",
      "        \"productCode\": 838787,\n",
      "        \"text\": \"##Product \\nName: Spring\\nType: Dress\\nCategory: Garment Full body\\nDescription: Calf-length dress in an airy viscose weave with a collar, concealed buttons at the top and long raglan sleeves with buttoned cuffs. Relaxed fit with a gathered seam at the hips and hem. Unlined.\",\n",
      "        \"description\": \"Calf-length dress in an airy viscose weave with a collar, concealed buttons at the top and long raglan sleeves with buttoned cuffs. Relaxed fit with a gathered seam at the hips and hem. Unlined.\",\n",
      "        \"name\": \"Spring\",\n",
      "        \"url\": \"https://xyzbrands/product/838787\",\n",
      "        \"search_score\": 0.9289093017578125\n",
      "    },\n",
      "    {\n",
      "        \"productCode\": 358483,\n",
      "        \"text\": \"##Product \\nName: Stressan light knit jumper\\nType: Sweater\\nCategory: Garment Upper body\\nDescription: Jumper in a light, fine, soft knit with long sleeves, raw edges and a rounded hem. Slightly longer at the back.\",\n",
      "        \"description\": \"Jumper in a light, fine, soft knit with long sleeves, raw edges and a rounded hem. Slightly longer at the back.\",\n",
      "        \"name\": \"Stressan light knit jumper\",\n",
      "        \"url\": \"https://xyzbrands/product/358483\",\n",
      "        \"search_score\": 0.9243011474609375\n",
      "    },\n",
      "    {\n",
      "        \"productCode\": 531615,\n",
      "        \"text\": \"##Product \\nName: Lassy Linnen LS\\nType: Sweater\\nCategory: Garment Upper body\\nDescription: Long-sleeved top in airy linen jersey.\",\n",
      "        \"description\": \"Long-sleeved top in airy linen jersey.\",\n",
      "        \"name\": \"Lassy Linnen LS\",\n",
      "        \"url\": \"https://xyzbrands/product/531615\",\n",
      "        \"search_score\": 0.9215545654296875\n",
      "    },\n",
      "    {\n",
      "        \"productCode\": 687335,\n",
      "        \"text\": \"##Product \\nName: Nice LS\\nType: Sweater\\nCategory: Garment Upper body\\nDescription: Jumper in a soft rib knit with a small stand-up collar and cut-out section at the front. Long sleeves with wrapover sections on the shoulders.\",\n",
      "        \"description\": \"Jumper in a soft rib knit with a small stand-up collar and cut-out section at the front. Long sleeves with wrapover sections on the shoulders.\",\n",
      "        \"name\": \"Nice LS\",\n",
      "        \"url\": \"https://xyzbrands/product/687335\",\n",
      "        \"search_score\": 0.9215240478515625\n",
      "    },\n",
      "    {\n",
      "        \"productCode\": 674250,\n",
      "        \"text\": \"##Product \\nName: William L/S top\\nType: Sweater\\nCategory: Garment Upper body\\nDescription: Top in airy, nepped jersey with a round neck, long sleeves and a lace-trimmed hem.\",\n",
      "        \"description\": \"Top in airy, nepped jersey with a round neck, long sleeves and a lace-trimmed hem.\",\n",
      "        \"name\": \"William L/S top\",\n",
      "        \"url\": \"https://xyzbrands/product/674250\",\n",
      "        \"search_score\": 0.9213104248046875\n",
      "    },\n",
      "    {\n",
      "        \"productCode\": 244267,\n",
      "        \"text\": \"##Product \\nName: Silver lake\\nType: Sweater\\nCategory: Garment Upper body\\nDescription: Purl-knit jumper in a cotton blend with a slightly wider neckline and 3/4-length sleeves.\",\n",
      "        \"description\": \"Purl-knit jumper in a cotton blend with a slightly wider neckline and 3/4-length sleeves.\",\n",
      "        \"name\": \"Silver lake\",\n",
      "        \"url\": \"https://xyzbrands/product/244267\",\n",
      "        \"search_score\": 0.92071533203125\n",
      "    },\n",
      "    {\n",
      "        \"productCode\": 779863,\n",
      "        \"text\": \"##Product \\nName: FF Sunflower knit\\nType: Sweater\\nCategory: Garment Upper body\\nDescription: Slightly longer jumper in a soft rib knit containing some wool with a high collar, zip at the top, low dropped shoulders, long sleeves and ribbing at the cuffs and hem. The polyester content of the top is recycled.\",\n",
      "        \"description\": \"Slightly longer jumper in a soft rib knit containing some wool with a high collar, zip at the top, low dropped shoulders, long sleeves and ribbing at the cuffs and hem. The polyester content of the top is recycled.\",\n",
      "        \"name\": \"FF Sunflower knit\",\n",
      "        \"url\": \"https://xyzbrands/product/779863\",\n",
      "        \"search_score\": 0.9202728271484375\n",
      "    },\n",
      "    {\n",
      "        \"productCode\": 696478,\n",
      "        \"text\": \"##Product \\nName: Elly L/S jumper\\nType: Sweater\\nCategory: Garment Upper body\\nDescription: Long sleeved jersey top with elastication and a frill at the cuffs.\",\n",
      "        \"description\": \"Long sleeved jersey top with elastication and a frill at the cuffs.\",\n",
      "        \"name\": \"Elly L/S jumper\",\n",
      "        \"url\": \"https://xyzbrands/product/696478\",\n",
      "        \"search_score\": 0.9201812744140625\n",
      "    },\n",
      "    {\n",
      "        \"productCode\": 589372,\n",
      "        \"text\": \"##Product \\nName: Lucille lace sweater\\nType: Sweater\\nCategory: Garment Upper body\\nDescription: Short, slightly wider jumper in a soft, cable knit with a lace trim at the hem. Dropped shoulders, long sleeves and ribbing around the neckline, cuffs and hem.\",\n",
      "        \"description\": \"Short, slightly wider jumper in a soft, cable knit with a lace trim at the hem. Dropped shoulders, long sleeves and ribbing around the neckline, cuffs and hem.\",\n",
      "        \"name\": \"Lucille lace sweater\",\n",
      "        \"url\": \"https://xyzbrands/product/589372\",\n",
      "        \"search_score\": 0.9201812744140625\n",
      "    }\n",
      "]\n",
      "==================================\u001B[1m Ai Message \u001B[0m==================================\n",
      "\n",
      "Here are some light sweaters that would be perfect for spring:\n",
      "\n",
      "1. **Stressan Light Knit Jumper**\n",
      "   - Description: Jumper in a light, fine, soft knit with long sleeves, raw edges, and a rounded hem. Slightly longer at the back.\n",
      "   - [View Product](https://xyzbrands/product/358483)\n",
      "\n",
      "2. **Lassy Linnen LS**\n",
      "   - Description: Long-sleeved top in airy linen jersey.\n",
      "   - [View Product](https://xyzbrands/product/531615)\n",
      "\n",
      "3. **Nice LS**\n",
      "   - Description: Jumper in a soft rib knit with a small stand-up collar and cut-out section at the front. Long sleeves with wrapover sections on the shoulders.\n",
      "   - [View Product](https://xyzbrands/product/687335)\n",
      "\n",
      "4. **William L/S Top**\n",
      "   - Description: Top in airy, nepped jersey with a round neck, long sleeves, and a lace-trimmed hem.\n",
      "   - [View Product](https://xyzbrands/product/674250)\n",
      "\n",
      "5. **Silver Lake**\n",
      "   - Description: Purl-knit jumper in a cotton blend with a slightly wider neckline and 3/4-length sleeves.\n",
      "   - [View Product](https://xyzbrands/product/244267)\n",
      "\n",
      "These options should keep you comfortable without being too warm for the spring season!\n"
     ]
    }
   ],
   "execution_count": 27
  },
  {
   "metadata": {
    "ExecuteTime": {
     "end_time": "2025-05-16T19:37:52.995643Z",
     "start_time": "2025-05-16T19:37:45.902728Z"
    }
   },
   "cell_type": "code",
   "source": "history = agent_stream(\"What else can you recommend to go with that?\", history)",
   "id": "81f76530ee6d959c",
   "outputs": [
    {
     "name": "stdout",
     "output_type": "stream",
     "text": [
      "================================\u001B[1m Human Message \u001B[0m=================================\n",
      "\n",
      "What else can you recommend to go with that?\n",
      "==================================\u001B[1m Ai Message \u001B[0m==================================\n",
      "Tool Calls:\n",
      "  get_product_recommendations (call_XP2kvq6mytoaMfLwJCIi9cLt)\n",
      " Call ID: call_XP2kvq6mytoaMfLwJCIi9cLt\n",
      "  Args:\n",
      "    product_codes_or_article_ids: [358483, 531615, 687335, 674250, 244267]\n",
      "=================================\u001B[1m Tool Message \u001B[0m=================================\n",
      "Name: get_product_recommendations\n",
      "\n",
      "[{\"productCode\": 687016, \"text\": \"##Product \\nName: DORIS CREW\\nType: Sweater\\nCategory: Garment Upper body\\nDescription: Top in sweatshirt fabric with a motif on the front and ribbing around the neckline, cuffs and hem. Soft brushed inside.\", \"url\": \"https://xyzbrands/product/687016\"}, {\"productCode\": 108775, \"text\": \"##Product \\nName: Strap top\\nType: Vest top\\nCategory: Garment Upper body\\nDescription: Jersey top with narrow shoulder straps.\", \"url\": \"https://xyzbrands/product/108775\"}, {\"productCode\": 737040, \"text\": \"##Product \\nName: SIGNE BOAT NECK\\nType: Sweater\\nCategory: Garment Upper body\\nDescription: Straight-cut top in sturdy cotton jersey with a boat neck, 3/4-length sleeves and rounded hem.\", \"url\": \"https://xyzbrands/product/737040\"}, {\"productCode\": 781833, \"text\": \"##Product \\nName: Chicago dress\\nType: Dress\\nCategory: Garment Full body\\nDescription: Short dress in a crêpe weave with a round neckline and an opening with a button at the back of the neck. Concealed zip in one side, long sleeves with narrow elastication and a frill trim at the cuffs, a seam at the waist and a bell-shaped skirt. Unlined.\", \"url\": \"https://xyzbrands/product/781833\"}, {\"productCode\": 724904, \"text\": \"##Product \\nName: Girlfriend R.W Trash\\nType: Trousers\\nCategory: Garment Lower body\\nDescription: 5-pocket, ankle-length jeans in washed denim with hard-worn details in a slightly looser fit. Regular waist, zip fly and button, slightly lower crotch and tapered legs with raw-edge hems.\", \"url\": \"https://xyzbrands/product/724904\"}, {\"productCode\": 717490, \"text\": \"##Product \\nName: Cat Tee.\\nType: T-shirt\\nCategory: Garment Upper body\\nDescription: T-shirt in soft jersey.\", \"url\": \"https://xyzbrands/product/717490\"}, {\"productCode\": 859105, \"text\": \"##Product \\nName: Lemon HW\\nType: Shorts\\nCategory: Garment Lower body\\nDescription: Shorts in cotton twill. High, frill-trimmed paper bag waist with elastication, and a zip fly with buttons. Side pockets and wide legs with sewn-in turn-ups.\", \"url\": \"https://xyzbrands/product/859105\"}, {\"productCode\": 799410, \"text\": \"##Product \\nName: Kanye Vest Mid Brief\\nType: Swimwear bottom\\nCategory: Swimwear\\nDescription: Fully lined bikini bottoms with a mid waist, textured plastic rings at the sides and medium coverage at the back.\", \"url\": \"https://xyzbrands/product/799410\"}, {\"productCode\": 677999, \"text\": \"##Product \\nName: Skinny H.W Ankle\\nType: Trousers\\nCategory: Garment Lower body\\nDescription: 5-pocket, ankle-length, high-waisted jeans in washed stretch denim with hard-worn details, a zip fly and button and skinny legs with raw-edge, frayed hems.\", \"url\": \"https://xyzbrands/product/677999\"}, {\"productCode\": 766435, \"text\": \"##Product \\nName: Dorothy\\nType: Dress\\nCategory: Garment Full body\\nDescription: Long dress in a crêpe weave with a V-neck front and back and short butterfly sleeves. Elasticated seam with a drawstring at the waist. Lined.\", \"url\": \"https://xyzbrands/product/766435\"}, {\"productCode\": 710108, \"text\": \"##Product \\nName: Cia\\nType: Dress\\nCategory: Garment Full body\\nDescription: Maxi dress in softly draping satin in a narrow cut at the top with a V-shaped opening at the neckline and an elasticated drawstring waist. Lined bodice.\", \"url\": \"https://xyzbrands/product/710108\"}, {\"productCode\": 743644, \"text\": \"##Product \\nName: KIND DRESS\\nType: Dress\\nCategory: Garment Full body\\nDescription: Short dress in slub cotton jersey with a slightly wider neckline, short, frill-trimmed dolman sleeves and an elasticated seam at the waist.\", \"url\": \"https://xyzbrands/product/743644\"}, {\"productCode\": 743803, \"text\": \"##Product \\nName: One dance\\nType: Dress\\nCategory: Garment Full body\\nDescription: Maxi dress in an airy weave with braided details, a double layer at the top and a seam at the waist. Partly lined.\", \"url\": \"https://xyzbrands/product/743803\"}, {\"productCode\": 619884, \"text\": \"##Product \\nName: Vovve shorts\\nType: Shorts\\nCategory: Garment Lower body\\nDescription: Wide, high-waisted shorts in woven fabric with a sewn-in tie belt and pleats at the top. Fly with a concealed zip, side pockets and fake welt back pockets.\", \"url\": \"https://xyzbrands/product/619884\"}, {\"productCode\": 763280, \"text\": \"##Product \\nName: Peg\\nType: Sweater\\nCategory: Garment Upper body\\nDescription: Shorter jumper in a soft, fine knit with a ribbed turtle neck, long dolman sleeves, and ribbing at the cuffs and hem.\", \"url\": \"https://xyzbrands/product/763280\"}, {\"productCode\": 713756, \"text\": \"##Product \\nName: Classic quilted dog coat OL\\nType: Other accessories\\nCategory: Accessories\\nDescription: Quilted jacket designed for a small dog. Woven fabric with a soft faux fur collar, hook and loop fastening at the neck and a hook and loop fastening with a reflective detail underneath. Fleece lining.\", \"url\": \"https://xyzbrands/product/713756\"}, {\"productCode\": 799409, \"text\": \"##Product \\nName: Kanye Vest Top\\nType: Bikini top\\nCategory: Swimwear\\nDescription: Lined, non-wired bikini top with wide shoulder straps and a textured plastic ring at the front. Padded cups with removable inserts that shape the bust and provide good support, and a metal fastener at the back.\", \"url\": \"https://xyzbrands/product/799409\"}, {\"productCode\": 656719, \"text\": \"##Product \\nName: Serpente HW slim trouser\\nType: Trousers\\nCategory: Garment Lower body\\nDescription: Tailored trousers in a stretch weave with two press-studs at the waist and a zip fly. Zipped front pockets, fake welt back pockets and slim, straight legs.\", \"url\": \"https://xyzbrands/product/656719\"}, {\"productCode\": 637566, \"text\": \"##Product \\nName: Tulip\\nType: Dress\\nCategory: Garment Full body\\nDescription: Knee-length dress in airy chiffon with a V-neck, details on the shoulders and short cap sleeves. Buttons down the front, elastication at the back of the waist, and a sewn-on tie belt. Satin lining.\", \"url\": \"https://xyzbrands/product/637566\"}, {\"productCode\": 608013, \"text\": \"##Product \\nName: Moto ISW19\\nType: Dress\\nCategory: Garment Full body\\nDescription: Long bandeau dress in an airy weave with draping and a silicone trim at the top and support panels in the bodice. Detachable, adjustable shoulder straps and a concealed zip at the back. Lined.\", \"url\": \"https://xyzbrands/product/608013\"}]\n",
      "==================================\u001B[1m Ai Message \u001B[0m==================================\n",
      "\n",
      "Here are some additional recommendations to complement your spring sweaters:\n",
      "\n",
      "1. **DORIS CREW**\n",
      "   - Description: Top in sweatshirt fabric with a motif on the front and ribbing around the neckline, cuffs, and hem. Soft brushed inside.\n",
      "   - [View Product](https://xyzbrands/product/687016)\n",
      "\n",
      "2. **Strap Top**\n",
      "   - Description: Jersey top with narrow shoulder straps.\n",
      "   - [View Product](https://xyzbrands/product/108775)\n",
      "\n",
      "3. **SIGNE BOAT NECK**\n",
      "   - Description: Straight-cut top in sturdy cotton jersey with a boat neck, 3/4-length sleeves, and rounded hem.\n",
      "   - [View Product](https://xyzbrands/product/737040)\n",
      "\n",
      "4. **Chicago Dress**\n",
      "   - Description: Short dress in a crêpe weave with a round neckline and an opening with a button at the back of the neck. Concealed zip in one side, long sleeves with narrow elastication and a frill trim at the cuffs, a seam at the waist, and a bell-shaped skirt. Unlined.\n",
      "   - [View Product](https://xyzbrands/product/781833)\n",
      "\n",
      "5. **Girlfriend R.W Trash**\n",
      "   - Description: 5-pocket, ankle-length jeans in washed denim with hard-worn details in a slightly looser fit. Regular waist, zip fly and button, slightly lower crotch, and tapered legs with raw-edge hems.\n",
      "   - [View Product](https://xyzbrands/product/724904)\n",
      "\n",
      "These items should pair nicely with your spring sweaters, offering a variety of styles and options for different occasions!\n"
     ]
    }
   ],
   "execution_count": 28
  },
  {
   "metadata": {
    "ExecuteTime": {
     "end_time": "2025-05-16T19:38:06.331284Z",
     "start_time": "2025-05-16T19:38:01.032706Z"
    }
   },
   "cell_type": "code",
   "source": "history2 = agent_stream(\"Which suppliers have the highest number of returns (i.,e, credit notes)?\")",
   "id": "e7dcb2e2fdbc8d36",
   "outputs": [
    {
     "name": "stdout",
     "output_type": "stream",
     "text": [
      "================================\u001B[1m Human Message \u001B[0m=================================\n",
      "\n",
      "Which suppliers have the highest number of returns (i.,e, credit notes)?\n",
      "==================================\u001B[1m Ai Message \u001B[0m==================================\n",
      "Tool Calls:\n",
      "  aggregate (call_xlJI4pwnlVepJlRfoZ4lNhFq)\n",
      " Call ID: call_xlJI4pwnlVepJlRfoZ4lNhFq\n",
      "  Args:\n",
      "    agg_instructions: Aggregate the total number of credit notes (returns) for each supplier and return the suppliers with the highest number of returns.\n",
      "Running Query:\n",
      "MATCH (cn:CreditNote)-[:REFUND_OF_ARTICLE]->(a:Article)-[:SUPPLIED_BY]->(s:Supplier)\n",
      "RETURN s.name AS supplierName, COUNT(cn) AS totalReturns\n",
      "ORDER BY totalReturns DESC\n",
      "=================================\u001B[1m Tool Message \u001B[0m=================================\n",
      "Name: aggregate\n",
      "\n",
      "[\n",
      "    {\n",
      "        \"supplierName\": \"1616 - Textile & Apparel Manufacturing\",\n",
      "        \"totalReturns\": 45\n",
      "    },\n",
      "    {\n",
      "        \"supplierName\": \"1779 - Denim Textiles\",\n",
      "        \"totalReturns\": 42\n",
      "    },\n",
      "    {\n",
      "        \"supplierName\": \"3708 - Textile & Apparel Manufacturing\",\n",
      "        \"totalReturns\": 40\n",
      "    },\n",
      "    {\n",
      "        \"supplierName\": \"1643 - Textile & Apparel Manufacturing\",\n",
      "        \"totalReturns\": 39\n",
      "    },\n",
      "    {\n",
      "        \"supplierName\": \"5832 - Jersey Mills\",\n",
      "        \"totalReturns\": 26\n",
      "    },\n",
      "    {\n",
      "        \"supplierName\": \"1339 - Intimate Apparel Suppliers\",\n",
      "        \"totalReturns\": 16\n",
      "    },\n",
      "    {\n",
      "        \"supplierName\": \"1422 - Textile & Apparel Manufacturing\",\n",
      "        \"totalReturns\": 14\n",
      "    },\n",
      "    {\n",
      "        \"supplierName\": \"1778 - Textile & Apparel Manufacturing\",\n",
      "        \"totalReturns\": 12\n",
      "    },\n",
      "    {\n",
      "        \"supplierName\": \"1201 - Outerwear Suppliers\",\n",
      "        \"totalReturns\": 11\n",
      "    },\n",
      "    {\n",
      "        \"supplierName\": \"3936 - Textile & Apparel Manufacturing\",\n",
      "        \"totalReturns\": 10\n",
      "    },\n",
      "    {\n",
      "        \"supplierName\": \"3610 - Sock & Hosiery Production\",\n",
      "        \"totalReturns\": 10\n",
      "    },\n",
      "    {\n",
      "        \"supplierName\": \"1666 - Jersey Mills\",\n",
      "        \"totalReturns\": 9\n",
      "    },\n",
      "    {\n",
      "        \"supplierName\": \"1772 - Denim Textiles\",\n",
      "        \"totalReturns\": 9\n",
      "    },\n",
      "    {\n",
      "        \"supplierName\": \"5868 - Textile & Apparel Manufacturing\",\n",
      "        \"totalReturns\": 6\n",
      "    },\n",
      "    {\n",
      "        \"supplierName\": \"2032 - Jersey Mills\",\n",
      "        \"totalReturns\": 5\n",
      "    },\n",
      "    {\n",
      "        \"supplierName\": \"3932 - Textile & Apparel Manufacturing\",\n",
      "        \"totalReturns\": 5\n",
      "    },\n",
      "    {\n",
      "        \"supplierName\": \"1773 - Denim Textiles\",\n",
      "        \"totalReturns\": 4\n",
      "    },\n",
      "    {\n",
      "        \"supplierName\": \"1649 - Trousers & Slacks Mills\",\n",
      "        \"totalReturns\": 4\n",
      "    }\n",
      "]\n",
      "==================================\u001B[1m Ai Message \u001B[0m==================================\n",
      "\n",
      "The suppliers with the highest number of returns (credit notes) are:\n",
      "\n",
      "1. **1616 - Textile & Apparel Manufacturing**: 45 returns\n",
      "2. **1779 - Denim Textiles**: 42 returns\n",
      "3. **3708 - Textile & Apparel Manufacturing**: 40 returns\n",
      "4. **1643 - Textile & Apparel Manufacturing**: 39 returns\n",
      "5. **5832 - Jersey Mills**: 26 returns\n",
      "\n",
      "These suppliers have the most credit notes issued for returns.\n"
     ]
    }
   ],
   "execution_count": 29
  },
  {
   "metadata": {
    "ExecuteTime": {
     "end_time": "2025-05-16T19:38:52.943814Z",
     "start_time": "2025-05-16T19:38:40.005900Z"
    }
   },
   "cell_type": "code",
   "source": "history3 = agent_stream(\"What are the top 3 most returned products for supplier 1616? Get those product codes and find other suppliers who have less returns for each product I can use instead.\")",
   "id": "c0f9df7ed1961f6c",
   "outputs": [
    {
     "name": "stdout",
     "output_type": "stream",
     "text": [
      "================================\u001B[1m Human Message \u001B[0m=================================\n",
      "\n",
      "What are the top 3 most returned products for supplier 1616? Get those product codes and find other suppliers who have less returns for each product I can use instead.\n",
      "==================================\u001B[1m Ai Message \u001B[0m==================================\n",
      "Tool Calls:\n",
      "  aggregate (call_TdZq0SrbdfjRJ3vPb2TaVyaB)\n",
      " Call ID: call_TdZq0SrbdfjRJ3vPb2TaVyaB\n",
      "  Args:\n",
      "    agg_instructions: Find the top 3 most returned products for supplier 1616 by counting the number of refunds associated with each product supplied by this supplier. Return the product codes and the count of returns for each.\n",
      "Running Query:\n",
      "MATCH (s:Supplier {supplierId: 1616})<-[:SUPPLIED_BY]-(a:Article)<-[:REFUND_OF_ARTICLE]-(c:CreditNote)\n",
      "MATCH (a)-[:VARIANT_OF]->(p:Product)\n",
      "RETURN p.productCode AS productCode, COUNT(c) AS returnCount\n",
      "ORDER BY returnCount DESC\n",
      "LIMIT 3\n",
      "=================================\u001B[1m Tool Message \u001B[0m=================================\n",
      "Name: aggregate\n",
      "\n",
      "[\n",
      "    {\n",
      "        \"productCode\": 673677,\n",
      "        \"returnCount\": 30\n",
      "    },\n",
      "    {\n",
      "        \"productCode\": 748269,\n",
      "        \"returnCount\": 11\n",
      "    },\n",
      "    {\n",
      "        \"productCode\": 802023,\n",
      "        \"returnCount\": 4\n",
      "    }\n",
      "]\n",
      "==================================\u001B[1m Ai Message \u001B[0m==================================\n",
      "Tool Calls:\n",
      "  get_product_order_supplier_info (call_H4JGysV1P3va9Sqy9zCv9eFe)\n",
      " Call ID: call_H4JGysV1P3va9Sqy9zCv9eFe\n",
      "  Args:\n",
      "    product_codes: [673677, 748269, 802023]\n",
      "=================================\u001B[1m Tool Message \u001B[0m=================================\n",
      "Name: get_product_order_supplier_info\n",
      "\n",
      "[{\"productCode\": 673677, \"totalOrders\": 35, \"totalReturns\": 30, \"supplierInfos\": [{\"supplierId\": 1616, \"name\": \"1616 - Textile & Apparel Manufacturing\", \"numberOfRefunds\": 15, \"numberOfOrders\": 15}, {\"supplierId\": 1646, \"name\": \"1646 - Textile & Apparel Manufacturing\", \"numberOfRefunds\": 0, \"numberOfOrders\": 5}, {\"supplierId\": 1616, \"name\": \"1616 - Textile & Apparel Manufacturing\", \"numberOfRefunds\": 2, \"numberOfOrders\": 2}, {\"supplierId\": 1616, \"name\": \"1616 - Textile & Apparel Manufacturing\", \"numberOfRefunds\": 4, \"numberOfOrders\": 4}, {\"supplierId\": 1616, \"name\": \"1616 - Textile & Apparel Manufacturing\", \"numberOfRefunds\": 3, \"numberOfOrders\": 3}, {\"supplierId\": 1616, \"name\": \"1616 - Textile & Apparel Manufacturing\", \"numberOfRefunds\": 3, \"numberOfOrders\": 3}, {\"supplierId\": 1616, \"name\": \"1616 - Textile & Apparel Manufacturing\", \"numberOfRefunds\": 3, \"numberOfOrders\": 3}]}, {\"productCode\": 748269, \"totalOrders\": 13, \"totalReturns\": 11, \"supplierInfos\": [{\"supplierId\": 1616, \"name\": \"1616 - Textile & Apparel Manufacturing\", \"numberOfRefunds\": 4, \"numberOfOrders\": 4}, {\"supplierId\": 1616, \"name\": \"1616 - Textile & Apparel Manufacturing\", \"numberOfRefunds\": 5, \"numberOfOrders\": 5}, {\"supplierId\": 3708, \"name\": \"3708 - Textile & Apparel Manufacturing\", \"numberOfRefunds\": 0, \"numberOfOrders\": 2}, {\"supplierId\": 1616, \"name\": \"1616 - Textile & Apparel Manufacturing\", \"numberOfRefunds\": 1, \"numberOfOrders\": 1}, {\"supplierId\": 1616, \"name\": \"1616 - Textile & Apparel Manufacturing\", \"numberOfRefunds\": 1, \"numberOfOrders\": 1}]}, {\"productCode\": 802023, \"totalOrders\": 8, \"totalReturns\": 4, \"supplierInfos\": [{\"supplierId\": 3708, \"name\": \"3708 - Textile & Apparel Manufacturing\", \"numberOfRefunds\": 0, \"numberOfOrders\": 1}, {\"supplierId\": 3708, \"name\": \"3708 - Textile & Apparel Manufacturing\", \"numberOfRefunds\": 0, \"numberOfOrders\": 1}, {\"supplierId\": 1616, \"name\": \"1616 - Textile & Apparel Manufacturing\", \"numberOfRefunds\": 3, \"numberOfOrders\": 3}, {\"supplierId\": 1616, \"name\": \"1616 - Textile & Apparel Manufacturing\", \"numberOfRefunds\": 1, \"numberOfOrders\": 1}, {\"supplierId\": 3708, \"name\": \"3708 - Textile & Apparel Manufacturing\", \"numberOfRefunds\": 0, \"numberOfOrders\": 2}]}]\n",
      "==================================\u001B[1m Ai Message \u001B[0m==================================\n",
      "\n",
      "Here are the top 3 most returned products for supplier 1616, along with alternative suppliers who have less or no returns for each product:\n",
      "\n",
      "1. **Product Code: 673677**\n",
      "   - **Returns by Supplier 1616:** 30 returns\n",
      "   - **Alternative Supplier:** \n",
      "     - Supplier ID: 1646 - Textile & Apparel Manufacturing\n",
      "     - Returns: 0\n",
      "\n",
      "2. **Product Code: 748269**\n",
      "   - **Returns by Supplier 1616:** 11 returns\n",
      "   - **Alternative Supplier:** \n",
      "     - Supplier ID: 3708 - Textile & Apparel Manufacturing\n",
      "     - Returns: 0\n",
      "\n",
      "3. **Product Code: 802023**\n",
      "   - **Returns by Supplier 1616:** 4 returns\n",
      "   - **Alternative Supplier:** \n",
      "     - Supplier ID: 3708 - Textile & Apparel Manufacturing\n",
      "     - Returns: 0\n",
      "\n",
      "These alternative suppliers have reported no returns for the respective products, making them potentially more reliable options.\n"
     ]
    }
   ],
   "execution_count": 30
  },
  {
   "metadata": {},
   "cell_type": "markdown",
   "source": [
    "## MCP Integration\n",
    "Of course, we can also use MCP to connect tools"
   ],
   "id": "e8d315b8bd44076f"
  },
  {
   "metadata": {},
   "cell_type": "code",
   "outputs": [],
   "execution_count": null,
   "source": "#TODO - This is super easy see https://github.com/langchain-ai/langchain-mcp-adapters?tab=readme-ov-file#client-1",
   "id": "b09aeb38c031c4c7"
  }
 ],
 "metadata": {
  "kernelspec": {
   "display_name": "Python 3",
   "language": "python",
   "name": "python3"
  },
  "language_info": {
   "codemirror_mode": {
    "name": "ipython",
    "version": 2
   },
   "file_extension": ".py",
   "mimetype": "text/x-python",
   "name": "python",
   "nbconvert_exporter": "python",
   "pygments_lexer": "ipython2",
   "version": "2.7.6"
  }
 },
 "nbformat": 4,
 "nbformat_minor": 5
}
