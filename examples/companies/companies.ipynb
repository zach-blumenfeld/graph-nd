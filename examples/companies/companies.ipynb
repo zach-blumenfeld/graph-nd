{
 "cells": [
  {
   "cell_type": "markdown",
   "id": "638e2f5f-34fe-40f4-b5fc-473196961054",
   "metadata": {
    "id": "638e2f5f-34fe-40f4-b5fc-473196961054"
   },
   "source": [
    "# Using Graph-ND with Pre-Existing Graphs\n",
    "\n",
    "[![Open In Colab](https://colab.research.google.com/assets/colab-badge.svg)](https://colab.research.google.com/github/zach-blumenfeld/graph-nd/blob/main/examples/companies/companies.ipynb)\n",
    "\n",
    "graph-nd is designed for end-to-end GraphRAG workflows that include building graphs from scratch: empty graph -> mapping source data -> agentic GraphRAG.\n",
    "\n",
    "However, if you already have an existing graph database—with data loaded through external workflows—you can still leverage graph-nd's powerful GraphRAG capabilities on it, even with read-only access.\n",
    "\n",
    "To get started, you just need to use the `GraphRAG.schema.from_existing_graph()` method. After which you can access pre-built GraphRAG agents and optionally build on them with expert tools as needed.\n",
    "\n",
    "Example below.\n"
   ]
  },
  {
   "metadata": {
    "id": "63c6ecbea75a3b34"
   },
   "cell_type": "markdown",
   "source": [
    "## Example Graph DB\n",
    "We will demonstrate on the Neo4j Labs companies DB - a  graph created without graph-nd that contains companies, associated industries, people that work at or invested in the companies, and articles that report on those companies. The data is sourced from a small subset (250k entities) of [Diffbot's](https://diffbot.com/) global Knowledge Graph (50bn entities).\n",
    "\n",
    "The database is publicly available with a read-only user. You can explore the data at [https://demo.neo4jlabs.com:7473/browser/](https://demo.neo4jlabs.com:7473/browser/).\n",
    "\n",
    "![Companies Graph](https://github.com/zach-blumenfeld/graph-nd/blob/main/examples/companies/img/companies-schema.png?raw=1)\n"
   ],
   "id": "63c6ecbea75a3b34"
  },
  {
   "cell_type": "markdown",
   "source": [
    "## Setup"
   ],
   "metadata": {
    "id": "XisF5QT9fcpA"
   },
   "id": "XisF5QT9fcpA"
  },
  {
   "cell_type": "code",
   "source": [
    "%%capture\n",
    "%pip install graph-nd"
   ],
   "metadata": {
    "id": "Ty6BUtt9fbEM"
   },
   "id": "Ty6BUtt9fbEM",
   "execution_count": null,
   "outputs": []
  },
  {
   "metadata": {
    "id": "47bde97b389c567a"
   },
   "cell_type": "code",
   "source": [
    "from neo4j import GraphDatabase\n",
    "\n",
    "#connection details\n",
    "uri = \"neo4j+s://demo.neo4jlabs.com\"\n",
    "username = \"companies\"\n",
    "password = \"companies\"\n",
    "\n",
    "db_client = GraphDatabase.driver(uri, auth=(username, password))\n",
    "\n",
    "#test connection\n",
    "db_client.execute_query('RETURN 1')"
   ],
   "id": "47bde97b389c567a",
   "outputs": [],
   "execution_count": null
  },
  {
   "metadata": {
    "id": "e6550c9fff161497"
   },
   "cell_type": "markdown",
   "source": [
    "## Create GraphRAG Object"
   ],
   "id": "e6550c9fff161497"
  },
  {
   "metadata": {
    "id": "ba817ef55270649d"
   },
   "cell_type": "code",
   "source": [
    "from dotenv import load_dotenv\n",
    "import os\n",
    "from graph_nd import GraphRAG\n",
    "from getpass import getpass\n",
    "from langchain_openai import OpenAIEmbeddings, ChatOpenAI\n",
    "\n",
    "load_dotenv('nb.env', override=True) # for OPENAI_API_KEY\n",
    "if not os.getenv(\"OPENAI_API_KEY\"):\n",
    "    os.environ['OPENAI_API_KEY'] = getpass(\"Please enter your OpenAI API key: \")\n",
    "\n",
    "llm = ChatOpenAI(model=\"gpt-4o\", temperature=0.0)\n",
    "embedding_model = OpenAIEmbeddings(model='text-embedding-ada-002')\n",
    "\n",
    "#instantiate graphrag\n",
    "graphrag = GraphRAG(db_client, llm, embedding_model)\n"
   ],
   "id": "ba817ef55270649d",
   "outputs": [],
   "execution_count": null
  },
  {
   "metadata": {
    "id": "a89472045b85b358"
   },
   "cell_type": "markdown",
   "source": [
    "## Get Schema and Have Agentic GraphRAG (2 lines of code :) )\n",
    "\n",
    "Note that you may get some warnings here.  Graphs created externally will not perfectly conform to graph-nd `GraphSchema` model assumptions.  This method will construct a valid graph schema and produce warnings where things are not well optimized or need to be excluded due to modeling assumption or limitations."
   ],
   "id": "a89472045b85b358"
  },
  {
   "metadata": {
    "id": "f026c89f204f4ee8"
   },
   "cell_type": "code",
   "source": [
    "graphrag.schema.from_existing_graph()\n",
    "print(graphrag.schema.prompt_str())"
   ],
   "id": "f026c89f204f4ee8",
   "outputs": [],
   "execution_count": null
  },
  {
   "metadata": {
    "id": "eba5b7f645b411c0"
   },
   "cell_type": "code",
   "source": [
    "graphrag.agent(\"what articles mention GPUs?\")"
   ],
   "id": "eba5b7f645b411c0",
   "outputs": [],
   "execution_count": null
  },
  {
   "metadata": {
    "id": "77bc3d0d0e386060"
   },
   "cell_type": "code",
   "source": [
    "graphrag.agent(\"How many people exist who have been both a board member and  CEOs at some point? even of separate orgs?\")"
   ],
   "id": "77bc3d0d0e386060",
   "outputs": [],
   "execution_count": null
  },
  {
   "metadata": {
    "id": "b53520a27da1c428"
   },
   "cell_type": "markdown",
   "source": [
    "## Additional Arguments & Usage Details\n",
    "`schema.from_existing_graph()` has various optional arguments for customizing the schema:\n",
    "\n",
    "- `exclude_prefixes`: A tuple of strings containing prefixes. Node labels, relationship types, or properties\n",
    "    starting with any of these prefixes are excluded, defaults to (\"_\", \" \").\n",
    "- `exclude_exact_matches`: An optional set of exact node labels, relationship types, or property names to\n",
    "    exclude from the schema, defaults to None if not provided.\n",
    "- `text_embed_index_map`: An optional dictionary mapping {text_embedding_index_name: text_property}\n",
    "    where text_property is a node property that is used to calculate the embedding. This is required to use\n",
    "    text embedding search fields for nodes. If not provided, no text embedding search fields will be included in the schema.\n",
    "    Defaults to None.\n",
    "- `parallel_rel_ids`: An optional dictionary mapping relationship\n",
    "    types to their parallel relationship ID property names: `{rel_type: property_name}`. This is only required if the\n",
    "    user wishes to ingest more data while maintaining parallel relationships for specific node types\n",
    "    (more than one instance of a relationship type existing between the same start and end nodes). Defaults to None.\n",
    "- `description`: Optional description of the generated graph schema. Exposed to LLM when accessing the graph through GraqphRAG"
   ],
   "id": "b53520a27da1c428"
  },
  {
   "metadata": {
    "id": "a9bb4bafab127b27"
   },
   "cell_type": "markdown",
   "source": [
    "## Get Schema With Text Embedding Index for Chunk\n",
    "Below is an example of including text embedding indexes to inform GraphRAG node search"
   ],
   "id": "a9bb4bafab127b27"
  },
  {
   "metadata": {
    "id": "34979c01377f8a23"
   },
   "cell_type": "code",
   "source": [
    "graphrag.schema.from_existing_graph(text_embed_index_map={'news':'text'})"
   ],
   "id": "34979c01377f8a23",
   "outputs": [],
   "execution_count": null
  },
  {
   "metadata": {
    "id": "47ea0ce8bb7c3b5d"
   },
   "cell_type": "code",
   "source": [
    "graphrag.agent(\"What chunks mention high tech stuff? use semantic search\")"
   ],
   "id": "47ea0ce8bb7c3b5d",
   "outputs": [],
   "execution_count": null
  },
  {
   "metadata": {
    "id": "f533e1e94ec14234"
   },
   "cell_type": "markdown",
   "source": [
    "## Further Customizations & Tools\n",
    "See the [retail example](../retail/retail-example.ipynb) to see how you can add expert tools and create customizable Langgraph agents from this point."
   ],
   "id": "f533e1e94ec14234"
  },
  {
   "metadata": {
    "id": "b1d4d0e2fc553be"
   },
   "cell_type": "markdown",
   "source": [
    "## More Details on `GraphSchema`\n",
    "Below are more details on how the graph-nd internal `GraphSchema` works and the modeling assumptions it makes.  It has specific opinions and limitations to help with automated retrieval tool design and data loading - though these are subject to change in the future as needed.\n",
    "\n",
    "### `GraphSchema` Assumptions & Limitations\n",
    "\n",
    "1. A GraphSchema is composed of three elements\n",
    "    1. an optional description\n",
    "    2. a list of NodeSchemas\n",
    "    3. a list of relationshipSchemas\n",
    "2. There can be only one node schema per node label and one relationship schema per relationship type.\n",
    "3. Both nodes and relationships can have any number of properties\n",
    "4. Only properties with types `ALLOWED_PROPERTY_TYPES = {\"STRING\", \"INTEGER\", \"FLOAT\", \"BOOLEAN\", \"DATE\", \"DATE_TIME\"}` can be considered\n",
    "5. No methods in `graphrag.schema.*` assume any write permissions to the database (technically only [`reader`](https://neo4j.com/docs/operations-manual/current/authentication-authorization/built-in-roles/#access-control-built-in-roles-reader) permissions are assumed), meaning that no indexes or constraints can be set while creating schemas. They are instead checked and created if needed when writing data via `graphrag.data.*` methods. In general ONLY `graphrag.data.*` methods attempt writes and index/constraint setting.\n",
    "\n",
    "#### Node Schema Assumptions and Limitations\n",
    "1. Every node label must have one id property (non-composite) which is assumed to uniquely identify nodes of that label.\n",
    "    - This id property is required whenever loading nodes and relationships regardless of source (structured or unstructured)\n",
    "    - in general elements (nodes and rels) are merged on unique id property(ies).\n",
    "2. Vector and full text indexes are supported per node label through `searchFields` owned by the individual `NodeSchema`\n",
    "3. Multi-label and multi-property vector/fulltext indexes are not currently supported. You can only use vector and full text indexes that are set on one node label and one node property.\n",
    "\n",
    "#### Relationship Schema Assumptions and Limitations\n",
    "1.  Vector and full text indexes are not currently supported for relationship properties\n",
    "2.  relationships have a list of one or more `queryPatterns`. A `queryPattern` is composed of a start and end node label.  The `queryPatterns` in a `RelationshipSchema` dictate which node labels a relationship can exist in between.\n",
    "3. relationships have an *optional* id property which if provided is used to identify relationships for the purpose of maintaining parallel relationships (more than one instance of relationships of the same type existing between the same start and nodes).  If this id isn't provided repeat instances will be merged into the same single relationship when loading data.\n",
    "\n",
    "\n",
    "### `GraphSchema` Opinions When Using `graphrag.schema.from_existing_graph()`\n",
    "\n",
    "\n",
    "#### Naming Conventions & Exclusions\n",
    "1. By default properties, labels and rel types leading with an underscore `_` or space ` ` are ignored.\n",
    "    - Users can customize prefix, and exact match exclusion criteria across properties, labels, and relationships\n",
    "    - `INFO` message on exclusion\n",
    "\n",
    "#### Node Label & Id\n",
    "1. multi-labels are not considered.  If multi-labels are encountered they are treated as separate nodes.\n",
    "2. node ids should have a non-composite uniqueness constraint on a property of `ALLOWED_PROPERTY_TYPES`. if multiple found then use `tie-break` logic. If non are found then the following fallback methods are tried in order.\n",
    "     - `WARNING` must be thrown explaining fallback choices, not falling in `ALLOWED_PROPERTY_TYPES`, and tie breaking if it happens\n",
    "     - fallback methods\n",
    "       1. Look for properties with range indexes.  if found, choose the one with highest unique count. If ties, use `tie-break` logic\n",
    "       2. Else find properties with highest unique count. If ties, use `tie-break` logic\n",
    "       3. Else if no properties the node label must be ignored\n",
    "     - `tie-break` logic: choose the shortest named property (i.e. between a property \"id\" and \"name\" - \"id\" would be chosen since it only has 2 chars vs 4). If same length choose first name in ascending sort.\n",
    "\n",
    "#### Node Properties\n",
    "1. properties which have a vector index will be excluded from property lists. This is to avoid them being returned to LLMs in retrieval and blowing context windows. They can be taken into account later with search fields which is a separate part of graph schema to inform vector search & retrieval\n",
    "    - These are silently excluded\n",
    "2. Only properties with types `ALLOWED_PROPERTY_TYPES` can be considered\n",
    "\n",
    "#### Node Search Fields\n",
    "1. Only FULLTEXT and TEXTEMBEDDING will be considered\n",
    "2. for full text indexes it must be true that the property is included (from above) and the property has a full text index on it\n",
    "3. For TEXTEMBEDDING this is more complicated because Neo4j does not associate the text embedding property to the field it was calculated from\n",
    "    1. The ser must specify what indexes and pproeprties to include as text embedding search fields through the `text_embed_index_map` argument.\n",
    "    2. If the vector index corresponding isn't found an `ERROR` is thrown\n",
    "\n",
    "#### Relationship TYPE and Id\n",
    "1. Only Relationship Types between included nodes (above) will be included\n",
    "2. Relationship Ids (for parallel relationships) cannot be inferred and will be assumed `None` unless users provide them through the `parallel_rel_ids` argument.\n",
    "\n",
    "#### Relationship Properties\n",
    "1. properties which have a vector index will be excluded from property lists. This is to avoid them being returned to LLMs in retrieval and blowing context windows.\n",
    "     - These are silently excluded\n",
    "2. Only properties with types `ALLOWED_PROPERTY_TYPES` can be considered\n",
    "\n",
    "\n"
   ],
   "id": "b1d4d0e2fc553be"
  }
 ],
 "metadata": {
  "kernelspec": {
   "display_name": "Python 3 (ipykernel)",
   "language": "python",
   "name": "python3"
  },
  "language_info": {
   "codemirror_mode": {
    "name": "ipython",
    "version": 3
   },
   "file_extension": ".py",
   "mimetype": "text/x-python",
   "name": "python",
   "nbconvert_exporter": "python",
   "pygments_lexer": "ipython3",
   "version": "3.11.6"
  },
  "colab": {
   "provenance": []
  }
 },
 "nbformat": 4,
 "nbformat_minor": 5
}
