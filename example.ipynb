{
 "cells": [
  {
   "metadata": {
    "ExecuteTime": {
     "end_time": "2025-03-16T17:10:11.973308Z",
     "start_time": "2025-03-16T17:10:11.965635Z"
    }
   },
   "cell_type": "code",
   "source": [
    "from dotenv import load_dotenv\n",
    "import os\n",
    "\n",
    "load_dotenv('.env', override=True)\n",
    "\n",
    "uri = os.getenv('NEO4J_URI')\n",
    "username = os.getenv('NEO4J_USERNAME')\n",
    "password = os.getenv('NEO4J_PASSWORD')"
   ],
   "id": "47bde97b389c567a",
   "outputs": [],
   "execution_count": 6
  },
  {
   "metadata": {
    "collapsed": true,
    "ExecuteTime": {
     "end_time": "2025-03-16T17:10:18.289201Z",
     "start_time": "2025-03-16T17:10:13.315963Z"
    }
   },
   "cell_type": "code",
   "source": [
    "import os\n",
    "\n",
    "from graphrag import  GraphRAG\n",
    "from neo4j import GraphDatabase\n",
    "from langchain_openai import OpenAIEmbeddings, ChatOpenAI\n",
    "\n",
    "db_client = GraphDatabase.driver(uri, auth=(username, password))\n",
    "embeddings = OpenAIEmbeddings(model='text-embedding-ada-002')\n",
    "llm = ChatOpenAI(model=\"gpt-4o\")\n",
    "\n",
    "\n",
    "#instantiate graph\n",
    "graphrag = GraphRAG(db_client, llm)\n",
    "\n",
    "#get graph schema. Can also define exactly via json/pydantic spec\n",
    "graphrag.schema.infer(\"bart (metro) routes and location description\")\n",
    "\n",
    "#merge data into graph\n",
    "graphrag.data.merge_csv('routes.csv')\n",
    "graphrag.data.merge_doc('stations.pdf')\n",
    "#g.data.merge_db_tables(source_client)\n",
    "\n",
    "#GraphRAG Agent Answer Questions\n",
    "graphrag.agent(\"How do I get from Menlo Park to nature?\")\n"
   ],
   "id": "initial_id",
   "outputs": [
    {
     "name": "stdout",
     "output_type": "stream",
     "text": [
      "[Schema] Inferring schema based on: bart (metro) routes and location description\n",
      "Generated schema:\n",
      " description='Graph schema for metro routes and location descriptions, with semantic search support for location descriptions.' nodes=[NodeSchema(description='Node representing a metro station.', id=PropertySchema(description='', name='station_id', type='STRING'), label='Station', properties=[PropertySchema(description='', name='name', type='STRING'), PropertySchema(description='', name='location_description', type='STRING')], search_fields=[SearchFieldSchema(description='Text embedding for semantic search on station location descriptions.', name='location_description_textembedding', type='TEXT_EMBEDDING', calculatedFrom='location_description')]), NodeSchema(description='Node representing a metro route.', id=PropertySchema(description='', name='route_id', type='STRING'), label='Route', properties=[PropertySchema(description='', name='name', type='STRING')], search_fields=[])] relationships=[RelationshipSchema(description='Relationship representing a station being part of a route.', id=None, type='PART_OF', queryPatterns=[QueryPattern(description='', startNode='Station', endNode='Route')], properties=[PropertySchema(description='', name='position_on_route', type='INTEGER')])]\n",
      "[Data] Merging data from CSV: routes.csv\n",
      "[Data] Merging data from document: stations.pdf\n",
      "[Agent] Handling query: How do I get from Menlo Park to nature?\n"
     ]
    },
    {
     "data": {
      "text/plain": [
       "'Hi!!! - I am useless right now!'"
      ]
     },
     "execution_count": 7,
     "metadata": {},
     "output_type": "execute_result"
    }
   ],
   "execution_count": 7
  }
 ],
 "metadata": {
  "kernelspec": {
   "display_name": "Python 3",
   "language": "python",
   "name": "python3"
  },
  "language_info": {
   "codemirror_mode": {
    "name": "ipython",
    "version": 2
   },
   "file_extension": ".py",
   "mimetype": "text/x-python",
   "name": "python",
   "nbconvert_exporter": "python",
   "pygments_lexer": "ipython2",
   "version": "2.7.6"
  }
 },
 "nbformat": 4,
 "nbformat_minor": 5
}
