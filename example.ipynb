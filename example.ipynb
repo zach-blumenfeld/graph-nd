{
 "cells": [
  {
   "metadata": {
    "ExecuteTime": {
     "end_time": "2025-03-16T17:10:11.973308Z",
     "start_time": "2025-03-16T17:10:11.965635Z"
    }
   },
   "cell_type": "code",
   "source": [
    "from dotenv import load_dotenv\n",
    "import os\n",
    "\n",
    "load_dotenv('.env', override=True)\n",
    "\n",
    "uri = os.getenv('NEO4J_URI')\n",
    "username = os.getenv('NEO4J_USERNAME')\n",
    "password = os.getenv('NEO4J_PASSWORD')"
   ],
   "id": "47bde97b389c567a",
   "outputs": [],
   "execution_count": 6
  },
  {
   "metadata": {
    "collapsed": true,
    "ExecuteTime": {
     "end_time": "2025-03-16T17:12:41.911790Z",
     "start_time": "2025-03-16T17:12:35.695600Z"
    }
   },
   "cell_type": "code",
   "source": [
    "import os\n",
    "\n",
    "from graphrag import  GraphRAG\n",
    "from neo4j import GraphDatabase\n",
    "from langchain_openai import OpenAIEmbeddings, ChatOpenAI\n",
    "\n",
    "db_client = GraphDatabase.driver(uri, auth=(username, password))\n",
    "embeddings = OpenAIEmbeddings(model='text-embedding-ada-002')\n",
    "llm = ChatOpenAI(model=\"gpt-4o\")\n",
    "\n",
    "\n",
    "#instantiate graph\n",
    "graphrag = GraphRAG(db_client, llm)\n",
    "\n",
    "#get graph schema. Can also define exactly via json/pydantic spec\n",
    "graphrag.schema.infer(\"bart (metro) routes and location description\")\n",
    "graphrag.schema.export('schema.json')\n",
    "#merge data into graph\n",
    "graphrag.data.merge_csv('routes.csv')\n",
    "graphrag.data.merge_doc('stations.pdf')\n",
    "#g.data.merge_db_tables(source_client)\n",
    "\n",
    "#GraphRAG Agent Answer Questions\n",
    "graphrag.agent(\"How do I get from Menlo Park to nature?\")\n"
   ],
   "id": "initial_id",
   "outputs": [
    {
     "name": "stdout",
     "output_type": "stream",
     "text": [
      "[Schema] Inferring schema based on: bart (metro) routes and location description\n",
      "Generated schema:\n",
      " description='This schema represents the BART (metro) routes and location details for efficient querying, searching, and semantic analysis.' nodes=[NodeSchema(description='Represents a BART route with a unique identifier and name.', id=PropertySchema(description='', name='routeId', type='STRING'), label='Route', properties=[PropertySchema(description='', name='name', type='STRING')], search_fields=[SearchFieldSchema(description='Facilitates semantic search based on route names.', name='name_textembedding', type='TEXT_EMBEDDING', calculatedFrom='name')]), NodeSchema(description='Represents a metro station or location with a unique identifier and name.', id=PropertySchema(description='', name='locationId', type='STRING'), label='Location', properties=[PropertySchema(description='', name='name', type='STRING'), PropertySchema(description='', name='description', type='STRING')], search_fields=[SearchFieldSchema(description='Facilitates semantic search based on location names.', name='name_textembedding', type='TEXT_EMBEDDING', calculatedFrom='name'), SearchFieldSchema(description='Facilitates semantic search based on detailed descriptions of the location.', name='description_textembedding', type='TEXT_EMBEDDING', calculatedFrom='description')])] relationships=[RelationshipSchema(description='', id=None, type='CONNECTS', queryPatterns=[QueryPattern(description='Defines a direct connection between two metro locations.', startNode='Location', endNode='Location')], properties=[PropertySchema(description='Duration of travel between the two connected locations.', name='duration', type='INTEGER'), PropertySchema(description='Distance between two connected locations.', name='distance', type='INTEGER')])]\n",
      "[Schema] Schema successfully exported to schema.json\n",
      "[Data] Merging data from CSV: routes.csv\n",
      "[Data] Merging data from document: stations.pdf\n",
      "[Agent] Handling query: How do I get from Menlo Park to nature?\n"
     ]
    },
    {
     "data": {
      "text/plain": [
       "'Hi!!! - I am useless right now!'"
      ]
     },
     "execution_count": 9,
     "metadata": {},
     "output_type": "execute_result"
    }
   ],
   "execution_count": 9
  }
 ],
 "metadata": {
  "kernelspec": {
   "display_name": "Python 3",
   "language": "python",
   "name": "python3"
  },
  "language_info": {
   "codemirror_mode": {
    "name": "ipython",
    "version": 2
   },
   "file_extension": ".py",
   "mimetype": "text/x-python",
   "name": "python",
   "nbconvert_exporter": "python",
   "pygments_lexer": "ipython2",
   "version": "2.7.6"
  }
 },
 "nbformat": 4,
 "nbformat_minor": 5
}
